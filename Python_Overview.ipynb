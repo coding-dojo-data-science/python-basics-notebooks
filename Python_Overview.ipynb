{
  "nbformat": 4,
  "nbformat_minor": 0,
  "metadata": {
    "colab": {
      "name": "Python Overview.ipynb",
      "provenance": [],
      "include_colab_link": true
    },
    "kernelspec": {
      "name": "python3",
      "display_name": "Python 3"
    },
    "language_info": {
      "name": "python"
    }
  },
  "cells": [
    {
      "cell_type": "markdown",
      "metadata": {
        "id": "view-in-github",
        "colab_type": "text"
      },
      "source": [
        "<a href=\"https://colab.research.google.com/github/coding-dojo-data-science/python-basics-notebooks/blob/main/Python_Overview.ipynb\" target=\"_parent\"><img src=\"https://colab.research.google.com/assets/colab-badge.svg\" alt=\"Open In Colab\"/></a>"
      ]
    },
    {
      "cell_type": "markdown",
      "source": [
        "# Functional Programming\n",
        "Python comes with many functions included.  A function is a tool that DOES something.  Oftentimes, but not always, a function takes something in and returns something.  Function does its thing when it is called.  You call a function by placing parentheses at the end of its name.\n",
        "\n",
        "For instance:\n",
        "\n",
        "`max(a, b)`\n",
        "\n",
        "Will return whichever is larger, a or b.\n",
        "\n",
        "This is called **Evaluating**.  Python **evaluates** an expression when it reads it and does something with it.\n",
        "\n",
        "When a function produces an output, we call this a **return**.\n",
        "\n",
        "Why Python **evaluates** `max(1, 2)` the function **returns** the larger value, `2`."
      ],
      "metadata": {
        "id": "ChKUP833KqTz"
      }
    },
    {
      "cell_type": "code",
      "execution_count": null,
      "metadata": {
        "colab": {
          "base_uri": "https://localhost:8080/"
        },
        "id": "tC41rJoSINQh",
        "outputId": "76a9f580-635f-4c4a-d305-4393c27bc14f"
      },
      "outputs": [
        {
          "output_type": "execute_result",
          "data": {
            "text/plain": [
              "7"
            ]
          },
          "metadata": {},
          "execution_count": 3
        }
      ],
      "source": [
        "# Run this cell to what value the function returns\n",
        "\n",
        "max(5, 7)"
      ]
    },
    {
      "cell_type": "markdown",
      "source": [
        "When Python evaluates `min()`, it will return the smallest number."
      ],
      "metadata": {
        "id": "_6Sv3yavTi68"
      }
    },
    {
      "cell_type": "code",
      "source": [
        "# Run this cell to return the minimum of 3 and 2.\n",
        "\n",
        "min(3, 2)"
      ],
      "metadata": {
        "colab": {
          "base_uri": "https://localhost:8080/"
        },
        "id": "rvX6eGNvTVVt",
        "outputId": "2e121941-fa95-4899-f0c1-00a6b43aa018"
      },
      "execution_count": null,
      "outputs": [
        {
          "output_type": "execute_result",
          "data": {
            "text/plain": [
              "2"
            ]
          },
          "metadata": {},
          "execution_count": 4
        }
      ]
    },
    {
      "cell_type": "markdown",
      "source": [
        "We can combine functions by nesting them inside each other.  First Python will evaluate the inner functions, then, using what those return, it will evaluate the results using the outer function.\n",
        "\n"
      ],
      "metadata": {
        "id": "bCDyR8k9Tuhq"
      }
    },
    {
      "cell_type": "code",
      "source": [
        "# Run this cell to return the maximum of the minimum of 10 and 3 and the minimum of 5 and 7\n",
        "\n",
        "max(min(10,3), min(5,7))"
      ],
      "metadata": {
        "colab": {
          "base_uri": "https://localhost:8080/"
        },
        "id": "zrXd0Z9iTZek",
        "outputId": "d3b6e29f-d059-4414-d24f-fa0766adceba"
      },
      "execution_count": null,
      "outputs": [
        {
          "output_type": "execute_result",
          "data": {
            "text/plain": [
              "5"
            ]
          },
          "metadata": {},
          "execution_count": 5
        }
      ]
    },
    {
      "cell_type": "markdown",
      "source": [
        "# Object Oriented Programming\n",
        "\n",
        "While Python supports functional programming, it is naturally an object oriented language.  In Python, everything is treated as an object.  Objects each have special rules and properties.  They also often have special functions inside them that are special to that object.  These are called ‘methods’.  Even functions are objects!\n",
        "\n",
        "For instance, one kind of object is a string.  A string is text.  You can create a string by putting quotation marks around it.  Either single or double quotes will work, as long as you are consistent.\n",
        "\n",
        "‘Hello’ is a string.\n",
        "\n",
        "A method for an object is called by typing a period (.) and then the name of the method followed by parentheses.  \n",
        "\n",
        "One special method of strings is `.lower()`.  This returns a new string that is the same as the original string, but with all of the letters in lowercase."
      ],
      "metadata": {
        "id": "y9HKJ6-lUOyF"
      }
    },
    {
      "cell_type": "code",
      "source": [
        "# Run this cell to return a lower case string\n",
        "\n",
        "'Hello'.lower()"
      ],
      "metadata": {
        "colab": {
          "base_uri": "https://localhost:8080/",
          "height": 36
        },
        "id": "wphi-Y6eT6-O",
        "outputId": "918f4532-c28f-4ccb-f74f-c16b19396c54"
      },
      "execution_count": null,
      "outputs": [
        {
          "output_type": "execute_result",
          "data": {
            "text/plain": [
              "'hello'"
            ],
            "application/vnd.google.colaboratory.intrinsic+json": {
              "type": "string"
            }
          },
          "metadata": {},
          "execution_count": 6
        }
      ]
    },
    {
      "cell_type": "code",
      "source": [
        "# Run this cell to return an upper case string\n",
        "\n",
        "'Hello'.upper()"
      ],
      "metadata": {
        "colab": {
          "base_uri": "https://localhost:8080/",
          "height": 36
        },
        "id": "8rd610ATUpWU",
        "outputId": "501e5988-d92b-4954-f0c6-514682dc9e90"
      },
      "execution_count": null,
      "outputs": [
        {
          "output_type": "execute_result",
          "data": {
            "text/plain": [
              "'HELLO'"
            ],
            "application/vnd.google.colaboratory.intrinsic+json": {
              "type": "string"
            }
          },
          "metadata": {},
          "execution_count": 7
        }
      ]
    },
    {
      "cell_type": "markdown",
      "source": [
        "# Variables\n",
        "\n",
        "We lose our objects if we don’t set them to a variable.  A variable is a pointer to an object.  The actual location of an object is in computer memory and Python needs a way to find the object again if we want to use it later.  We point a variable at an object with the equals sign (=).  This is called 'Declaring' a variable.\n",
        "\n",
        "(It’s important to remember that a single equals sign assigns a variable, it does NOT mean that two things are equal in value.  You will learn another way to say two things have the same value.)\n",
        "\n",
        "If an object does not have a variable that points to it, Python will delete it from memory.  It’s very important to save your objects with variables if you want to use them later!\n",
        "\n",
        "`print()` is a function that displays whatever is passed to it.  However, it does not return anything.\n"
      ],
      "metadata": {
        "id": "GX66DLZ0U3fs"
      }
    },
    {
      "cell_type": "markdown",
      "source": [
        "## Saving an Object with a Variable Pointer\n",
        "\n",
        "We can save a value in a variable and use `print()` to look at the value that variable currently points to.  \n",
        "\n",
        "This is called **Declaring** a variable.\n",
        "\n",
        "In the code below we will declare a variable, `a` and point it to the integer, `9`."
      ],
      "metadata": {
        "id": "1lPfxcCNoiPd"
      }
    },
    {
      "cell_type": "code",
      "source": [
        "# Run this cell to declare the variable a print what the variable 'a' points to.\n",
        "\n",
        "# Declare a variable, a, and point it to 9\n",
        "a = 9\n",
        "\n",
        "# Print the value that the variable a points to.\n",
        "print(a)"
      ],
      "metadata": {
        "colab": {
          "base_uri": "https://localhost:8080/"
        },
        "id": "7DS1i6ExVDVT",
        "outputId": "907aea94-82a6-44e4-c3e9-98cd71801658"
      },
      "execution_count": null,
      "outputs": [
        {
          "output_type": "stream",
          "name": "stdout",
          "text": [
            "9\n"
          ]
        }
      ]
    },
    {
      "cell_type": "markdown",
      "source": [
        "## Your turn!\n",
        "\n",
        "Declare a new variable, `b` and point it to the number `14`."
      ],
      "metadata": {
        "id": "5iI5jP9fYkZQ"
      }
    },
    {
      "cell_type": "code",
      "source": [
        "# Declare a variable, b, and point it to the number 14\n",
        "\n",
        "# <Your Code Here>"
      ],
      "metadata": {
        "id": "nrnJRKCeYjP7"
      },
      "execution_count": null,
      "outputs": []
    },
    {
      "cell_type": "markdown",
      "source": [
        "Now we are going to use the variables `a` and `b` that we declared in the previous cells.  Make sure that you ran those code cells or you will get an error.\n",
        "\n",
        "`max(a, b)` will return the maximum of the values that `a` and `b` point to.  That returned value will then be stored when we declare the variable `c`."
      ],
      "metadata": {
        "id": "vFp40FDGX4k7"
      }
    },
    {
      "cell_type": "code",
      "source": [
        "# Run this cell to declare the variable c and print value that b points to.\n",
        "\n",
        "# Declare a variable to be the value that max(a,b) returns.  Remember that\n",
        "# We declared these variables in previous cells.\n",
        "c = max(a, b)\n",
        "\n",
        "# Print the value that c points to.\n",
        "print(c)"
      ],
      "metadata": {
        "colab": {
          "base_uri": "https://localhost:8080/"
        },
        "id": "rOt8dTbbWREd",
        "outputId": "da3393dd-37a7-4d93-fbde-9965ea2426e8"
      },
      "execution_count": null,
      "outputs": [
        {
          "output_type": "stream",
          "name": "stdout",
          "text": [
            "14\n"
          ]
        }
      ]
    },
    {
      "cell_type": "markdown",
      "source": [
        "## Your Turn\n",
        "\n",
        "Try using the `-` operator to evaluate the difference between c and b.  Be sure to print the result."
      ],
      "metadata": {
        "id": "G9erm6TcY7Oj"
      }
    },
    {
      "cell_type": "code",
      "source": [
        "# Run this cell to see what the difference between b and a is.\n",
        "\n",
        "print(c - b)"
      ],
      "metadata": {
        "colab": {
          "base_uri": "https://localhost:8080/"
        },
        "id": "Z6FgrtZ8WtJ9",
        "outputId": "158b1a64-6d80-4bd4-e63c-13fba9f6d896"
      },
      "execution_count": null,
      "outputs": [
        {
          "output_type": "stream",
          "name": "stdout",
          "text": [
            "5\n"
          ]
        }
      ]
    },
    {
      "cell_type": "markdown",
      "source": [
        "# String methods\n",
        "\n",
        "Some objects, like strings, have special functions just for them.  These special functions are called **methods** and are called in a slightly different way.\n",
        "\n",
        "The code below will create 2 different strings.  `d` will be declared to point to the string `hello` and `e` will be declared to point to the string `HELLO`.\n",
        "\n",
        "`.upper()` is an example of a string method and will use the string stored in `d` to create a new string with the same letters, but capitalized.  We will declare a new variable, `e` to point to that new, upper case string."
      ],
      "metadata": {
        "id": "Yg1BjaqAZIWU"
      }
    },
    {
      "cell_type": "code",
      "source": [
        "# Does .upper() return a value or change a value in place?\n",
        "\n",
        "d = 'hello'\n",
        "e = d.upper()\n",
        "\n",
        "print(d)\n",
        "print(e)"
      ],
      "metadata": {
        "colab": {
          "base_uri": "https://localhost:8080/",
          "height": 73
        },
        "id": "8MKn_Pu-Wz_m",
        "outputId": "6069a49a-affb-411d-9f97-5be82d4f6dd2"
      },
      "execution_count": null,
      "outputs": [
        {
          "output_type": "stream",
          "name": "stdout",
          "text": [
            "hello\n",
            "HELLO\n"
          ]
        },
        {
          "output_type": "execute_result",
          "data": {
            "text/plain": [
              "'hello'"
            ],
            "application/vnd.google.colaboratory.intrinsic+json": {
              "type": "string"
            }
          },
          "metadata": {},
          "execution_count": 16
        }
      ]
    },
    {
      "cell_type": "markdown",
      "source": [
        "`.upper()` RETURNS a value, it does not change a value in place.  When we called `d.upper()`, `d` did not change, but a NEW string was returned and set to `e`.  We set `e` to point to the new upper case string.  `d` was still all lower case.  **Some methods change an object in place and some methods return a new object**.  As you get to know the zoo of objects that make up Python, you will learn about the special rules for each one.  You will learn more about methods in a future lesson"
      ],
      "metadata": {
        "id": "XiCMwD9DXdWU"
      }
    },
    {
      "cell_type": "markdown",
      "source": [
        "# Summary\n",
        "Python is a very popular programming language for data scientists.  It supports both functional programming and object oriented programming and can mix the two together.  Functions do something, while objects are things with special rules and behaviors.  Variables point to objects and any object without a variable will get deleted from memory."
      ],
      "metadata": {
        "id": "L-vLSG4YXhUk"
      }
    },
    {
      "cell_type": "code",
      "source": [
        ""
      ],
      "metadata": {
        "id": "Bd22AJGAXK6U"
      },
      "execution_count": null,
      "outputs": []
    }
  ]
}