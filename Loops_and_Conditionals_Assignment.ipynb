{
  "nbformat": 4,
  "nbformat_minor": 0,
  "metadata": {
    "colab": {
      "name": "Loops and Conditionals Assignment",
      "provenance": [],
      "collapsed_sections": [],
      "include_colab_link": true
    },
    "kernelspec": {
      "name": "python3",
      "display_name": "Python 3"
    },
    "language_info": {
      "name": "python"
    }
  },
  "cells": [
    {
      "cell_type": "markdown",
      "metadata": {
        "id": "view-in-github",
        "colab_type": "text"
      },
      "source": [
        "<a href=\"https://colab.research.google.com/github/coding-dojo-data-science/python-basics-notebooks/blob/main/Loops_and_Conditionals_Assignment.ipynb\" target=\"_parent\"><img src=\"https://colab.research.google.com/assets/colab-badge.svg\" alt=\"Open In Colab\"/></a>"
      ]
    },
    {
      "cell_type": "markdown",
      "source": [
        "# 👩‍🏫 Organizing Student Test Results 📈\n",
        "\n",
        "In this assignment you will be working with standardized math test scores for students in a pretend secondary school.  The first cells will create the data and your tasks will be analyze it and organize it using loops, conditionals, lists, and dictionaries."
      ],
      "metadata": {
        "id": "jOePcaF_dlTB"
      }
    },
    {
      "cell_type": "markdown",
      "source": [
        "# Student Data\n",
        "for the next three questions, you will be working on the dictionary created in the following cell.\n",
        "\n",
        "This will create a dictionary of students including their grade level and their most recent math test score.\n",
        "\n",
        "The keys are student IDs between 1000 and 2000.\n",
        "The values are a list where the first element is the student grade level and the second element is the math test score."
      ],
      "metadata": {
        "id": "4qCHuR323Ylj"
      }
    },
    {
      "cell_type": "code",
      "source": [
        "# DO NOT CHANGE THE CONTENTS OF THIS CELL!!!\n",
        "\n",
        "import random\n",
        "import itertools\n",
        "random.seed(53)\n",
        "keys = range(1001,2001,1)\n",
        "student_data = {}\n",
        "for i in keys:\n",
        "  m = random.randint(30,100)\n",
        "  l = random.randint(9,12)\n",
        "  student_data[i] = [l,m]\n",
        "\n",
        "for key in keys[:5]: \n",
        "  print(f'Value for key {key} is {student_data[key]}')"
      ],
      "metadata": {
        "id": "Sm9R20iQ3pRT"
      },
      "execution_count": null,
      "outputs": []
    },
    {
      "cell_type": "markdown",
      "source": [
        "You can use the for loop at the following cell to view the content of the dictionary for any number of entries you want by changing the value of `number_entries_you_want_to_print`"
      ],
      "metadata": {
        "id": "U1zRuS7aIKV-"
      }
    },
    {
      "cell_type": "code",
      "source": [
        "# DO NOT CHANGE THE CONTENTS OF THIS CELL!!!\n",
        "\n",
        "number_entries_you_want_to_print = 23\n",
        "for sid in dict(itertools.islice(student_data.items(), number_entries_you_want_to_print)):\n",
        "  values = student_data[sid]\n",
        "  print(f\"student id: {sid}, level: {values[0]} Math: {values[1]}\")"
      ],
      "metadata": {
        "id": "bVeGa0y3imLZ"
      },
      "execution_count": null,
      "outputs": []
    },
    {
      "cell_type": "markdown",
      "source": [
        "# Task 1\n",
        "Use a loop and a conditional statement to print the count of students in the `student_data` dictionary who scored a 90 or higher on the math test.\n",
        "\n",
        "## Hints: \n",
        "\n",
        "- Even though a dictionary is not ordered, you can iterate over it by iterating over it's keys, `dict.keys()`.\n",
        "\n",
        "- Remember the value for each student in the dictionary is a list. The first element of that list is the student's grade level and the second element is their test score.\n",
        "\n",
        "- You'll want to create a variable to keep track of how many times your conditional statement finds a student who scored 90.\n",
        "\n",
        "- Python has a shortcut for adding a number to a variable:\n",
        "\n",
        "  - `counter += number` will add `number` to `counter`\n",
        "\n",
        "\n",
        "If your code works correctly, you should end up with the answer: `168`"
      ],
      "metadata": {
        "id": "jpYoG6dYXHHV"
      }
    },
    {
      "cell_type": "code",
      "source": [
        "# Your Code Here\n",
        "\n"
      ],
      "metadata": {
        "id": "YnTIP03pwRdR"
      },
      "execution_count": null,
      "outputs": []
    },
    {
      "cell_type": "markdown",
      "source": [
        "## Task 2\n",
        "Use the `student_data` dictionary to create a new dictionary, `student_results`.  \n",
        "\n",
        "- The dictionary 'student_results' should have 2 keys: `'passed'`, and `'failed'`.\n",
        "\n",
        "- The values for the key `'passed'` should be a list of the student ids of the students that scored a 60 or higher on the math test.\n",
        "\n",
        "- The values for the key `'failed'` should be a list of the student ids of the students who scored below 60 on the math test.\n",
        "\n",
        "- The keys of `student_data` are the id numbers that should go into the lists.\n",
        "\n",
        "**Hint**\n",
        "- You might want to start by creating the two lists, then adding the lists to the dictionary with the correct keys.\n",
        "\n",
        "**If you've done this correctly:**\n",
        "\n",
        "The length of `student_results['passed']` will be 613 \n",
        "\n",
        "and the length of `student_results['failed']` will be 387.\n"
      ],
      "metadata": {
        "id": "3uBqIrFqyvVh"
      }
    },
    {
      "cell_type": "code",
      "source": [
        "# Your Code Here\n",
        "\n"
      ],
      "metadata": {
        "id": "SxgyToxYw8ZI"
      },
      "execution_count": null,
      "outputs": []
    },
    {
      "cell_type": "markdown",
      "source": [
        "# Optional: Task 3\n",
        "\n",
        "## 😮 Warning, difficult challenge ahead! 😮\n",
        "\n",
        "Remember that the value of a key/value pair in a dictionary can be another dictionary?\n",
        "\n",
        "Create a series of nested dictionaries, or dictionaries inside dictionaries that divide students by grade level and whether they passed the math test (scored 60+).\n",
        "\n",
        "The top level dictionary, `results_by_grade` should divide students by grade level.\n",
        "- The keys to this dictionary should be `[9, 10, 11, 12]`\n",
        "\n",
        "- The values for each of these keys should also be dictionaries.\n",
        "\n",
        "The dictionaries for each grade level should divide students by whether they passed the test or not:\n",
        "- The keys for each of these dictionaries should be `['passed', 'failed']`\n",
        "- The values for each of these keys should be a list of students that passed or failed in the appropriate grade.\n",
        "\n",
        "If you did this correctly, the following code:\n",
        "\n",
        "`print(results_by_grade[11]['passed'][0])` \n",
        "\n",
        "should return:\n",
        "\n",
        "`1003`"
      ],
      "metadata": {
        "id": "jdattlSuXJb9"
      }
    },
    {
      "cell_type": "code",
      "source": [
        "# Your Code Here\n",
        "\n"
      ],
      "metadata": {
        "id": "AtNrOvEyIRlk"
      },
      "execution_count": null,
      "outputs": []
    }
  ]
}