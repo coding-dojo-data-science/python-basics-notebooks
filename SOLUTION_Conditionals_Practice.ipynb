{
  "nbformat": 4,
  "nbformat_minor": 0,
  "metadata": {
    "colab": {
      "provenance": [],
      "collapsed_sections": [],
      "include_colab_link": true
    },
    "kernelspec": {
      "name": "python3",
      "display_name": "Python 3"
    },
    "language_info": {
      "name": "python"
    }
  },
  "cells": [
    {
      "cell_type": "markdown",
      "metadata": {
        "id": "view-in-github",
        "colab_type": "text"
      },
      "source": [
        "<a href=\"https://colab.research.google.com/github/coding-dojo-data-science/python-basics-notebooks/blob/main/SOLUTION_Conditionals_Practice.ipynb\" target=\"_parent\"><img src=\"https://colab.research.google.com/assets/colab-badge.svg\" alt=\"Open In Colab\"/></a>"
      ]
    },
    {
      "cell_type": "markdown",
      "source": [
        "# [SOLUTION] Conditionals in Python \n"
      ],
      "metadata": {
        "id": "0ThdumLVMoVH"
      }
    },
    {
      "cell_type": "markdown",
      "source": [
        "\n",
        "|   Syntax  | Behavior                                                             |                   Example 1            |Example 2|\n",
        "|-----|--------------------------------------------------------------------------------------------|-------------------------------|------------------------------|\n",
        "| ==  | Checks if the value of two operands are equal                                              | `1 == 1` (True)                 | `1 == 2`  (False)              |\n",
        "| !=  | Checks if the value of two operands are not equal                                          | `1 != 1` (False)                | `1 != 2`  (True)               |\n",
        "| >   | Checks if the value of left operand is greater than the value of right operand             | `2 > 1` (True)                  | `1 > 2` (False)                |\n",
        "| <   | Checks if the value of left operand is less than the value of right operand                | `2 < 1 `(False)                 | `1 < 2` (True)                 |\n",
        "| >=  | Checks if the value of left operand is greater than or equal to the value of right operand | `2 >= 2` (True)                 | `1 >= 2` (False)               |\n",
        "| <=  | Checks if the value of left operand is less than or equal to the value of right operand    | `2 <= 2` (True)                 | `1 <= 2` (True)                |\n",
        "| & | Checks that each expression on the left and right are **both** areTrue                            | `(1 <= 2) & (2 >= 3)` (False) | `(1 <= 2) & (2 <= 3)` (True) |\n",
        "| \\|  | Checks if **either** the expression on the left or right is True                               | `(1 >= 2) \\| (2 >= 3)` (False)  | `(1 <= 2) \\| (2 >= 3)` (True)  |\n",
        "| ~ | Reverses the true-false value of the operand                                               | `~ False` (True)              | `~ True` (False)             |\n",
        "\n",
        "\n"
      ],
      "metadata": {
        "id": "1V__E87vk1AY"
      }
    },
    {
      "cell_type": "markdown",
      "source": [
        "# `if` Statements\n",
        "\n",
        "`if`, `else`, and `elif` have 2 parts.  The condition and the action.\n",
        "\n",
        "The condition part comes first and is followed by a `:`\n",
        "\n",
        "\n",
        "For example:\n",
        "`if name == 'Jane Doe':`\n",
        "\n",
        "The action comes next and is indented.\n",
        "\n",
        "For example:\n",
        "\n"
      ],
      "metadata": {
        "id": "VRnZ_3jvQS6v"
      }
    },
    {
      "cell_type": "code",
      "source": [
        "name = 'Jane Doe'\n",
        "\n",
        "if name == 'Jane Doe': # Notice the double == is for comparison\n",
        "\n",
        "  print('Hello, Jane!')"
      ],
      "metadata": {
        "id": "2_ILT24eSegP",
        "colab": {
          "base_uri": "https://localhost:8080/"
        },
        "outputId": "a21b9cff-f76a-4f2e-e6b2-9666a8ce9a54"
      },
      "execution_count": 1,
      "outputs": [
        {
          "output_type": "stream",
          "name": "stdout",
          "text": [
            "Hello, Jane!\n"
          ]
        }
      ]
    },
    {
      "cell_type": "markdown",
      "source": [
        "## 💪 Your Turn\n",
        "\n",
        "Use an `if` statement to write code that returns 'Welcome back again!' if `number_of_visits` is greater than 1.\n",
        "\n",
        "When you are done, change the value of `number_of_visits` to make sure your code is working correctly."
      ],
      "metadata": {
        "id": "FOF3PbBPRhlA"
      }
    },
    {
      "cell_type": "code",
      "execution_count": 2,
      "metadata": {
        "id": "59msXkFYMayq",
        "colab": {
          "base_uri": "https://localhost:8080/"
        },
        "outputId": "45a0d438-efc5-4f10-f320-3c9b0d2125b3"
      },
      "outputs": [
        {
          "output_type": "stream",
          "name": "stdout",
          "text": [
            "Welcome back again!\n"
          ]
        }
      ],
      "source": [
        "number_of_visits = 2\n",
        "\n",
        "if number_of_visits > 1:\n",
        "  print(\"Welcome back again!\")"
      ]
    },
    {
      "cell_type": "code",
      "source": [
        "number_of_visits = 1\n",
        "\n",
        "if number_of_visits > 1:\n",
        "  print(\"Welcome back again!\")"
      ],
      "metadata": {
        "id": "ShrXsZHRqkuw"
      },
      "execution_count": 3,
      "outputs": []
    },
    {
      "cell_type": "markdown",
      "source": [
        "# `else` Statements\n",
        "\n",
        "You can combine `else` with your `if` to have an alternate action trigger if the `if` statement evaluates to `False`.  \n",
        "\n",
        "Try changing the value of `temperature` below to see how it changes the output of the code.\n",
        "\n",
        "Notice that we use double quotes around \"Don't forget a jacket!\" because we have an apostrophe (single quote) in Don't.  "
      ],
      "metadata": {
        "id": "EcOPQl4USbT3"
      }
    },
    {
      "cell_type": "code",
      "source": [
        "temperature = 65\n",
        "\n",
        "if temperature > 60:\n",
        "  print('Enjoy the nice weather')\n",
        "else:\n",
        "  print(\"Don't forget a jacket!\")"
      ],
      "metadata": {
        "id": "wIep6opEUOjO",
        "colab": {
          "base_uri": "https://localhost:8080/"
        },
        "outputId": "ebed3b92-8c78-44c8-9aad-63cada49ba93"
      },
      "execution_count": 4,
      "outputs": [
        {
          "output_type": "stream",
          "name": "stdout",
          "text": [
            "Enjoy the nice weather\n"
          ]
        }
      ]
    },
    {
      "cell_type": "markdown",
      "source": [
        "## 💪 Your Turn\n",
        "\n",
        "Write code that:\n",
        "\n",
        "- Prints 'Don't forget an umbrella' if `raining == True`\n",
        "\n",
        "- and otherwise prints 'Enjoy the nice weather!'\n",
        "\n",
        "Try changing the value of `raining` to test your code\n",
        "\n",
        "Make sure to use double quotes around \"Don't forget an umbrella!\" because we have an apostrophe (single quote) in Don't.  "
      ],
      "metadata": {
        "id": "6TEmtYI7VFug"
      }
    },
    {
      "cell_type": "code",
      "source": [
        "raining = True\n",
        "\n",
        "# Your Code here\n",
        "if raining == True:\n",
        "  print(\"Don't forget an umbrella!\")\n",
        "else:\n",
        "  print(\"Enjoy the nice seather!\")"
      ],
      "metadata": {
        "id": "kRsHCRhadpxm",
        "colab": {
          "base_uri": "https://localhost:8080/"
        },
        "outputId": "f71b0888-1e86-42be-e307-9aa4551aa6aa"
      },
      "execution_count": 5,
      "outputs": [
        {
          "output_type": "stream",
          "name": "stdout",
          "text": [
            "Don't forget an umbrella!\n"
          ]
        }
      ]
    },
    {
      "cell_type": "markdown",
      "source": [
        "# `elif` Statements\n",
        "\n",
        "`elif` is short for else-if.  This lets you have multiple mutually exclusive clauses in your conditional code.  This means only one of the blocks of code will run, unlike if you use multiple if statements.\n",
        "\n",
        "Notice that below, even if it's raining and cold, the code will only print \"Don't forget a jacket\".  \n",
        "\n",
        "- Try changing the values of `raining` and `temperature` to see how the output changes.\n",
        "\n",
        "- Try changing the `elif` statement to an `if` statement and see how the output changes."
      ],
      "metadata": {
        "id": "c_dr3QamUxvB"
      }
    },
    {
      "cell_type": "code",
      "source": [
        "raining = True\n",
        "temperature = 55\n",
        "\n",
        "if temperature < 60:\n",
        "  print(\"Don't forget a Jacket\")\n",
        "elif raining == True:\n",
        "  print(\"Don't forget an umbrella\")\n",
        "else:\n",
        "  print('Enjoy the beautiful weather!')"
      ],
      "metadata": {
        "id": "E4LNTiVxUpmu",
        "colab": {
          "base_uri": "https://localhost:8080/"
        },
        "outputId": "b3d72061-b0bd-4965-9644-0bd4d3f81b99"
      },
      "execution_count": 6,
      "outputs": [
        {
          "output_type": "stream",
          "name": "stdout",
          "text": [
            "Don't forget a Jacket\n"
          ]
        }
      ]
    },
    {
      "cell_type": "markdown",
      "source": [
        "## 💪 Your Turn\n",
        "\n",
        "Write a block of code that uses `elif` to:\n",
        "\n",
        "- prints 'It was a dark and stormy night' if `weather == 'stormy'`\n",
        "- or else if moon = 'full', it prints 'It was a bright night' \n",
        "- of if neither of those are true, prints 'It was a dark night'\n",
        "\n",
        "\n",
        "*Try changing the values for `weather` and `moon` to be certain your code is working as expected.*"
      ],
      "metadata": {
        "id": "UVZjBTcbgGsu"
      }
    },
    {
      "cell_type": "code",
      "source": [
        "weather = 'stormy'\n",
        "moon = 'full'\n",
        "\n",
        "# Your Code Here\n",
        "if weather == \"stormy\":\n",
        "  print(\"It was a dark and stormy night\")\n",
        "\n",
        "elif moon == 'full':\n",
        "  print(\"It was a bright night\")\n",
        "\n",
        "else:\n",
        "  print('It was a dark nigh')"
      ],
      "metadata": {
        "id": "meMRswurfghm",
        "colab": {
          "base_uri": "https://localhost:8080/"
        },
        "outputId": "ee0db3d0-a243-450e-a581-e522b1d6592f"
      },
      "execution_count": 7,
      "outputs": [
        {
          "output_type": "stream",
          "name": "stdout",
          "text": [
            "It was a dark and stormy night\n"
          ]
        }
      ]
    },
    {
      "cell_type": "code",
      "source": [
        "weather = 'stormy'\n",
        "moon = 'new'\n",
        "\n",
        "# Your Code Here\n",
        "if weather == \"stormy\":\n",
        "  print(\"It was a dark and stormy night\")\n",
        "\n",
        "elif moon == 'full':\n",
        "  print(\"It was a bright night\")\n",
        "\n",
        "else:\n",
        "  print('It was a dark nigh')"
      ],
      "metadata": {
        "colab": {
          "base_uri": "https://localhost:8080/"
        },
        "id": "r7eQPQRUrROu",
        "outputId": "962defcb-700f-450f-8225-9ae5bb487f98"
      },
      "execution_count": 8,
      "outputs": [
        {
          "output_type": "stream",
          "name": "stdout",
          "text": [
            "It was a dark and stormy night\n"
          ]
        }
      ]
    },
    {
      "cell_type": "code",
      "source": [
        "weather = 'calm'\n",
        "moon = 'new'\n",
        "\n",
        "# Your Code Here\n",
        "if weather == \"stormy\":\n",
        "  print(\"It was a dark and stormy night\")\n",
        "\n",
        "elif moon == 'full':\n",
        "  print(\"It was a bright night\")\n",
        "\n",
        "else:\n",
        "  print('It was a dark night')"
      ],
      "metadata": {
        "colab": {
          "base_uri": "https://localhost:8080/"
        },
        "id": "MeMa_bWTrTqz",
        "outputId": "d6026a00-4279-42fb-c3db-75b4b1bff5e4"
      },
      "execution_count": 9,
      "outputs": [
        {
          "output_type": "stream",
          "name": "stdout",
          "text": [
            "It was a dark night\n"
          ]
        }
      ]
    },
    {
      "cell_type": "markdown",
      "source": [
        "# Nested Conditional Statements\n",
        "\n",
        "In order to test multiple conditions, we can put conditional statements inside other conditionals.  This is called 'nesting' and is a common way to create more complex behavior in code that depends on many conditions.\n",
        "\n",
        "In order to control the behavior, make careful use of indentation.  Any statements indented under another statement will only trigger if the statement above them evaluates to `True`.  Any `else` statements need to match the same indentation as the `if` statements they belong to.\n",
        "\n",
        "The below code will:\n",
        "\n",
        "Check if the `time == 'night'` and if so will check if `temperature <= 60` and if that also evaluates as `True`, then it will print \"It's cold and dark outside.\"."
      ],
      "metadata": {
        "id": "EnPdxsuvkKF2"
      }
    },
    {
      "cell_type": "code",
      "source": [
        "temperature = 55\n",
        "time = 'night'\n",
        "\n",
        "\n",
        "if time == 'night':\n",
        "  if temperature < 60:\n",
        "    print(\"It's cold and dark outside.\")"
      ],
      "metadata": {
        "colab": {
          "base_uri": "https://localhost:8080/"
        },
        "id": "xdEmVk-zklTl",
        "outputId": "9983d284-7bc5-4806-a5e1-e1f1f2f8a5a6"
      },
      "execution_count": 10,
      "outputs": [
        {
          "output_type": "stream",
          "name": "stdout",
          "text": [
            "It's cold and dark outside.\n"
          ]
        }
      ]
    },
    {
      "cell_type": "markdown",
      "source": [
        "We can make the behavior even more complex by adding `else` statements.  Remember that an `else` statement's indentation must match the `if` statement is refers to.  \n",
        "\n",
        "Try changing `time` and `weather` to see how the behavior of the code changes.  Try to match up the `if` and `else` statements in the code to understand why."
      ],
      "metadata": {
        "id": "0hQJV0FQoYNs"
      }
    },
    {
      "cell_type": "code",
      "source": [
        "time = 'night'\n",
        "weather = 'stormy'\n",
        "\n",
        "\n",
        "if time == 'night':\n",
        "\n",
        "  if weather == 'stormy':\n",
        "    print(\"Its a stormy night. You'll want a flashlight and umbrella.\")\n",
        "\n",
        "  else:\n",
        "    print(\"It's a beautiful night. You'll want your flashlight.\")\n",
        "\n",
        "\n",
        "elif time == 'day':\n",
        "\n",
        "  if weather == 'stormy':\n",
        "    print(\"Its a stormy day. You'll want your umbrella.\")\n",
        "\n",
        "  else:\n",
        "    print(\"Its a nice & sunnay day. You'll want sunglasses and sunscreen.\")\n",
        "    \n",
        "else:\n",
        "  print('I can only provide recommendations during the day or at night.')"
      ],
      "metadata": {
        "colab": {
          "base_uri": "https://localhost:8080/"
        },
        "id": "TLmWhAXhl8jm",
        "outputId": "926afd4c-f859-4326-c4c6-e7584586481f"
      },
      "execution_count": 11,
      "outputs": [
        {
          "output_type": "stream",
          "name": "stdout",
          "text": [
            "Its a stormy night. You'll want a flashlight and umbrella.\n"
          ]
        }
      ]
    },
    {
      "cell_type": "markdown",
      "source": [
        "## 💪 Your Turn\n",
        "\n",
        "Create a block of code with nested conditions to produce one of 4 outcomes:\n",
        "\n",
        "- It is cold and rainy.\n",
        "\n",
        "- It is cold and sunny.\n",
        "\n",
        "- It is warm and rainy.\n",
        "\n",
        "- It is warm and sunny.\n",
        "\n",
        "Your code should output descriptions of a day that is:\n",
        "* warmer or cooler than 60 (fahrenheit, which is about 15.5 celsius)\n",
        "* rainy or sunny\n",
        "\n"
      ],
      "metadata": {
        "id": "ODT7qWj8ohX5"
      }
    },
    {
      "cell_type": "code",
      "source": [
        "temperature = 80\n",
        "weather = 'rainy'\n",
        "\n",
        "# SOLUTION\n",
        "if temperature > 60:\n",
        "  if weather == 'rainy':\n",
        "    print(\"It is warm and rainy.\")\n",
        "\n",
        "  else:\n",
        "    print(\"It is warm and sunny.\")\n",
        "  \n",
        "else:\n",
        "\n",
        "    if weather == 'rainy':\n",
        "      print(\"It is cold and rainy.\")\n",
        "\n",
        "    else:\n",
        "     print(\"It is cold and sunny.\")"
      ],
      "metadata": {
        "id": "vQghSCtCoLWH",
        "colab": {
          "base_uri": "https://localhost:8080/"
        },
        "outputId": "b57f10ab-2049-4edf-dbf1-43fe78e84113"
      },
      "execution_count": 12,
      "outputs": [
        {
          "output_type": "stream",
          "name": "stdout",
          "text": [
            "It is warm and rainy.\n"
          ]
        }
      ]
    },
    {
      "cell_type": "code",
      "source": [
        "temperature = 45\n",
        "weather = 'sunny'\n",
        "\n",
        "# SOLUTION\n",
        "if temperature > 60:\n",
        "  if weather == 'rainy':\n",
        "    print(\"It is warm and rainy.\")\n",
        "\n",
        "  else:\n",
        "    print(\"It is warm and sunny.\")\n",
        "  \n",
        "else:\n",
        "\n",
        "    if weather == 'rainy':\n",
        "      print(\"It is cold and rainy.\")\n",
        "\n",
        "    else:\n",
        "     print(\"It is cold and sunny.\")"
      ],
      "metadata": {
        "colab": {
          "base_uri": "https://localhost:8080/"
        },
        "id": "HdtyIH7Rr5kx",
        "outputId": "147fb524-dd80-4d46-8ebe-d6520f424193"
      },
      "execution_count": 13,
      "outputs": [
        {
          "output_type": "stream",
          "name": "stdout",
          "text": [
            "It is cold and sunny.\n"
          ]
        }
      ]
    },
    {
      "cell_type": "markdown",
      "source": [
        "# and (`&`)/ or (`|`)\n",
        "\n"
      ],
      "metadata": {
        "id": "EXAItuEupmxA"
      }
    },
    {
      "cell_type": "markdown",
      "source": [
        "You can combine or alter conditions using the `&` and `|` operators.\n"
      ],
      "metadata": {
        "id": "xQqOd0NsdKA0"
      }
    },
    {
      "cell_type": "markdown",
      "source": [
        "\n",
        "## and (`&`)\n",
        "* A conditional statement with an `&` between two other conditional statements ONLY returns `True` if **BOTH** conditions are`True`.  \n",
        "\n",
        "\n",
        "Run the code below to see an example."
      ],
      "metadata": {
        "id": "eOAIRQ2pr-UZ"
      }
    },
    {
      "cell_type": "markdown",
      "source": [
        "Try changing the value of `a` below to see how the resulting output changes."
      ],
      "metadata": {
        "id": "JKsIAoX9e6aO"
      }
    },
    {
      "cell_type": "code",
      "source": [
        "# Declare a\n",
        "a = 3\n",
        "\n",
        "# Test if a is more than 2 and less than 5\n",
        "if (a > 2) & (a < 5):\n",
        "  print('a is between 2 and 5')\n",
        "else: \n",
        "  print('a is not between 2 and 5')"
      ],
      "metadata": {
        "colab": {
          "base_uri": "https://localhost:8080/"
        },
        "id": "df16hDdZedJc",
        "outputId": "002407c5-3d04-4933-a500-16ec28ae6d0c"
      },
      "execution_count": 14,
      "outputs": [
        {
          "output_type": "stream",
          "name": "stdout",
          "text": [
            "a is between 2 and 5\n"
          ]
        }
      ]
    },
    {
      "cell_type": "code",
      "source": [
        "# Declare a\n",
        "a = 5\n",
        "\n",
        "# Test if a is more than 2 and less than 5\n",
        "if (a > 2) & (a < 5):\n",
        "  print('a is between 2 and 5')\n",
        "else: \n",
        "  print('a is not between 2 and 5')"
      ],
      "metadata": {
        "colab": {
          "base_uri": "https://localhost:8080/"
        },
        "id": "sFyO7dAwsA3M",
        "outputId": "ad561c00-7fe9-4b42-a5e5-0d2ead978445"
      },
      "execution_count": 15,
      "outputs": [
        {
          "output_type": "stream",
          "name": "stdout",
          "text": [
            "a is not between 2 and 5\n"
          ]
        }
      ]
    },
    {
      "cell_type": "markdown",
      "source": [
        "## 💪 Your Turn\n",
        "\n",
        "Write a block of code that tests whether a `c` is greater than 100 and less than 1000.\n",
        "\n",
        "Try changing the value of `c` to be \n",
        "* 50 (to test a value less than 100), \n",
        "* 1001 (to test a value greater than 1000)\n",
        "\n",
        "to ensure your code is working correctly."
      ],
      "metadata": {
        "id": "eMpA1Td6ginU"
      }
    },
    {
      "cell_type": "code",
      "source": [
        "c = 999\n",
        "\n",
        "# your code here\n",
        "\n",
        "if (c > 100) & (c < 1000):\n",
        "  print(\"c is between 100 and 1000.\")\n",
        "\n",
        "else:\n",
        "  print(\"c is NOT between 100 and 1000.\")"
      ],
      "metadata": {
        "id": "vaAKdD2gpJzH",
        "colab": {
          "base_uri": "https://localhost:8080/"
        },
        "outputId": "2a1c1fc6-3ba0-4b15-c4c0-83618a032f39"
      },
      "execution_count": 16,
      "outputs": [
        {
          "output_type": "stream",
          "name": "stdout",
          "text": [
            "c is between 100 and 1000.\n"
          ]
        }
      ]
    },
    {
      "cell_type": "code",
      "source": [
        "c = 50\n",
        "\n",
        "# your code here\n",
        "\n",
        "if (c > 100) & (c < 1000):\n",
        "  print(\"c is between 100 and 1000.\")\n",
        "\n",
        "else:\n",
        "  print(\"c is NOT between 100 and 1000.\")"
      ],
      "metadata": {
        "colab": {
          "base_uri": "https://localhost:8080/"
        },
        "id": "4cDxGpnRsRM4",
        "outputId": "49ab2299-4c69-4b23-c30a-e9d93e49c8d4"
      },
      "execution_count": 17,
      "outputs": [
        {
          "output_type": "stream",
          "name": "stdout",
          "text": [
            "c is NOT between 100 and 1000.\n"
          ]
        }
      ]
    },
    {
      "cell_type": "code",
      "source": [
        "c = 1001\n",
        "\n",
        "# your code here\n",
        "\n",
        "if (c > 100) & (c < 1000):\n",
        "  print(\"c is between 100 and 1000.\")\n",
        "\n",
        "else:\n",
        "  print(\"c is NOT between 100 and 1000.\")"
      ],
      "metadata": {
        "colab": {
          "base_uri": "https://localhost:8080/"
        },
        "id": "5psSCOZVsqeq",
        "outputId": "0c218722-b810-4f0d-8f2e-347102b021cc"
      },
      "execution_count": 18,
      "outputs": [
        {
          "output_type": "stream",
          "name": "stdout",
          "text": [
            "c is NOT between 100 and 1000.\n"
          ]
        }
      ]
    },
    {
      "cell_type": "markdown",
      "source": [
        "\n",
        "## or (`|`)\n",
        "* A conditional statement with an `|` between two other conditional statements returns `True` if **EITHER** of the conditions are `True`.  It only returns `False` if both conditions are 'False'\n"
      ],
      "metadata": {
        "id": "1NXOOxETeLet"
      }
    },
    {
      "cell_type": "markdown",
      "source": [
        "Try changing the value of `b` to see how the output changes."
      ],
      "metadata": {
        "id": "m_bVRS2xfRDj"
      }
    },
    {
      "cell_type": "code",
      "source": [
        "# Declare b\n",
        "b = 7\n",
        "\n",
        "# Test if be is less than or equal to 2 or more than or equal to 5\n",
        "if (b <= 2) | (b >= 5):\n",
        "  print('b is not between 2 and 5')\n",
        "else:\n",
        "  print('be is between 2 and 5')"
      ],
      "metadata": {
        "colab": {
          "base_uri": "https://localhost:8080/"
        },
        "id": "J6vwTd0wfRfE",
        "outputId": "598b9788-b086-495b-cf18-fa46daec284a"
      },
      "execution_count": 19,
      "outputs": [
        {
          "output_type": "stream",
          "name": "stdout",
          "text": [
            "b is not between 2 and 5\n"
          ]
        }
      ]
    },
    {
      "cell_type": "markdown",
      "source": [
        "## 💪 Your Turn\n",
        "\n",
        "Write a block of code that tests whether `d` is greater than 1000 or exactly equal to 100.\n",
        "\n",
        "Try changing the value of `d` to be \n",
        "* 100 (to test the d equals 100) \n",
        "* 5000 (to test d greater than 1000)\n",
        "\n",
        "to ensure your code is working correctly."
      ],
      "metadata": {
        "id": "5URjXuyQptx-"
      }
    },
    {
      "cell_type": "code",
      "source": [
        "d = 500\n",
        "# your code here\n",
        "\n",
        "if (d > 1000) | (d == 100):\n",
        "  print('d is greater than 1000 or is exactly 100.')\n",
        "  \n",
        "else:\n",
        "  print(\"d is neither greater than 1000 or  exactly 100.'\")"
      ],
      "metadata": {
        "id": "Gwf4rG8k7Wj2",
        "colab": {
          "base_uri": "https://localhost:8080/"
        },
        "outputId": "8cde715e-2271-4184-ce63-32a1787354f5"
      },
      "execution_count": 20,
      "outputs": [
        {
          "output_type": "stream",
          "name": "stdout",
          "text": [
            "d is neither greater than 1000 or  exactly 100.'\n"
          ]
        }
      ]
    },
    {
      "cell_type": "code",
      "source": [
        "d = 100\n",
        "# your code here\n",
        "\n",
        "if (d > 1000) | (d == 100):\n",
        "  print('d is greater than 1000 or is exactly 100.')\n",
        "  \n",
        "else:\n",
        "  print(\"d is neither greater than 1000 or  exactly 100.'\")"
      ],
      "metadata": {
        "colab": {
          "base_uri": "https://localhost:8080/"
        },
        "id": "qdlat94LstvD",
        "outputId": "7725b2f8-0325-405c-8d7f-8a606c0752c7"
      },
      "execution_count": 21,
      "outputs": [
        {
          "output_type": "stream",
          "name": "stdout",
          "text": [
            "d is greater than 1000 or is exactly 100.\n"
          ]
        }
      ]
    },
    {
      "cell_type": "code",
      "source": [
        "d = 5000\n",
        "# your code here\n",
        "\n",
        "if (d > 1000) | (d == 100):\n",
        "  print('d is greater than 1000 or is exactly 100.')\n",
        "  \n",
        "else:\n",
        "  print(\"d is neither greater than 1000 or  exactly 100.'\")"
      ],
      "metadata": {
        "colab": {
          "base_uri": "https://localhost:8080/"
        },
        "id": "MzazWxD-stqa",
        "outputId": "5975116d-efd3-4c83-c897-ddf4c4dcb171"
      },
      "execution_count": 22,
      "outputs": [
        {
          "output_type": "stream",
          "name": "stdout",
          "text": [
            "d is greater than 1000 or is exactly 100.\n"
          ]
        }
      ]
    },
    {
      "cell_type": "markdown",
      "source": [
        "# Summary\n",
        "\n",
        "Condtional statements using a variety of conditional operators will return `True` or `False` boolean objects.  Python programmers can use `if`, `elif` and `else` to change the behavior of their code depending on the truth value of these conditional statements.  `and`/ `or`keywords can be used to modify and combine conditional statements to create even more complex behavior in code."
      ],
      "metadata": {
        "id": "OvlyO6L-q3Zw"
      }
    }
  ]
}