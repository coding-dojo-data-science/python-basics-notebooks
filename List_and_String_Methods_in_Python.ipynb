{
  "nbformat": 4,
  "nbformat_minor": 0,
  "metadata": {
    "colab": {
      "name": "OOP: List and String Methods in Python.ipynb",
      "provenance": [],
      "collapsed_sections": [
        "HoRtzpaJlkfx",
        "m1CTQ-XQmJTE",
        "Zbp2GlJJsDmv",
        "x5rzKipim-5s"
      ],
      "authorship_tag": "ABX9TyPLzNw7VpNBTQLPc4audI+4",
      "include_colab_link": true
    },
    "kernelspec": {
      "name": "python3",
      "display_name": "Python 3"
    },
    "language_info": {
      "name": "python"
    }
  },
  "cells": [
    {
      "cell_type": "markdown",
      "metadata": {
        "id": "view-in-github",
        "colab_type": "text"
      },
      "source": [
        "<a href=\"https://colab.research.google.com/github/coding-dojo-data-science/python-basics-notebooks/blob/main/List_and_String_Methods_in_Python.ipynb\" target=\"_parent\"><img src=\"https://colab.research.google.com/assets/colab-badge.svg\" alt=\"Open In Colab\"/></a>"
      ]
    },
    {
      "cell_type": "markdown",
      "source": [
        "# List and String Methods in Python"
      ],
      "metadata": {
        "id": "HoRtzpaJlkfx"
      }
    },
    {
      "cell_type": "markdown",
      "source": [
        "In this notebook you will learn some common and useful method that are available for the `list` and `str` classes."
      ],
      "metadata": {
        "id": "r37AebsOl7I7"
      }
    },
    {
      "cell_type": "markdown",
      "source": [
        "## List Methods"
      ],
      "metadata": {
        "id": "m1CTQ-XQmJTE"
      }
    },
    {
      "cell_type": "markdown",
      "source": [
        "In this example we will be managing the waiting list for a new product coming to market, The Widget!.  There are only 2 The Widget!s created each day, but the demand for them is growing.\n",
        "\n",
        "Customers are assigned numbers as they are added to the waiting list and a separate lookup table can be used to match customer numbers to other information.  A Python `list` is a great way to store this data, since `list`s are both ordered and mutable (changeable).\n",
        "\n",
        "At the time of release, there are 5 people already signed up to buy a The Widget!"
      ],
      "metadata": {
        "id": "NdBJjPdVoa90"
      }
    },
    {
      "cell_type": "markdown",
      "source": [
        "# Instantiating a list\n",
        "\n",
        "As you've seen before, a list can be instantiated using a list constructor, `[]`"
      ],
      "metadata": {
        "id": "Zbp2GlJJsDmv"
      }
    },
    {
      "cell_type": "code",
      "execution_count": 1,
      "metadata": {
        "colab": {
          "base_uri": "https://localhost:8080/"
        },
        "id": "70bm2VjpljNH",
        "outputId": "3c605aa2-6d11-41d2-d8b1-ae82554e8f3b"
      },
      "outputs": [
        {
          "output_type": "stream",
          "name": "stdout",
          "text": [
            "[1, 2, 3, 4, 5]\n"
          ]
        }
      ],
      "source": [
        "waiting_list = [1,2,3,4,5]\n",
        "print(waiting_list)"
      ]
    },
    {
      "cell_type": "markdown",
      "source": [
        "The first customers in line, customers 1 and 2, are contacted and they pay and are shipped their The Widget!.\n",
        "\n",
        "\n",
        "# Removing Elements From a List\n",
        "\n",
        "We can use the list method: `.remove()` to automatically remove an element of a list. "
      ],
      "metadata": {
        "id": "oSg-19a3peCM"
      }
    },
    {
      "cell_type": "code",
      "source": [
        "# Remove customer 1 from the list.\n",
        "waiting_list.remove(1)\n",
        "print(waiting_list)"
      ],
      "metadata": {
        "colab": {
          "base_uri": "https://localhost:8080/"
        },
        "id": "Uc8K4orPpdhP",
        "outputId": "1139c904-b093-4efd-fe87-998ea4e81431"
      },
      "execution_count": null,
      "outputs": [
        {
          "output_type": "stream",
          "name": "stdout",
          "text": [
            "[2, 3, 4, 5]\n"
          ]
        }
      ]
    },
    {
      "cell_type": "markdown",
      "source": [
        "Notice that the method `remove()` works specifically on the object that it is attached to.  Python coders commonly make use of methods to manipulate objects."
      ],
      "metadata": {
        "id": "0gXLW17Ax0Hg"
      }
    },
    {
      "cell_type": "markdown",
      "source": [
        "### 💪 You Try:\n",
        "\n",
        "Try removing the customer `2` from the list with `.remove()`"
      ],
      "metadata": {
        "id": "x5rzKipim-5s"
      }
    },
    {
      "cell_type": "code",
      "source": [
        "# Remove customer 2 from the list.\n",
        "\n",
        "# Print waiting_list\n"
      ],
      "metadata": {
        "colab": {
          "base_uri": "https://localhost:8080/"
        },
        "id": "l_bWTOyFmR9i",
        "outputId": "5e903dfb-9f39-4e57-e9e7-0cf11dcb9ace"
      },
      "execution_count": null,
      "outputs": [
        {
          "output_type": "stream",
          "name": "stdout",
          "text": [
            "[3, 4, 5]\n"
          ]
        }
      ]
    },
    {
      "cell_type": "markdown",
      "source": [
        "# Adding Elements to a List\n",
        "\n",
        "The Widget! is gaining in popularity and more customers are joining the waiting list to buy it.  We can use `.append()` to add elements to the end of a list."
      ],
      "metadata": {
        "id": "hCnjESR4q5NG"
      }
    },
    {
      "cell_type": "code",
      "source": [
        "# Add customers to the end of the waiting list.\n",
        "\n",
        "waiting_list.append(6)\n",
        "print(waiting_list)"
      ],
      "metadata": {
        "colab": {
          "base_uri": "https://localhost:8080/"
        },
        "id": "Ifi9I_bZm8n9",
        "outputId": "aaf49580-2c76-4fdd-ac81-3de3f95ca9f3"
      },
      "execution_count": null,
      "outputs": [
        {
          "output_type": "stream",
          "name": "stdout",
          "text": [
            "[3, 4, 5, 6]\n"
          ]
        }
      ]
    },
    {
      "cell_type": "markdown",
      "source": [
        "### 💪 You Try\n",
        "\n",
        "Add customer 7 to the end of the list."
      ],
      "metadata": {
        "id": "yqMqKFNByg-p"
      }
    },
    {
      "cell_type": "code",
      "source": [
        "# Add another customer to the end of the list.\n",
        "\n",
        "# print waiting_list"
      ],
      "metadata": {
        "colab": {
          "base_uri": "https://localhost:8080/"
        },
        "id": "o4zMVhQTygqB",
        "outputId": "17b2fc9f-2594-4500-e99f-eb7b66b16957"
      },
      "execution_count": null,
      "outputs": [
        {
          "output_type": "stream",
          "name": "stdout",
          "text": [
            "[3, 4, 5, 6, 7]\n"
          ]
        }
      ]
    },
    {
      "cell_type": "markdown",
      "source": [
        "# Combine Lists\n",
        "\n",
        "One of our associate marketing agencies currently held popular unboxing event for The Widget!.  They collected a list of 5 more customers who want to join the waiting list to buy one.\n",
        "\n",
        "Let's add those customers to the waiting list.\n"
      ],
      "metadata": {
        "id": "_9RUH27Jy3Po"
      }
    },
    {
      "cell_type": "code",
      "source": [
        "waiting_list.append(new_waiting_list)\n",
        "waiting_list"
      ],
      "metadata": {
        "colab": {
          "base_uri": "https://localhost:8080/"
        },
        "id": "P2FWQ3cO0k2Z",
        "outputId": "8297b6bf-706a-46bf-9a2a-3096b7dc5c47"
      },
      "execution_count": null,
      "outputs": [
        {
          "output_type": "execute_result",
          "data": {
            "text/plain": [
              "[3, 4, 5, 6, 7, [8, 9, 10, 11, 12]]"
            ]
          },
          "metadata": {},
          "execution_count": 77
        }
      ]
    },
    {
      "cell_type": "markdown",
      "source": [
        "## 👀 OOPS!  \n",
        "\n",
        "We added `new_waiting_list` to the end of `waiting_list` as a list, rather than adding the elements of `new_waiting_list` to `waiting_list`.\n",
        "\n",
        "We need to remove the last element of `waiting_list`, which is a list, not an integer.  We could use the following code:\n",
        "\n",
        "`waiting_list.remove(new_waiting_list)`\n",
        "\n",
        "However, we can also use another list method: `.pop()`.  `.pop()` removes the last element of a list, and returns it as a value.  Notice that the other methods so far did not return any values, they just changed the list in place."
      ],
      "metadata": {
        "id": "Zo3mjSwk06JC"
      }
    },
    {
      "cell_type": "code",
      "source": [
        "print(f'Waiting list before .pop() \\n {waiting_list}')\n",
        "print(f'Removing: \\n {waiting_list.pop()}')\n",
        "print(f'Waiting list after .pop() \\n {waiting_list}')"
      ],
      "metadata": {
        "colab": {
          "base_uri": "https://localhost:8080/"
        },
        "id": "BXLT1oD-0pSS",
        "outputId": "eee2ed7d-3d8c-4736-976a-5ee76395b629"
      },
      "execution_count": null,
      "outputs": [
        {
          "output_type": "stream",
          "name": "stdout",
          "text": [
            "Waiting list before .pop() \n",
            " [3, 4, 5, 6, 7, [8, 9, 10, 11, 12]]\n",
            "Removing: \n",
            " [8, 9, 10, 11, 12]\n",
            "Waiting list after .pop() \n",
            " [3, 4, 5, 6, 7]\n"
          ]
        }
      ]
    },
    {
      "cell_type": "markdown",
      "source": [
        "### 💪 You Try\n",
        "\n",
        "Instead of appending `new_waiting_list` to `waiting_list`, use `.extend()` to add the elements of `new_waiting_list` to the end of `waiting_list`."
      ],
      "metadata": {
        "id": "cNk6hD4-2E-i"
      }
    },
    {
      "cell_type": "code",
      "source": [
        "# Use the method .extend() to add the elements of new_waiting_list to the end of\n",
        "# waiting_list\n",
        "\n",
        "\n",
        "# Print waiting_list"
      ],
      "metadata": {
        "colab": {
          "base_uri": "https://localhost:8080/"
        },
        "id": "T5pqsYPbzXpq",
        "outputId": "e9d2a16c-199a-4c53-b189-617d287ae8b8"
      },
      "execution_count": null,
      "outputs": [
        {
          "output_type": "stream",
          "name": "stdout",
          "text": [
            "[3, 4, 5, 6, 7, 8, 9, 10, 11, 12]\n"
          ]
        }
      ]
    },
    {
      "cell_type": "markdown",
      "source": [
        "# 🧠 More List Methods\n",
        "\n",
        "To find a complete guide to all available methods for lists, visit [the official Python documentation for lists](https://docs.python.org/3/tutorial/datastructures.html).\n",
        "\n",
        "Take special note of whether a method returns a value or changes the list in place."
      ],
      "metadata": {
        "id": "bTuCEyrM7pQT"
      }
    },
    {
      "cell_type": "markdown",
      "source": [
        "# String Methods and Method Chaining\n",
        "Some methods work directly on the object they belong to and others return some value.  When a method returns a value, multiple methods can be chained together.  Each successive method operates on the return value of the previous one.\n",
        "\n",
        "The Widget! has become so popular that our company is now going to start selling different models of it.  Below is a list of the versions."
      ],
      "metadata": {
        "id": "UVaalA7L0FnJ"
      }
    },
    {
      "cell_type": "code",
      "source": [
        "# create a list of the string names of new widget varieties\n",
        "new_widgets = ['widget deluxe!','the new widget!','best widget ever!']"
      ],
      "metadata": {
        "id": "8bteBxlCoFjN"
      },
      "execution_count": null,
      "outputs": []
    },
    {
      "cell_type": "markdown",
      "source": [
        "# String Case\n",
        "\n",
        "Our branding department gave us a list of widget names, but they are all lower case.  Let's use a loop and a string method to update them to title case with the first letter of each word capitalized.  We will use the string method `.title()`\n",
        "\n",
        "First let's test the method on it's own."
      ],
      "metadata": {
        "id": "RmjtShpf1jZ2"
      }
    },
    {
      "cell_type": "code",
      "source": [
        "# print a copy of the last element in the new_widgets list in title case.\n",
        "print(new_widgets[-1].title())\n",
        "\n",
        "# print the new_widgets list\n",
        "print(new_widgets)"
      ],
      "metadata": {
        "colab": {
          "base_uri": "https://localhost:8080/"
        },
        "id": "TCLmo36s1dL2",
        "outputId": "3fad7c76-8372-44e3-83ee-5f08c5280b81"
      },
      "execution_count": null,
      "outputs": [
        {
          "output_type": "stream",
          "name": "stdout",
          "text": [
            "Best Widget Ever!\n",
            "['widget deluxe!', 'the new widget!', 'best widget ever!']\n"
          ]
        }
      ]
    },
    {
      "cell_type": "markdown",
      "source": [
        "# 👀 Notice\n",
        "The `.title()` method did NOT change the string in the list.  While list methods like `.append()` and `.remove()` change lists in place, the string method, `.title()`, does not.  It returns a new value.  As you learn about different methods, it's important to remember whether they change an object in place or whether they return a new object.\n",
        "\n",
        "### 💪 Your Turn\n",
        "\n",
        "If we want to change the case of every new widget name in the list, we could make a new list in a loop.  In the cell below:\n",
        "\n",
        "1. Create a new empty list called `title_case_new_widgets`\n",
        "2. Loop over the stings in `new_widgets`\n",
        "3. For each string in `new_widgets` create a copy of it in title case\n",
        "4. Append the new title case string to the string `title_case_new_widgets`\n",
        "5. Print the new list of strings to check that your code worked.\n",
        "\n",
        "If you do this correctly you should have a new list with the same names, in the same order, but all in title case.  It should look like: \n",
        "\n",
        "['Widget Deluxe!', 'The New Widget!', 'Best Widget Ever!']"
      ],
      "metadata": {
        "id": "78ucR16t2Yjw"
      }
    },
    {
      "cell_type": "code",
      "source": [
        "# Create an empty list\n",
        "\n",
        "# Loop over new_widgets\n",
        "  \n",
        "  # In each iteration create a copy of an element in new_widgets but in title case\n",
        "\n",
        "  # Append the new widget name to the list you created above.\n",
        "\n",
        "\n",
        "#print the new list of widget names in title case.\n"
      ],
      "metadata": {
        "colab": {
          "base_uri": "https://localhost:8080/"
        },
        "id": "yEf7Cilb2Uuw",
        "outputId": "617081ec-f77a-414e-d822-6e59b4c8641c"
      },
      "execution_count": null,
      "outputs": [
        {
          "output_type": "stream",
          "name": "stdout",
          "text": [
            "['Widget Deluxe!', 'The New Widget!', 'Best Widget Ever!']\n"
          ]
        }
      ]
    },
    {
      "cell_type": "markdown",
      "source": [
        "# Method Chaining\n",
        "\n",
        "The marketing department ran some focus groups and determined that words in all upper case excite customers more than those in title case.  They also discovered that customers think that exclamation points are cheesy.\n",
        "\n",
        "They want us to change the case of the names to upper and remove the exclamation points.\n",
        "\n",
        "We can use 2 new methods for this.  `.upper()` converts the letter cases in a string to upper, and `.replace()` replaces all instances of a substring with a new string.  We can use `.replace()` to replace exclamation points with empty strings, in other words with nothing.  This will remove them.\n",
        "\n",
        "We can do both of these steps in one line of code with method chaining."
      ],
      "metadata": {
        "id": "St7Lfg3I5e_5"
      }
    },
    {
      "cell_type": "code",
      "source": [
        "# Replace the 'i' in 'Hi' with 'ello'\n",
        "print('Hi'.replace('i','ello'))\n",
        "\n",
        "# Make the string 'Hi' all upper case\n",
        "print('Hi'.upper())\n",
        "\n",
        "# First replace the 'i' with 'ello', then make the result upper case.\n",
        "print('Hi'.replace('i','ello').upper())"
      ],
      "metadata": {
        "colab": {
          "base_uri": "https://localhost:8080/"
        },
        "id": "bk6kAynf3sTX",
        "outputId": "75524b4a-d8e2-42a4-dc97-954ab5166ac5"
      },
      "execution_count": null,
      "outputs": [
        {
          "output_type": "stream",
          "name": "stdout",
          "text": [
            "Hello\n",
            "HI\n",
            "HELLO\n"
          ]
        }
      ]
    },
    {
      "cell_type": "markdown",
      "source": [
        "### 💪 Your Turn\n",
        "\n",
        "Use a loop and method chaining to create a new list of widget names that is the same as `new_widgets` except that the exclamation points have been removed and all characters are in upper case.  Remember that you can use `.replace()` to replace a character with an empty string, `''`, to remove it.  \n",
        "\n",
        "Print the result.\n",
        "\n",
        "The result should look like: \n",
        "\n",
        "['WIDGET DELUXE', 'THE NEW WIDGET', 'BEST WIDGET EVER']\n"
      ],
      "metadata": {
        "id": "TBchttCE7mqL"
      }
    },
    {
      "cell_type": "code",
      "source": [
        "# Create a new list\n",
        "\n",
        "# Iterate over the new_widgets list\n",
        "\n",
        "  # In each iteration:\n",
        "  # Create a new string that is upper case with the exclamation point removed\n",
        "  \n",
        "  # Append the new string to the new list you created above\n",
        "\n",
        "# Print the new list of upper case names with no exclamation points.\n"
      ],
      "metadata": {
        "colab": {
          "base_uri": "https://localhost:8080/"
        },
        "id": "jUSXHHTX6zrC",
        "outputId": "17a20d99-662f-4cc6-8fab-85add98b1ed5"
      },
      "execution_count": null,
      "outputs": [
        {
          "output_type": "stream",
          "name": "stdout",
          "text": [
            "['WIDGET DELUXE', 'THE NEW WIDGET', 'BEST WIDGET EVER']\n"
          ]
        }
      ]
    },
    {
      "cell_type": "markdown",
      "source": [
        "## 🧠 More String Methods\n",
        "\n",
        "To see a complete list of string methods, visit [the official Python documentation on strings](https://docs.python.org/3/library/stdtypes.html#string-methods).  Take special note of what each method returns.  "
      ],
      "metadata": {
        "id": "UzPhCqQb_ysz"
      }
    },
    {
      "cell_type": "markdown",
      "source": [
        "# Summary\n",
        "\n",
        "Everything in Python is an object.  Classes are a category of object, such as a string or list, and an object is an instance of a class.  Many classes have methods.  Methods are functions that are particular to a specific instance of a class that do a variety of things.  Some methods return a value and some change an object in place.  You can chain multiple methods together and each will act on the return value of the previous one.  This only works with methods that return a value."
      ],
      "metadata": {
        "id": "v2Aaykxm63zy"
      }
    },
    {
      "cell_type": "code",
      "source": [
        ""
      ],
      "metadata": {
        "id": "CYoM3Il9-pf6"
      },
      "execution_count": null,
      "outputs": []
    }
  ]
}