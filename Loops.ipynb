{
  "nbformat": 4,
  "nbformat_minor": 0,
  "metadata": {
    "colab": {
      "name": "Loops.ipynb",
      "provenance": [],
      "collapsed_sections": [],
      "authorship_tag": "ABX9TyOJcD6/Px0EV7tfMcpucz9V",
      "include_colab_link": true
    },
    "kernelspec": {
      "name": "python3",
      "display_name": "Python 3"
    },
    "language_info": {
      "name": "python"
    }
  },
  "cells": [
    {
      "cell_type": "markdown",
      "metadata": {
        "id": "view-in-github",
        "colab_type": "text"
      },
      "source": [
        "<a href=\"https://colab.research.google.com/github/coding-dojo-data-science/python-basics-notebooks/blob/main/Loops.ipynb\" target=\"_parent\"><img src=\"https://colab.research.google.com/assets/colab-badge.svg\" alt=\"Open In Colab\"/></a>"
      ]
    },
    {
      "cell_type": "markdown",
      "source": [
        "# Loops\n",
        "\n",
        "Loops are a way to code a process that repeats with only small changes.  Two kinds of loops exist in Python:\n",
        "\n",
        "1. For loops which apply code to each item in a collection iteratively.\n",
        "\n",
        "2. While loops that continue to apply code until a certain condition is met."
      ],
      "metadata": {
        "id": "ya_2tFYtq35M"
      }
    },
    {
      "cell_type": "markdown",
      "source": [
        "# While Loops\n",
        "\n",
        "A while loop will continue until some condition is met.  Be careful, this can create infinite loops if the condition is never met!\n",
        "\n",
        "    `while True:\n",
        "      print('repeat')`\n",
        "\n",
        "The code above would print the word 'repeat' over and over until we interrupted it!\n",
        "\n",
        "Let's try a more complex example.\n",
        "\n",
        "The code below will print a story and then create an input box for the user.  The loop either continues or stops depending on the answer that the user gives.\n",
        "\n",
        "Notice that the code below uses the `input()` function which creates a user input box and returns what the user types in that box as a string."
      ],
      "metadata": {
        "id": "gYDoBRmur0rx"
      }
    },
    {
      "cell_type": "markdown",
      "source": [
        "Notice the parts"
      ],
      "metadata": {
        "id": "LFfZzSbxu1Fy"
      }
    },
    {
      "cell_type": "code",
      "source": [
        "# Initialize response variable\n",
        "answer = 'repeat'\n",
        "\n",
        "# Loop until user input is not 'repeat'\n",
        "while answer == 'repeat':\n",
        "  print('Pete and Repeat were walking down the pier when Pete fell in.  Who was left?')\n",
        "  answer = input()\n",
        "  answer = answer.lower()"
      ],
      "metadata": {
        "colab": {
          "base_uri": "https://localhost:8080/"
        },
        "id": "tyu_vP9yrNpb",
        "outputId": "0cdbfc40-f348-43f1-a78c-c15c17e7604f"
      },
      "execution_count": 24,
      "outputs": [
        {
          "name": "stdout",
          "output_type": "stream",
          "text": [
            "Pete and Repeat were walking down the pier when Pete fell in.  Who was left?\n",
            "Pete\n"
          ]
        }
      ]
    },
    {
      "cell_type": "markdown",
      "source": [
        "Another use of while loops is to compare values and stop after a certain condition is met.\n",
        "\n",
        "The following loop multiplies a `number` variable and a `product` variable and then updates those variables.  The loop will continue until `product` is more than 100.  \n",
        "\n",
        "* Note that I am creating some variables with initial values to use in my loop.  This is very common when creating loops.  It's important to initialize these before the loop.  If you set an starting value for a variable inside the loop, the variable value will get reset each time the loop iterates!  It's important to think very clearly about what parts of the code should iterate inside the loop and what parts should just run once and be placed outside of the loop.\n",
        "\n",
        "* Also Notice that we use `*=` and `+=` in the code below.  This is Python shorthand for `product = product * number` and `number = number + 1` respectively.  This also works with `-=` and `/=` for subraction and division."
      ],
      "metadata": {
        "id": "9htyomMzufLa"
      }
    },
    {
      "cell_type": "code",
      "execution_count": 25,
      "metadata": {
        "colab": {
          "base_uri": "https://localhost:8080/"
        },
        "id": "MtnfIZjmk1ZZ",
        "outputId": "d1f0f5ab-cf8e-468a-9dfe-4596af8cf301"
      },
      "outputs": [
        {
          "output_type": "stream",
          "name": "stdout",
          "text": [
            "1\n",
            "2\n",
            "6\n",
            "24\n",
            "120\n"
          ]
        }
      ],
      "source": [
        "# initialize variables\n",
        "number = 1\n",
        "product = 1\n",
        "\n",
        "# Loop\n",
        "while product < 100:\n",
        "  product *= number\n",
        "  number += 1\n",
        "  print(product)"
      ]
    },
    {
      "cell_type": "markdown",
      "source": [
        "The loop stopped after the 5th iteration because `product` was no longer less than 100."
      ],
      "metadata": {
        "id": "W88VoGxZzHwC"
      }
    },
    {
      "cell_type": "markdown",
      "source": [
        "# 💪 Your Turn\n",
        "\n",
        "Create a while loop that appends a number to the end of a list in each iteration until the length of the list is equal to or greater than 5.  Print the list in each iteration.\n",
        "\n",
        "* Do NOT use `list` as the name of your variable.  `list` is reserved for the Python function, `list()` and if you declare a variable with that name you will delete that function from your environment!  You'll have to reset your kernel to get it back.  CHOOSE ANOTHER VARIABLE NAME.\n",
        "\n",
        "* You can append an item to a list with `list_name.append(item)`.  Remember that this changes the list in place.  It does not return a new list.\n",
        "\n",
        "* You can check the length of a Python object with the `len()` function.  `len(list_name)` will return the length of the object that the variable named `list_name` points to.\n",
        "\n",
        "* You will likely want to initialize an empty list BEFORE your loop.  You can do this with empty brackets, like `list_name = []`\n",
        "\n",
        "* You might also want to initial a 'counter', or an integer that counts the number of times a loop iterates.  You can use the value of this counter as the number you append to your list.\n",
        "  * Remember to increment your counter by one in each iteration with `counter += 1`"
      ],
      "metadata": {
        "id": "ajvXC2u9yDsj"
      }
    },
    {
      "cell_type": "markdown",
      "source": [
        "If you do this correctly, you should see an output similar to:\n",
        "\n",
        "[1]\n",
        "\n",
        "[1, 2]\n",
        "\n",
        "[1, 2, 3]\n",
        "\n",
        "[1, 2, 3, 4]\n",
        "\n",
        "[1, 2, 3, 4, 5]"
      ],
      "metadata": {
        "id": "ZIoVYWvI0mHL"
      }
    },
    {
      "cell_type": "code",
      "source": [
        "# Your Code Here"
      ],
      "metadata": {
        "id": "ZmGiD8O_xS5c"
      },
      "execution_count": 26,
      "outputs": []
    },
    {
      "cell_type": "markdown",
      "source": [
        "# For Loops\n",
        "\n",
        "For loops are used more often than while loops in data science.  Since data science deals with collections of data, iterating over them and applying some process is very useful.\n",
        "\n",
        "For instance, maybe we have a list of temperatures in Farenheit and we want to convert them to Celsius.\n",
        "\n",
        "In the code below we will create a list of temperatures in Farenheit and use them to generate a list of those same temperatures in Celsius"
      ],
      "metadata": {
        "id": "RvKbhvmu0vvT"
      }
    },
    {
      "cell_type": "code",
      "source": [
        "# Initialize variables\n",
        "farenheit_temps = [65, 60, 55, 72, 67, 84]\n",
        "celsius_temps = []\n",
        "# Loop over Farenheit temps, convert them, and append the result to celsius temps\n",
        "for f_temp in farenheit_temps:\n",
        "  # Convert Farenheit to Celsius\n",
        "  c_temp = (f_temp - 32) * (5/9)\n",
        "  # Round Celsius to 2 decimal places\n",
        "  c_temp = round(c_temp, 2)\n",
        "  # Append Celsius temp to list of Celsius temps\n",
        "  celsius_temps.append(c_temp)\n",
        "\n",
        "\n",
        "print(celsius_temps)"
      ],
      "metadata": {
        "id": "9Guwd_HIx7C0",
        "colab": {
          "base_uri": "https://localhost:8080/"
        },
        "outputId": "b646f4ee-cd8d-4a35-974d-f8e0844c3b01"
      },
      "execution_count": 55,
      "outputs": [
        {
          "output_type": "stream",
          "name": "stdout",
          "text": [
            "[18.33, 15.56, 12.78, 22.22, 19.44, 28.89]\n"
          ]
        }
      ]
    },
    {
      "cell_type": "markdown",
      "source": [
        "## range()\n",
        "\n",
        "The Python function `range()` is a useful tool to create a list of numbers.  Technically it returns a range object, but it can be iterated over or converted into another kind of collection.\n",
        "\n",
        "There are a few ways to use a `range()`\n",
        "\n",
        "1. One number.  If you give `range()` one number, such as `range(10)` it will return a series of integers starting at 0 and ending at one less than the number you gave it."
      ],
      "metadata": {
        "id": "91cS5EK9PGUQ"
      }
    },
    {
      "cell_type": "code",
      "source": [
        "numbers = range(10)\n",
        "numbers "
      ],
      "metadata": {
        "colab": {
          "base_uri": "https://localhost:8080/"
        },
        "id": "_GXpqZouOeB_",
        "outputId": "4da8605f-55dd-441f-eb03-d02f30625dca"
      },
      "execution_count": 56,
      "outputs": [
        {
          "output_type": "execute_result",
          "data": {
            "text/plain": [
              "range(0, 10)"
            ]
          },
          "metadata": {},
          "execution_count": 56
        }
      ]
    },
    {
      "cell_type": "code",
      "source": [
        "list(numbers)"
      ],
      "metadata": {
        "colab": {
          "base_uri": "https://localhost:8080/"
        },
        "id": "e5JpySioPZWu",
        "outputId": "0c44ff9d-7a93-41ac-bc54-507c8f9365d6"
      },
      "execution_count": 57,
      "outputs": [
        {
          "output_type": "execute_result",
          "data": {
            "text/plain": [
              "[0, 1, 2, 3, 4, 5, 6, 7, 8, 9]"
            ]
          },
          "metadata": {},
          "execution_count": 57
        }
      ]
    },
    {
      "cell_type": "markdown",
      "source": [
        "2. You can give `range()` two numbers.  In this case it will start the numbers at the first number you give it and end one number before the last number."
      ],
      "metadata": {
        "id": "OckKkUQHPv5_"
      }
    },
    {
      "cell_type": "code",
      "source": [
        "list(range(3,11))"
      ],
      "metadata": {
        "colab": {
          "base_uri": "https://localhost:8080/"
        },
        "id": "fT0WFykEPbUW",
        "outputId": "ea33cff2-c932-446d-9aec-65e37ff1a5eb"
      },
      "execution_count": 58,
      "outputs": [
        {
          "output_type": "execute_result",
          "data": {
            "text/plain": [
              "[3, 4, 5, 6, 7, 8, 9, 10]"
            ]
          },
          "metadata": {},
          "execution_count": 58
        }
      ]
    },
    {
      "cell_type": "markdown",
      "source": [
        "3. Finally, you can give range 3 numbers.  It will start at the first number, end one before the second number, and count by multiples of the last number."
      ],
      "metadata": {
        "id": "kQkKFXbUP6w3"
      }
    },
    {
      "cell_type": "code",
      "source": [
        "list(range(3,27,3))"
      ],
      "metadata": {
        "colab": {
          "base_uri": "https://localhost:8080/"
        },
        "id": "eywk8g1iP5z_",
        "outputId": "1fe2bd9d-5e3a-4a6e-9a33-84292d59c953"
      },
      "execution_count": 59,
      "outputs": [
        {
          "output_type": "execute_result",
          "data": {
            "text/plain": [
              "[3, 6, 9, 12, 15, 18, 21, 24]"
            ]
          },
          "metadata": {},
          "execution_count": 59
        }
      ]
    },
    {
      "cell_type": "markdown",
      "source": [
        "## Ranges and For Loops\n",
        "\n",
        "`range()` is commonly used to construct for loops when the number of iterations you want to perform is known."
      ],
      "metadata": {
        "id": "qHU30mQjQLav"
      }
    },
    {
      "cell_type": "code",
      "source": [
        "factorial = 1\n",
        "for i in range(1,10):\n",
        "  factorial *= i\n",
        "  print(factorial)\n",
        "\n"
      ],
      "metadata": {
        "colab": {
          "base_uri": "https://localhost:8080/"
        },
        "id": "fq3D6vR7QGv-",
        "outputId": "077f8eae-61f2-4001-aea2-d7b0aaabd546"
      },
      "execution_count": 60,
      "outputs": [
        {
          "output_type": "stream",
          "name": "stdout",
          "text": [
            "1\n",
            "2\n",
            "6\n",
            "24\n",
            "120\n",
            "720\n",
            "5040\n",
            "40320\n",
            "362880\n"
          ]
        }
      ]
    },
    {
      "cell_type": "markdown",
      "source": [
        "Another useful way to use `range()` is to iterate over index positions in a collection, such as a list.  This will allow us to change list values in place.\n",
        "\n",
        "Let's take the example above with the temperatures, but instead of creating a new list we can use `range()` to generate a series of indices and change the list in place.\n",
        "\n",
        "Notice we use `farenheit_temps.copy()` instead of just `temps = farenheit_temps`.  The second option will NOT create a new list.  Both variables will point to the same list object and when we change one the other will change as well!"
      ],
      "metadata": {
        "id": "_8RGCiNDRP2w"
      }
    },
    {
      "cell_type": "code",
      "source": [
        "temps = farenheit_temps.copy()\n",
        "print(temps)"
      ],
      "metadata": {
        "colab": {
          "base_uri": "https://localhost:8080/"
        },
        "id": "lsYnx6rzQ0ig",
        "outputId": "8c944b80-afdf-4233-b4e4-5c9f95b9c357"
      },
      "execution_count": 61,
      "outputs": [
        {
          "output_type": "stream",
          "name": "stdout",
          "text": [
            "[65, 60, 55, 72, 67, 84]\n"
          ]
        }
      ]
    },
    {
      "cell_type": "markdown",
      "source": [
        "Note that we use the `len()` function to return the length of the list `farenheit_temps` so we can use that to generate our range object."
      ],
      "metadata": {
        "id": "StISkw08R38w"
      }
    },
    {
      "cell_type": "code",
      "source": [
        "# Create a range object the same length as the length of farenheit_temps\n",
        "indices = range(len(temps))\n",
        "\n",
        "# Iterate over the temperatures and \n",
        "for i in indices:\n",
        "  temps[i] = (temps[i] - 32) * (5/9)\n",
        "  temps[i] = round(temps[i], 2)\n",
        "\n",
        "print(temps)"
      ],
      "metadata": {
        "colab": {
          "base_uri": "https://localhost:8080/"
        },
        "id": "wuwSt5IuRpNo",
        "outputId": "22af35fd-c36c-4ea4-a653-c96aa8ca8c43"
      },
      "execution_count": 62,
      "outputs": [
        {
          "output_type": "stream",
          "name": "stdout",
          "text": [
            "[18.33, 15.56, 12.78, 22.22, 19.44, 28.89]\n"
          ]
        }
      ]
    },
    {
      "cell_type": "markdown",
      "source": [
        "Of"
      ],
      "metadata": {
        "id": "P0UXvV0sSahQ"
      }
    },
    {
      "cell_type": "code",
      "source": [
        "farenheit_temps"
      ],
      "metadata": {
        "colab": {
          "base_uri": "https://localhost:8080/"
        },
        "id": "g-cvmmvBSX9I",
        "outputId": "a2226d68-ff6f-4663-9d6b-1483d40ca093"
      },
      "execution_count": 63,
      "outputs": [
        {
          "output_type": "execute_result",
          "data": {
            "text/plain": [
              "[65, 60, 55, 72, 67, 84]"
            ]
          },
          "metadata": {},
          "execution_count": 63
        }
      ]
    },
    {
      "cell_type": "markdown",
      "source": [
        "# 💪 Your Turn\n",
        "\n",
        "Create a range object that counts from 0 to 100 by 2s.\n",
        "\n",
        "Use a for loop to print 1/2 of that number for each number in the range object.\n",
        "\n",
        "REMEMBER: Range objects stop one number before their ending number."
      ],
      "metadata": {
        "id": "Y8RB1lEcTpOp"
      }
    },
    {
      "cell_type": "code",
      "source": [
        ""
      ],
      "metadata": {
        "id": "2E5AdtV-UCnB"
      },
      "execution_count": null,
      "outputs": []
    },
    {
      "cell_type": "markdown",
      "source": [
        "# Enumerate\n",
        "\n",
        "`enumerate()` is a Python function that takes a collection as an argument and returns 2 values when iterate over.  It returns the index position of each item in the collection as well as the value at that position.  This is particularly useful when working with data. "
      ],
      "metadata": {
        "id": "IbVlo92gULH_"
      }
    },
    {
      "cell_type": "markdown",
      "source": [
        "The code below is another way to change the value of the `temps` list.\n",
        "\n",
        "Notice that since `enumerate()` returns 2 values, we declare 2 variables to point to them."
      ],
      "metadata": {
        "id": "nejHw7MnUk4f"
      }
    },
    {
      "cell_type": "code",
      "source": [
        "# Reset temps to farenheit\n",
        "temps = farenheit_temps.copy()\n",
        "\n",
        "# Iterate over the enumeration of temps and convert each value to Celsius.\n",
        "for i, temp in enumerate(temps):\n",
        "  temps[i] = (temp - 32) * (5/9)\n",
        "  temps[i] = round(temps[i], 2)\n",
        "\n",
        "temps"
      ],
      "metadata": {
        "colab": {
          "base_uri": "https://localhost:8080/"
        },
        "id": "uD0CRNFqVSGQ",
        "outputId": "f8606a37-35bf-4203-cb3b-25f2fb51eba5"
      },
      "execution_count": 65,
      "outputs": [
        {
          "output_type": "execute_result",
          "data": {
            "text/plain": [
              "[18.33, 15.56, 12.78, 22.22, 19.44, 28.89]"
            ]
          },
          "metadata": {},
          "execution_count": 65
        }
      ]
    },
    {
      "cell_type": "markdown",
      "source": [
        ""
      ],
      "metadata": {
        "id": "JwyGgFcaU9jQ"
      }
    },
    {
      "cell_type": "markdown",
      "source": [
        "# 💪 Your Turn"
      ],
      "metadata": {
        "id": "7iTvqG5BTWd4"
      }
    },
    {
      "cell_type": "markdown",
      "source": [
        "Use a for loop and `enumerate()` to create a new list of temperature sums.\n",
        "\n",
        "Use `enumerate()` to add each element of `farenheit_temps` to the element in `celsius_sums` at the same index positions.\n",
        "\n",
        "Append the results to a 3rd list, `temp_sums`\n",
        "\n",
        "* Remember to initialize an empty list named `temp_sums` before your loop.\n",
        "\n",
        "* Use `temp_sums.append()` to append each sum from the other two lists to the new list.\n",
        "\n",
        "* If you do this correctly, `temp_sums` should be: [83.33, 75.56, 67.78, 94.22, 86.44, 112.89]"
      ],
      "metadata": {
        "id": "w5awE2nyWRPf"
      }
    },
    {
      "cell_type": "code",
      "source": [
        "temp_sums = []\n",
        "\n",
        "for i, temp in enumerate(farenheit_temps):\n",
        "  sum = temp + celsius_temps[i]\n",
        "  temp_sums.append(sum)\n",
        "\n",
        "temp_sums"
      ],
      "metadata": {
        "colab": {
          "base_uri": "https://localhost:8080/"
        },
        "id": "9DBbuq2bSxAH",
        "outputId": "98ccbb95-ec06-4e9d-934b-4cccfc97541e"
      },
      "execution_count": 66,
      "outputs": [
        {
          "output_type": "execute_result",
          "data": {
            "text/plain": [
              "[83.33, 75.56, 67.78, 94.22, 86.44, 112.89]"
            ]
          },
          "metadata": {},
          "execution_count": 66
        }
      ]
    },
    {
      "cell_type": "markdown",
      "source": [
        "# Summary\n",
        "\n",
        "In this lesson you learned about while loops, for loops, range objects, and the enumerate function.  While loops continue until a condition is met. For loops iterate over an ordered collection.  Range objects are iterables that are created dynamically by the range() function.  enumerate() takes an collection as an argument and returns two values, an index position and the value at the index position in that collection.\n",
        "\n",
        "Loops, ranges, and enumerate are useful tools to apply the same code over and over again.  When data scientists work with large collections of data, it's common that they will need to apply the same code to each data point and loops are an important tool for doing that."
      ],
      "metadata": {
        "id": "TqIhqt4qXym5"
      }
    },
    {
      "cell_type": "code",
      "source": [
        ""
      ],
      "metadata": {
        "id": "jVbCyM2YXn0O"
      },
      "execution_count": null,
      "outputs": []
    }
  ]
}