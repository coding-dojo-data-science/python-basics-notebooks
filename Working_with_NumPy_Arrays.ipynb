{
  "nbformat": 4,
  "nbformat_minor": 0,
  "metadata": {
    "colab": {
      "name": "Working with NumPy Arrays.ipynb",
      "provenance": [],
      "authorship_tag": "ABX9TyP4MsXEy0JhVHXsT0AuSvyB",
      "include_colab_link": true
    },
    "kernelspec": {
      "name": "python3",
      "display_name": "Python 3"
    },
    "language_info": {
      "name": "python"
    }
  },
  "cells": [
    {
      "cell_type": "markdown",
      "metadata": {
        "id": "view-in-github",
        "colab_type": "text"
      },
      "source": [
        "<a href=\"https://colab.research.google.com/github/coding-dojo-data-science/python-basics-notebooks/blob/main/Working_with_NumPy_Arrays.ipynb\" target=\"_parent\"><img src=\"https://colab.research.google.com/assets/colab-badge.svg\" alt=\"Open In Colab\"/></a>"
      ]
    },
    {
      "cell_type": "markdown",
      "source": [
        "# NumPy Arrays\n",
        "\n",
        "In this notebook you will \n",
        "1. import the NumPy Python package, \n",
        "2. create a NumPy array.\n",
        "3. access data in a NumPy Array"
      ],
      "metadata": {
        "id": "CjrwSrqF81iR"
      }
    },
    {
      "cell_type": "markdown",
      "source": [
        "# 1. Importing NumPy\n",
        "\n",
        "You've learned how to create custom functions in Python, but you can also import functions that other people have made.  This will become a core part of your work in the program and you'll notice that the number of custom packages you import will grow as you learn to use new tools.\n",
        "\n",
        "Today we will only import one custom package: NumPy, which is called `numpy` in Python code.\n",
        "\n",
        "They NumPy package is already saved in Colab, so you won't need to download it. However, if you are using this notebook at home, you may need to download this package onto your hard drive.  You can do this with the code: `!pip install numpy`\n",
        "\n",
        "1. We start by using the keyword `import` to tell Python we are importing a package. Note that downloading and importing are different!\n",
        "\n",
        "2. Then we tell Python with package we want to import: `numpy`.\n",
        "\n",
        "3. Next we will give NumPy the alias `np`.  In order to access functions in the numpy package, we will need to put the name of the package first, like `numpy.array()`.  However, since we will be using NumPy a lot, we can give the package a nickname, also called an 'alias'.  We do that with the `as` keyword.  It's tradition to alias NumPy as `np`.\n",
        "\n",
        "Putting these together we type:\n",
        "\n",
        "`import numpy as np`\n",
        "\n",
        "Type this code in he cell below and then press shift-enter to run the cell.  Once you've done that NumPy will be loaded and you can start using its functions."
      ],
      "metadata": {
        "id": "7nSmgdi_AVyM"
      }
    },
    {
      "cell_type": "code",
      "source": [
        "import numpy as np"
      ],
      "metadata": {
        "id": "acvzeajlAUVW"
      },
      "execution_count": null,
      "outputs": []
    },
    {
      "cell_type": "markdown",
      "source": [
        "# 2. Creating a NumPy Array\n",
        "\n",
        "## a. 1-dimensional arrays\n",
        "There are many ways to create arrays and often in your work as a data science you will be loading outside datasets into your Python environment.  Today, however, we will generate some data using the `range()` function and then convert it into an array.\n",
        "\n",
        "1. Declare a variable, `data` and point it to a range object with numbers between 0 and 19. \n",
        "\n",
        "2. Change the type of this range object to a list so that you can verify it has the right numbers. \n",
        "\n",
        "**Hint** you can use `range()` and pass it an argument to tell it the numbers you want.  In Python, ranges start at 0 and exclude the highest number.\n",
        "\n",
        "3. Print the result.  You should have a list of numbers from 0 to 19."
      ],
      "metadata": {
        "id": "-l6Qp0iLCDJO"
      }
    },
    {
      "cell_type": "code",
      "execution_count": null,
      "metadata": {
        "colab": {
          "base_uri": "https://localhost:8080/"
        },
        "id": "25mrA5oC8x4o",
        "outputId": "ce860d59-a460-4365-c976-54d2e80c9e97"
      },
      "outputs": [
        {
          "output_type": "stream",
          "name": "stdout",
          "text": [
            "[0, 1, 2, 3, 4, 5, 6, 7, 8, 9, 10, 11, 12, 13, 14, 15, 16, 17, 18, 19]\n"
          ]
        }
      ],
      "source": [
        "data = range(20)\n",
        "data = list(data)\n",
        "print(data)"
      ]
    },
    {
      "cell_type": "markdown",
      "source": [
        "You should now have a list named `data` with the numbers 0 to 19.  Let's change it to an array!\n",
        "\n",
        "You can use the function `np.array()` to change a Python collection into a NumPy array.\n",
        "\n",
        "Chage the type of data into an `ndarray` and print out the result.  The result should look like a list with no commas."
      ],
      "metadata": {
        "id": "CIo2OJTEJnDU"
      }
    },
    {
      "cell_type": "code",
      "source": [
        "data = np.array(data)\n",
        "print(data)"
      ],
      "metadata": {
        "colab": {
          "base_uri": "https://localhost:8080/"
        },
        "id": "kmeAiZNnCbKk",
        "outputId": "025bcf19-1bbb-48d1-96e6-9c791022a2bc"
      },
      "execution_count": null,
      "outputs": [
        {
          "output_type": "stream",
          "name": "stdout",
          "text": [
            "[ 0  1  2  3  4  5  6  7  8  9 10 11 12 13 14 15 16 17 18 19]\n"
          ]
        }
      ]
    },
    {
      "cell_type": "markdown",
      "source": [
        "You created a 1-dimensional array by creating a range object, converting it into a list, and then converting the list into an array.  You could have also converted the range object directly into an array.  Notice that the array looks a lot like a list, and we can treat it like a list.\n",
        "\n",
        "Arrays are ordered and mutable, just like lists, but they are faster to and more efficient to store in memory.\n",
        "\n",
        "## b. 2-dimensional arrays\n",
        "\n",
        "Do you remember that lists can contain other lists?  You can create a 2-dimensional array using a list of lists!  The only trick is that all the lists have to be the same length.\n",
        "\n",
        "1. Create 2 new arrays.  Call them `array1` and `array2`.  \n",
        "\n",
        "The first array should have numbers 0 to 19, and the second list should have numbers 20 to 39.  Remember that you can do this quickly by using a range object.\n",
        "\n",
        "**Hint** \n",
        "\n",
        "You can give a range object 2 arguments.  It will start the numbers at the first argument and end at one number before the second argument.\n",
        "\n",
        "2. Create a new list that contains the previous 2 lists as elements.  Call the new list `data2d`.\n",
        "\n",
        "3. Convert `data2d` to an ndarray.\n",
        "\n",
        "4. Print `data2d`."
      ],
      "metadata": {
        "id": "e-0waIaCKSNV"
      }
    },
    {
      "cell_type": "code",
      "source": [
        "list1 = np.array(range(20))\n",
        "list2 = np.array(range(20,40))\n",
        "\n",
        "data2d = [list1, list2]\n",
        "data2d = np.array(data2d)\n",
        "print(data2d)"
      ],
      "metadata": {
        "colab": {
          "base_uri": "https://localhost:8080/"
        },
        "id": "hv4ZoUZsJ3w0",
        "outputId": "97bcb31c-4a44-4954-a0a0-ae203303bbc4"
      },
      "execution_count": null,
      "outputs": [
        {
          "output_type": "stream",
          "name": "stdout",
          "text": [
            "[[ 0  1  2  3  4  5  6  7  8  9 10 11 12 13 14 15 16 17 18 19]\n",
            " [20 21 22 23 24 25 26 27 28 29 30 31 32 33 34 35 36 37 38 39]]\n"
          ]
        }
      ]
    },
    {
      "cell_type": "markdown",
      "source": [
        "Your result should look like a stack of lists with no commas, one on top with numbers 0 to 19 and one on bottom with numbers 20 to 29.\n",
        "\n",
        "If so, nice work!  You created a 2-dimensional array!\n",
        "\n",
        "You could keep making higher dimensional arrays by nesting lists inside lists inside lists, etc."
      ],
      "metadata": {
        "id": "5lQH1W77MVhs"
      }
    },
    {
      "cell_type": "markdown",
      "source": [
        "# 3. Accessing Data in an Array\n",
        "\n",
        "Accessing data in an array is very similar to accessing data in a list or tupe.  You use the `[]` notation with the index of the item you want inside the brackets.\n",
        "\n",
        "Print the 9th data point in the array named `data`\n",
        "\n",
        "**Hint** Python indices start at 0, so the first element is at index 0."
      ],
      "metadata": {
        "id": "8BHoiHlFOvvU"
      }
    },
    {
      "cell_type": "code",
      "source": [
        "print(data[8])"
      ],
      "metadata": {
        "colab": {
          "base_uri": "https://localhost:8080/"
        },
        "id": "wTXKRah6Ki31",
        "outputId": "b78e6a90-3861-4c47-daca-4b4e8e39e63c"
      },
      "execution_count": null,
      "outputs": [
        {
          "output_type": "stream",
          "name": "stdout",
          "text": [
            "8\n"
          ]
        }
      ]
    },
    {
      "cell_type": "markdown",
      "source": [
        "If your code above output the number `8`, you did it right!"
      ],
      "metadata": {
        "id": "Sbc_B458QC3b"
      }
    },
    {
      "cell_type": "markdown",
      "source": [
        "Next let's access data in a 2-dimensional array.  These are the kinds of arrays that you will mostly working with in this program.  You can think of a spreadsheet as a 2-dimensional array.  We will access by defining the row and column that the data we want is located.\n",
        "\n",
        "To access data in a 2-dimensional array, you use 2 sets of numbers in brackets.  The first one describes where on the first axis your data is located and the second defines where on the second axis it is.\n",
        "\n",
        "Notice that this is similar to accessing a 1-dimensional array, with another set of brackets.\n",
        "\n",
        "But, to start, let's just try using one set of brackets with a 2-dimensional array and see what happens.\n",
        "\n",
        "1. Print the second element in the array called `data2d` and display it. Remember that Python indices start with 0."
      ],
      "metadata": {
        "id": "3VMD_HVhQIVz"
      }
    },
    {
      "cell_type": "code",
      "source": [
        "print(data2d[1])"
      ],
      "metadata": {
        "colab": {
          "base_uri": "https://localhost:8080/"
        },
        "id": "cn66Yac2Pvkz",
        "outputId": "3314269b-63d5-4d10-bd26-18185ac4cf0b"
      },
      "execution_count": null,
      "outputs": [
        {
          "output_type": "stream",
          "name": "stdout",
          "text": [
            "[20 21 22 23 24 25 26 27 28 29 30 31 32 33 34 35 36 37 38 39]\n"
          ]
        }
      ]
    },
    {
      "cell_type": "markdown",
      "source": [
        "If your code above output an array with the numbers 20 though 39, you did it right!\n",
        "\n",
        "2. Now access the 5th element of the second element of `data2d`.  That would be the 5th column of the second row."
      ],
      "metadata": {
        "id": "MScOKGDzR7Hb"
      }
    },
    {
      "cell_type": "code",
      "source": [
        "print(data2d[1][4])"
      ],
      "metadata": {
        "colab": {
          "base_uri": "https://localhost:8080/"
        },
        "id": "VTN7IR3nRz_V",
        "outputId": "4b23424d-472b-487d-eaab-07e5047ff93d"
      },
      "execution_count": null,
      "outputs": [
        {
          "output_type": "stream",
          "name": "stdout",
          "text": [
            "24\n"
          ]
        }
      ]
    },
    {
      "cell_type": "markdown",
      "source": [
        "Your code should have output the number `24`.  If so, you've completed this lesson!"
      ],
      "metadata": {
        "id": "NPfQFnjQUQ77"
      }
    },
    {
      "cell_type": "markdown",
      "source": [
        "# Summary\n",
        "\n",
        "In this lesson you learned how to create one and two dimensional NumPy arrays using range objects and lists.  You also learned to access data in NumPy arrays through indexing."
      ],
      "metadata": {
        "id": "rjXvfN2pUXOq"
      }
    },
    {
      "cell_type": "code",
      "source": [
        ""
      ],
      "metadata": {
        "id": "ZgEFJTKUUqsq"
      },
      "execution_count": null,
      "outputs": []
    }
  ]
}