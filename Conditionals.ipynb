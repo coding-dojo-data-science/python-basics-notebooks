{
  "nbformat": 4,
  "nbformat_minor": 0,
  "metadata": {
    "colab": {
      "name": "Conditionals.ipynb",
      "provenance": [],
      "authorship_tag": "ABX9TyOB5ojw1PhExZTC4LlSfkdI",
      "include_colab_link": true
    },
    "kernelspec": {
      "name": "python3",
      "display_name": "Python 3"
    },
    "language_info": {
      "name": "python"
    }
  },
  "cells": [
    {
      "cell_type": "markdown",
      "metadata": {
        "id": "view-in-github",
        "colab_type": "text"
      },
      "source": [
        "<a href=\"https://colab.research.google.com/github/coding-dojo-data-science/python-basics-notebooks/blob/main/Conditionals.ipynb\" target=\"_parent\"><img src=\"https://colab.research.google.com/assets/colab-badge.svg\" alt=\"Open In Colab\"/></a>"
      ]
    },
    {
      "cell_type": "markdown",
      "source": [
        "# Conditionals in Python\n",
        "\n",
        "|   Syntax  | Behavior                                                             |                   Example 1            |Example 2|\n",
        "|-----|--------------------------------------------------------------------------------------------|-------------------------------|------------------------------|\n",
        "| ==  | Checks if the value of two operands are equal                                              | 1 == 1 (True)                 | 1 == 2  (False)              |\n",
        "| !=  | Checks if the value of two operands are not equal                                          | 1 != 1 (False)                | 1 != 2  (True)               |\n",
        "| >   | Checks if the value of left operand is greater than the value of right operand             | 2 > 1 (True)                  | 1 > 2 (False)                |\n",
        "| <   | Checks if the value of left operand is less than the value of right operand                | 2 < 1 (False)                 | 1 < 2 (True)                 |\n",
        "| >=  | Checks if the value of left operand is greater than or equal to the value of right operand | 2 >= 2 (True)                 | 1 >= 2 (False)               |\n",
        "| <=  | Checks if the value of left operand is less than or equal to the value of right operand    | 2 <= 2 (True)                 | 1 <= 2 (True)                |\n",
        "| and | Checks that each expression on the left and right are both True                            | (1 <= 2) and (2 >= 3) (False) | (1 <= 2) and (2 <= 3) (True) |\n",
        "| or  | Checks if either the expression on the left or right is True                               | (1 >= 2) or (2 >= 3) (False)  | (1 <= 2) or (2 >= 3) (True)  |\n",
        "| not | Reverses the true-false value of the operand                                               | not False (True)              | not True (False)             |"
      ],
      "metadata": {
        "id": "0ThdumLVMoVH"
      }
    },
    {
      "cell_type": "markdown",
      "source": [
        "# `if` Statements\n",
        "\n",
        "`if`, `else`, and `elif` have 2 parts.  The condition and the action.\n",
        "\n",
        "The condition part comes first and is followed by a `:`\n",
        "\n",
        "\n",
        "For example:\n",
        "`if name == 'None Provided':`\n",
        "\n",
        "The action comes next and is indented.\n",
        "\n",
        "For example:\n",
        "\n"
      ],
      "metadata": {
        "id": "VRnZ_3jvQS6v"
      }
    },
    {
      "cell_type": "code",
      "source": [
        "name = 'None Provided'\n",
        "\n",
        "if name == 'None Provided': # Notice the double == is for comparison\n",
        "\n",
        "  print('No name provided')"
      ],
      "metadata": {
        "id": "2_ILT24eSegP"
      },
      "execution_count": null,
      "outputs": []
    },
    {
      "cell_type": "markdown",
      "source": [
        "## 💪 Your Turn\n",
        "\n",
        "Use an `if` statement to write code that returns 'Welcome back again!' if `number_of_visits` is greater than 1.\n",
        "\n",
        "When you are done, change the value of `number_of_visits` to make sure your code is working correctly."
      ],
      "metadata": {
        "id": "FOF3PbBPRhlA"
      }
    },
    {
      "cell_type": "code",
      "execution_count": null,
      "metadata": {
        "id": "59msXkFYMayq"
      },
      "outputs": [],
      "source": [
        "number_of_visits = 2\n",
        "# Your code here"
      ]
    },
    {
      "cell_type": "markdown",
      "source": [
        "# `else` Statements\n",
        "\n",
        "You can combine and `else` with your `if` to have another action that triggers if the `if` statement evaluates to `False`.  This is where `else` statements come in!\n",
        "\n",
        "Try changing the value of `temperature` below to see how it changes the output of the code."
      ],
      "metadata": {
        "id": "EcOPQl4USbT3"
      }
    },
    {
      "cell_type": "code",
      "source": [
        "temperature = 65\n",
        "\n",
        "if temperature > 60:\n",
        "  print('Enjoy the nice weather')\n",
        "else:\n",
        "  print(\"Don't forget a jacket!\")"
      ],
      "metadata": {
        "id": "wIep6opEUOjO"
      },
      "execution_count": null,
      "outputs": []
    },
    {
      "cell_type": "markdown",
      "source": [
        "## 💪 Your Turn\n",
        "\n",
        "Write code that:\n",
        "\n",
        "- Prints 'Don't forget an umbrella' if `raining = True`\n",
        "\n",
        "- and otherwise prints 'Enjoy the nice weather!'\n",
        "\n",
        "Try changing the value of `raining` to test your code"
      ],
      "metadata": {
        "id": "6TEmtYI7VFug"
      }
    },
    {
      "cell_type": "code",
      "source": [
        "raining = True\n",
        "\n",
        "# Your Code here"
      ],
      "metadata": {
        "id": "kRsHCRhadpxm"
      },
      "execution_count": null,
      "outputs": []
    },
    {
      "cell_type": "markdown",
      "source": [
        "# `elif` Statements\n",
        "\n",
        "`elif` is short for else-if.  This lets you have multiple mutually exclusive clauses in your conditional code.  This means only one of the blocks of code will run, unlike if you use multiple if statements.\n",
        "\n",
        "Notice that below, even if it's raining and cold, the code will only print \"Don't forget a jacket\".  \n",
        "\n",
        "- Try changing the values of `raining` and `temperature` to see how the output changes.\n",
        "\n",
        "- Try changing the `elif` statement to an `if` statement and see how the output changes."
      ],
      "metadata": {
        "id": "c_dr3QamUxvB"
      }
    },
    {
      "cell_type": "code",
      "source": [
        "raining = True\n",
        "temperature = 55\n",
        "\n",
        "if temperature < 60:\n",
        "  print(\"Don't forget a Jacket\")\n",
        "elif raining == True:\n",
        "  print(\"Don't forget an umbrella\")\n",
        "else:\n",
        "  print('Enjoy the beautiful weather!')"
      ],
      "metadata": {
        "id": "E4LNTiVxUpmu"
      },
      "execution_count": null,
      "outputs": []
    },
    {
      "cell_type": "markdown",
      "source": [
        "## 💪 Your Turn\n",
        "\n",
        "Write a block of code that uses `elif` to:\n",
        "\n",
        "- prints 'It was a dark and stormy night' if `weather = 'stormy'`\n",
        "- or else if moon = 'full', it prints 'It was a bright night' \n",
        "- of if neither of those are true, prints 'It was a dark night'\n",
        "\n",
        "\n",
        "*Try changing the values for `weather` and `moon` to be certain your code is working as expected.*"
      ],
      "metadata": {
        "id": "UVZjBTcbgGsu"
      }
    },
    {
      "cell_type": "code",
      "source": [
        "weather = 'stormy'\n",
        "moon = 'full'\n",
        "\n",
        "# Your Code Here"
      ],
      "metadata": {
        "id": "meMRswurfghm"
      },
      "execution_count": null,
      "outputs": []
    },
    {
      "cell_type": "markdown",
      "source": [
        "# Nested Conditional Statements\n",
        "\n",
        "In order to test multiple conditions, we can put conditional statements inside other conditionals.  This is called 'nesting' and is a common way to create more complex behavior in code that depends on many conditions.\n",
        "\n",
        "In order to control the behavior, make careful use of indentation.  Any statements indented under another statement will only trigger if the statement above them evaluates to `True`.  Any `else` statements need to match the same indentation as the `if` statements they belong to.\n",
        "\n",
        "The below code will:\n",
        "\n",
        "Check if the `time == 'night'` and if so will check if `raining == True` and if that also evaluates as `True`, then it will check if `temperature < 60`.  If all of those are true it will print \"It's a cold, wet evening\"."
      ],
      "metadata": {
        "id": "EnPdxsuvkKF2"
      }
    },
    {
      "cell_type": "code",
      "source": [
        "raining = True\n",
        "temperature = 55\n",
        "time = 'night'\n",
        "\n",
        "\n",
        "if time == 'night':\n",
        "  if raining == True:\n",
        "    if temperature < 60:\n",
        "      print(\"It's a cold, wet evening\")"
      ],
      "metadata": {
        "colab": {
          "base_uri": "https://localhost:8080/"
        },
        "id": "xdEmVk-zklTl",
        "outputId": "80566503-da47-42ba-ba47-d8fa3af9939e"
      },
      "execution_count": null,
      "outputs": [
        {
          "output_type": "stream",
          "name": "stdout",
          "text": [
            "It's a cold, wet evening\n"
          ]
        }
      ]
    },
    {
      "cell_type": "markdown",
      "source": [
        "We can make the behavior even more complex by adding `else` statements.  Remember that an `else` statement's indentation must match the `if` statement is refers to.  \n",
        "\n",
        "Try changing `time`, `moon`, and `weather` to see how the behavior of the code changes.  Try to match up the `if` and `else` statements in the code to understand why."
      ],
      "metadata": {
        "id": "32KbHDOWm2yY"
      }
    },
    {
      "cell_type": "code",
      "source": [
        "time = 'night'\n",
        "moon = 'full'\n",
        "weather = 'stormy'\n",
        "\n",
        "if time == 'night':\n",
        "  if moon == 'full':\n",
        "    if weather != 'stormy':\n",
        "      print(\"It's a bright night\")\n",
        "    else:\n",
        "      print(\"The storm clouds hide the full moon\")\n",
        "  else:\n",
        "    if weather != 'stormy':\n",
        "      print(\"The stars shine brightly in the dark sky\")\n",
        "    else:\n",
        "      print('The storm clouds darken an already dark night')\n",
        "else:\n",
        "  print('Night has not yet fallen')"
      ],
      "metadata": {
        "colab": {
          "base_uri": "https://localhost:8080/"
        },
        "id": "t3cGpoEKnCd3",
        "outputId": "127829c4-38c1-4c41-ed42-45bd3b59706b"
      },
      "execution_count": null,
      "outputs": [
        {
          "output_type": "stream",
          "name": "stdout",
          "text": [
            "Night has not yet fallen\n"
          ]
        }
      ]
    },
    {
      "cell_type": "markdown",
      "source": [
        "## 💪 Your Turn\n",
        "\n",
        "Create a block of code with at least 3 nested conditions.\n",
        "\n",
        "Your code should output descriptions of a day that is:\n",
        "* warmer or cooler than 60 (fahrenheit, which is about 15.5 celsius)\n",
        "* rainy or sunny\n",
        "* windy or still\n",
        "\n",
        "Your code should have a different output for each combination of those 3 conditions."
      ],
      "metadata": {
        "id": "ODT7qWj8ohX5"
      }
    },
    {
      "cell_type": "code",
      "source": [
        "temperature = 80\n",
        "weather = 'rainy'\n",
        "wind = 'still'\n",
        "\n",
        "# Your Code Here"
      ],
      "metadata": {
        "id": "vQghSCtCoLWH"
      },
      "execution_count": null,
      "outputs": []
    },
    {
      "cell_type": "markdown",
      "source": [
        "# `and`, `or`, and `not`\n",
        "\n"
      ],
      "metadata": {
        "id": "EXAItuEupmxA"
      }
    },
    {
      "cell_type": "markdown",
      "source": [
        "You can combine or alter conditions using the `and` `or` and `not` keywords.\n",
        "\n",
        "## `and`\n",
        "* A conditional statement with an `and` between two other conditional statements ONLY returns `True` of both conditionals also return `True`.  If either does not, then the statement returns `False`\n",
        "\n",
        "\n",
        "Run the code below to see an example."
      ],
      "metadata": {
        "id": "xQqOd0NsdKA0"
      }
    },
    {
      "cell_type": "code",
      "source": [
        "# True and False\n",
        "\n",
        "True and False"
      ],
      "metadata": {
        "id": "Gv0y6wtMpjVB",
        "colab": {
          "base_uri": "https://localhost:8080/"
        },
        "outputId": "ee3ccbcc-a7be-4f2e-ed58-35ba8734ff5e"
      },
      "execution_count": 1,
      "outputs": [
        {
          "output_type": "execute_result",
          "data": {
            "text/plain": [
              "False"
            ]
          },
          "metadata": {},
          "execution_count": 1
        }
      ]
    },
    {
      "cell_type": "markdown",
      "source": [
        "Try changing the value of `a` below to see how the resulting output changes."
      ],
      "metadata": {
        "id": "JKsIAoX9e6aO"
      }
    },
    {
      "cell_type": "code",
      "source": [
        "# Declare a\n",
        "a = 3\n",
        "\n",
        "# Test if a is more than 2 and less than 5\n",
        "if a > 2 and a < 5:\n",
        "  print('a is between 2 and 5')\n",
        "else: \n",
        "  print('a is not between 2 and 5')"
      ],
      "metadata": {
        "colab": {
          "base_uri": "https://localhost:8080/"
        },
        "id": "df16hDdZedJc",
        "outputId": "3f101fa4-2527-4abf-a13c-5fa9d6428609"
      },
      "execution_count": 5,
      "outputs": [
        {
          "output_type": "stream",
          "name": "stdout",
          "text": [
            "a is between 2 and 5\n"
          ]
        }
      ]
    },
    {
      "cell_type": "markdown",
      "source": [
        "## 💪 Your Turn\n",
        "\n",
        "Write a block of code that tests whether a `c` is greater than 100 and less than 1000.\n",
        "\n",
        "Try changing the value of `c` to be \n",
        "* less than 100, \n",
        "* equal to 100, \n",
        "* between 100 and 1000, \n",
        "* equal to 1000 \n",
        "* and more than 1000 \n",
        "\n",
        "to ensure your code is working correctly."
      ],
      "metadata": {
        "id": "eMpA1Td6ginU"
      }
    },
    {
      "cell_type": "code",
      "source": [
        "c = 999\n",
        "\n",
        "# your code here"
      ],
      "metadata": {
        "id": "vaAKdD2gpJzH"
      },
      "execution_count": null,
      "outputs": []
    },
    {
      "cell_type": "markdown",
      "source": [
        "\n",
        "## `or`\n",
        "* A conditional statement with an `or` between two other conditional statements returns `True` if EITHER of the conditional statements return `True`.  It only returns `False` if both of them return `False`.\n",
        "\n",
        "Run the code below and see how the output changes."
      ],
      "metadata": {
        "id": "1NXOOxETeLet"
      }
    },
    {
      "cell_type": "code",
      "source": [
        "# True or False\n",
        "\n",
        "True or False"
      ],
      "metadata": {
        "colab": {
          "base_uri": "https://localhost:8080/"
        },
        "id": "de55RA8geOML",
        "outputId": "f87b4d9b-3826-4bd6-f9db-05c7b4eedcc9"
      },
      "execution_count": 12,
      "outputs": [
        {
          "output_type": "execute_result",
          "data": {
            "text/plain": [
              "True"
            ]
          },
          "metadata": {},
          "execution_count": 12
        }
      ]
    },
    {
      "cell_type": "markdown",
      "source": [
        "Try changing the value of `b` to see how the output changes."
      ],
      "metadata": {
        "id": "m_bVRS2xfRDj"
      }
    },
    {
      "cell_type": "code",
      "source": [
        "# Declare b\n",
        "b = 7\n",
        "\n",
        "# Test if be is less than or equal to 2 or more than or equal to 5\n",
        "if b <= 2 or b >= 5:\n",
        "  print('b is not between 2 and 5')\n",
        "else:\n",
        "  print('be is between 2 and 5')"
      ],
      "metadata": {
        "colab": {
          "base_uri": "https://localhost:8080/"
        },
        "id": "J6vwTd0wfRfE",
        "outputId": "cf98bfdd-ae95-4b8a-fb3c-4e2a8364b814"
      },
      "execution_count": 13,
      "outputs": [
        {
          "output_type": "stream",
          "name": "stdout",
          "text": [
            "b is not between 2 and 5\n"
          ]
        }
      ]
    },
    {
      "cell_type": "markdown",
      "source": [
        "## 💪 Your Turn\n",
        "\n",
        "Write a block of code that tests whether a `d` is greater than 1000 or exactly equal t0 100.\n",
        "\n",
        "Try changing the value of `d` to be \n",
        "* less than 100, \n",
        "* equal to 100, \n",
        "* between 100 and 1000, \n",
        "* equal to 1000 \n",
        "* and more than 1000 \n",
        "\n",
        "to ensure your code is working correctly."
      ],
      "metadata": {
        "id": "5URjXuyQptx-"
      }
    },
    {
      "cell_type": "markdown",
      "source": [
        ""
      ],
      "metadata": {
        "id": "AOToNlKIo6sl"
      }
    },
    {
      "cell_type": "markdown",
      "source": [
        "## `not`\n",
        "* A conditional statement with the `not` keyword in front of it returns the opposite of the statement after the `not`.  `not True` returns `False` and `not False` returns `True`.\n",
        "\n",
        "Run the code below to see how the output changes."
      ],
      "metadata": {
        "id": "nL0nbIOieOom"
      }
    },
    {
      "cell_type": "code",
      "source": [
        "x = not True\n",
        "y = not False\n",
        "\n",
        "print(f'x is', x)\n",
        "print(f'y is', y)"
      ],
      "metadata": {
        "colab": {
          "base_uri": "https://localhost:8080/"
        },
        "id": "IVKCYit6ePlS",
        "outputId": "3c1bdff8-1064-42f8-cbe2-8a068a49bd39"
      },
      "execution_count": 15,
      "outputs": [
        {
          "output_type": "stream",
          "name": "stdout",
          "text": [
            "x is False\n",
            "y is True\n"
          ]
        }
      ]
    },
    {
      "cell_type": "markdown",
      "source": [
        "## Combining multiple keyword operators:\n",
        "\n",
        "You can create complex conditional statements by combining many simpler statements.  It can be useful to use parentheses to keep each one together and determine a hierarchy.\n",
        "\n",
        "We will introduce a new boolean operator here, `in`, which tests whether an object is currently a member of a collection.  `in` returns `True` of the object is in the collection and `False` if not."
      ],
      "metadata": {
        "id": "MHWFFUV7g0G7"
      }
    },
    {
      "cell_type": "code",
      "source": [
        "# Create initial lists\n",
        "one_time_customers = ['Josh', 'Neerja', 'Ahmed']\n",
        "repeat_customers = ['Toby', 'Purvi']\n",
        "regular_customers = ['James']\n",
        "new_orders = ['Toby', 'Neerja', 'Ahmed', 'Chloe', 'James']\n",
        "\n",
        "# Iterate through the new_customers\n",
        "for customer in new_orders:\n",
        "  # If the new customer is not in any current customer list, \n",
        "  # add them to one time customer list.\n",
        "  if not ((customer in regular_customers)\n",
        "          or (customer in repeat_customers) \n",
        "          or (customer in one_time_customers)):\n",
        "    one_time_customers.append(customer)\n",
        "\n",
        "  # If the new customer is not in repeat or regular customer lists\n",
        "  # add them to the repeat customer list.\n",
        "  elif not ((customer in repeat_customers)\n",
        "         or (customer in regular_customers)):\n",
        "    repeat_customers.append(customer)\n",
        "    one_time_customers.remove(customer)\n",
        "\n",
        "  # If the new customer is already in the repeat customer list\n",
        "  # add them to the regular customer list.\n",
        "  elif customer in repeat_customers:\n",
        "    regular_customers.append(customer)\n",
        "    repeat_customers.remove(customer)\n",
        "\n",
        "  # Otherwise the customer must be in the regular customer list, so\n",
        "  # celebrate that a loyal customer has purchased another item!\n",
        "  else:\n",
        "    print(f'Our loyal customer, {customer}, has purchased yet another item, hooray! \\n')\n",
        "\n",
        "print(f'New list of one_time_customers', one_time_customers)\n",
        "print(f'New list of repeat_customers', repeat_customers)\n",
        "print(f'New list regular_customers', regular_customers)"
      ],
      "metadata": {
        "colab": {
          "base_uri": "https://localhost:8080/"
        },
        "id": "eVDpCVehhLHV",
        "outputId": "a27c679d-2259-48f0-ea9c-0ebde657df11"
      },
      "execution_count": 28,
      "outputs": [
        {
          "output_type": "stream",
          "name": "stdout",
          "text": [
            "Our loyal customer, James, has purchased yet another item, hooray! \n",
            "\n",
            "New list of one_time_customers ['Josh', 'Chloe']\n",
            "New list of repeat_customers ['Purvi', 'Neerja', 'Ahmed']\n",
            "New list regular_customers ['James', 'Toby']\n"
          ]
        }
      ]
    },
    {
      "cell_type": "markdown",
      "source": [
        "There are simpler ways to achieve the same result as above, but this example shows you how you can combine multiple conditional statements, along with `if`, `elif` and `else` statements to create complex behaviors in your code."
      ],
      "metadata": {
        "id": "K-BUlBYMnP5G"
      }
    },
    {
      "cell_type": "markdown",
      "source": [
        "# Summary\n",
        "\n",
        "Condtional statements using a variety of conditional operators will return `True` or `False` boolean objects.  Python programmers can use `if`, `elif` and `else` to change the behavior of their code depending on the truth value of these conditional statements.  `and`, `or` and `not` keywords can be used to modify and combine conditional statements to create even more complex behavior in code."
      ],
      "metadata": {
        "id": "OvlyO6L-q3Zw"
      }
    }
  ]
}