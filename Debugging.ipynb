{
  "nbformat": 4,
  "nbformat_minor": 0,
  "metadata": {
    "colab": {
      "name": "Debugging.ipynb",
      "provenance": [],
      "authorship_tag": "ABX9TyNbgWpzdsBcNmRdXsX1QgJB",
      "include_colab_link": true
    },
    "kernelspec": {
      "name": "python3",
      "display_name": "Python 3"
    },
    "language_info": {
      "name": "python"
    }
  },
  "cells": [
    {
      "cell_type": "markdown",
      "metadata": {
        "id": "view-in-github",
        "colab_type": "text"
      },
      "source": [
        "<a href=\"https://colab.research.google.com/github/coding-dojo-data-science/python-basics-notebooks/blob/main/Debugging.ipynb\" target=\"_parent\"><img src=\"https://colab.research.google.com/assets/colab-badge.svg\" alt=\"Open In Colab\"/></a>"
      ]
    },
    {
      "cell_type": "markdown",
      "source": [
        "# Reading Error Codes"
      ],
      "metadata": {
        "id": "PTsSxVi6fOI6"
      }
    },
    {
      "cell_type": "markdown",
      "source": [
        "Let's say we want to start a database of customers and their purchases.  We make one list of customer names and another list of how many purchases they made.  We put those lists into another list which is now our database of purchases.  The first element of the first list matches with the second element of the second list.  Customers matched with their number of purchases."
      ],
      "metadata": {
        "id": "yQSnpL9R4AIu"
      }
    },
    {
      "cell_type": "code",
      "source": [
        "list_of_customers = ['Bradley','Miranda','Tarik','Corinne']\n",
        "customer_purchases = [3,5,1]"
      ],
      "metadata": {
        "id": "EmP4wwd229Ls"
      },
      "execution_count": null,
      "outputs": []
    },
    {
      "cell_type": "markdown",
      "source": [
        "# Reading the Error\n",
        "\n",
        "This is tedious if we want to look up a specific customer's number of purchases. Let's convert this into a dictionary for easy lookup."
      ],
      "metadata": {
        "id": "982GdyXO5j0u"
      }
    },
    {
      "cell_type": "code",
      "source": [
        "# instantiate a new dictionary\n",
        "customer_lookup = {}\n",
        "\n",
        "# create a counter to help us iterate through the index of the purchases.\n",
        "\n",
        "# iterate through the list of customers\n",
        "for i in range(len(list_of_customers)):\n",
        "  # create a new key for the customer name and set the value to the number of purchases\n",
        "  name = list_of_customers[i]  \n",
        "  customer_lookup[name] = customer_purchases[i]\n"
      ],
      "metadata": {
        "colab": {
          "base_uri": "https://localhost:8080/",
          "height": 208
        },
        "id": "W4sYtMaT3uZ0",
        "outputId": "701c19d2-baa2-4a0c-cbb3-bc54f5918ab2"
      },
      "execution_count": null,
      "outputs": [
        {
          "output_type": "error",
          "ename": "IndexError",
          "evalue": "ignored",
          "traceback": [
            "\u001b[0;31m---------------------------------------------------------------------------\u001b[0m",
            "\u001b[0;31mIndexError\u001b[0m                                Traceback (most recent call last)",
            "\u001b[0;32m<ipython-input-3-52ec3e957dda>\u001b[0m in \u001b[0;36m<module>\u001b[0;34m()\u001b[0m\n\u001b[1;32m      8\u001b[0m   \u001b[0;31m# create a new key for the customer name and set the value to the number of purchases\u001b[0m\u001b[0;34m\u001b[0m\u001b[0;34m\u001b[0m\u001b[0;34m\u001b[0m\u001b[0m\n\u001b[1;32m      9\u001b[0m   \u001b[0mname\u001b[0m \u001b[0;34m=\u001b[0m \u001b[0mlist_of_customers\u001b[0m\u001b[0;34m[\u001b[0m\u001b[0mi\u001b[0m\u001b[0;34m]\u001b[0m\u001b[0;34m\u001b[0m\u001b[0;34m\u001b[0m\u001b[0m\n\u001b[0;32m---> 10\u001b[0;31m   \u001b[0mcustomer_lookup\u001b[0m\u001b[0;34m[\u001b[0m\u001b[0mname\u001b[0m\u001b[0;34m]\u001b[0m \u001b[0;34m=\u001b[0m \u001b[0mcustomer_purchases\u001b[0m\u001b[0;34m[\u001b[0m\u001b[0mi\u001b[0m\u001b[0;34m]\u001b[0m\u001b[0;34m\u001b[0m\u001b[0;34m\u001b[0m\u001b[0m\n\u001b[0m",
            "\u001b[0;31mIndexError\u001b[0m: list index out of range"
          ]
        }
      ]
    },
    {
      "cell_type": "markdown",
      "source": [
        "We've run into an error in trying to create our dictionary.  At the bottom of the error message it says: `IndexError: list index out of range`\n",
        "\n",
        "A search of Stack Overflow shows us that this error means that Python tried to use an index number with a list that did not exist.\n",
        "\n",
        "We can also see in the printout that Python is indicating line 10 as where the error occured.  This is the line where the code creates a new entry in the dictionary with the key being `list_of_customers[i]` and the value being `customer_purchases[i]`."
      ],
      "metadata": {
        "id": "GS-Zo9-_7m82"
      }
    },
    {
      "cell_type": "markdown",
      "source": [
        "# Print Statements\n",
        "\n",
        "We will put some print statements in our for loop to see what the value of `i` is when the error occurs.  `i` is the number we are using to index into our lists in each iteration of the for loop."
      ],
      "metadata": {
        "id": "EEMg0_q08IFv"
      }
    },
    {
      "cell_type": "code",
      "source": [
        "# instantiate a new dictionary\n",
        "customer_lookup = {}\n",
        "\n",
        "# create a counter to help us iterate through the index of the purchases.\n",
        "\n",
        "# iterate through the list of customers\n",
        "for i in range(len(list_of_customers)):\n",
        "  print(f'value of i: {i}')\n",
        "  # create a new key for the customer name and set the value to the number of purchases\n",
        "  name = list_of_customers[i]  \n",
        "  customer_lookup[name] = customer_purchases[i]\n",
        "  print(f'successfully added item: {i}')"
      ],
      "metadata": {
        "colab": {
          "base_uri": "https://localhost:8080/",
          "height": 356
        },
        "id": "HQIrW6tirwtA",
        "outputId": "dec35cf7-e3b6-4ecb-9ba0-d92295bf526f"
      },
      "execution_count": null,
      "outputs": [
        {
          "output_type": "stream",
          "name": "stdout",
          "text": [
            "value of i: 0\n",
            "successfully added item: 0\n",
            "value of i: 1\n",
            "successfully added item: 1\n",
            "value of i: 2\n",
            "successfully added item: 2\n",
            "value of i: 3\n"
          ]
        },
        {
          "output_type": "error",
          "ename": "IndexError",
          "evalue": "ignored",
          "traceback": [
            "\u001b[0;31m---------------------------------------------------------------------------\u001b[0m",
            "\u001b[0;31mIndexError\u001b[0m                                Traceback (most recent call last)",
            "\u001b[0;32m<ipython-input-4-9237e6ebedb5>\u001b[0m in \u001b[0;36m<module>\u001b[0;34m()\u001b[0m\n\u001b[1;32m      9\u001b[0m   \u001b[0;31m# create a new key for the customer name and set the value to the number of purchases\u001b[0m\u001b[0;34m\u001b[0m\u001b[0;34m\u001b[0m\u001b[0;34m\u001b[0m\u001b[0m\n\u001b[1;32m     10\u001b[0m   \u001b[0mname\u001b[0m \u001b[0;34m=\u001b[0m \u001b[0mlist_of_customers\u001b[0m\u001b[0;34m[\u001b[0m\u001b[0mi\u001b[0m\u001b[0;34m]\u001b[0m\u001b[0;34m\u001b[0m\u001b[0;34m\u001b[0m\u001b[0m\n\u001b[0;32m---> 11\u001b[0;31m   \u001b[0mcustomer_lookup\u001b[0m\u001b[0;34m[\u001b[0m\u001b[0mname\u001b[0m\u001b[0;34m]\u001b[0m \u001b[0;34m=\u001b[0m \u001b[0mcustomer_purchases\u001b[0m\u001b[0;34m[\u001b[0m\u001b[0mi\u001b[0m\u001b[0;34m]\u001b[0m\u001b[0;34m\u001b[0m\u001b[0;34m\u001b[0m\u001b[0m\n\u001b[0m\u001b[1;32m     12\u001b[0m   \u001b[0mprint\u001b[0m\u001b[0;34m(\u001b[0m\u001b[0;34mf'successfully added item: {i}'\u001b[0m\u001b[0;34m)\u001b[0m\u001b[0;34m\u001b[0m\u001b[0;34m\u001b[0m\u001b[0m\n",
            "\u001b[0;31mIndexError\u001b[0m: list index out of range"
          ]
        }
      ]
    },
    {
      "cell_type": "markdown",
      "source": [
        "The code fails on the 4th iteration, index 3.  Let's check the lengths of each list to see if one of them is less than 4 elements long."
      ],
      "metadata": {
        "id": "agHn3GgB8aAQ"
      }
    },
    {
      "cell_type": "code",
      "source": [
        "print(f'length of list_of_customers: {len(list_of_customers)}')\n",
        "print(f'length of customer_purchases: {len(customer_purchases)}')"
      ],
      "metadata": {
        "colab": {
          "base_uri": "https://localhost:8080/"
        },
        "id": "rDvMOba33zzz",
        "outputId": "00263b1d-846d-44a9-e064-b78b53907bc3"
      },
      "execution_count": null,
      "outputs": [
        {
          "output_type": "stream",
          "name": "stdout",
          "text": [
            "length of list_of_customers: 4\n",
            "length of customer_purchases: 3\n"
          ]
        }
      ]
    },
    {
      "cell_type": "markdown",
      "source": [
        "# Putting the Clues Together\n",
        "\n",
        "We know that our errors says we are searching past the end of a list, that the error occurs when we are trying to set the 4th element of `customer_purchases` as a value in our dictionary, and we know that `customer_purchases` has a length of 3.  \n",
        "\n",
        "The problem is that we are missing a value in our `customer_purchases` list.  We go back and review our original data and find that the last entry for the final customer in `list_of_customers` did not get entered into `customer_purchases`.  We know that `.append()` adds a item to the end of a list, so we will use that to append the appropriate value in the appropriate position (Remember that lists are ordered, so this matters!)"
      ],
      "metadata": {
        "id": "SoSduvtV8jmI"
      }
    },
    {
      "cell_type": "code",
      "source": [
        "customer_purchases.append(3)"
      ],
      "metadata": {
        "id": "mmuPTw6736EH"
      },
      "execution_count": null,
      "outputs": []
    },
    {
      "cell_type": "markdown",
      "source": [
        "We will re-run the code with the diagnostic print statements still in it to see if it's working now."
      ],
      "metadata": {
        "id": "bKyAdpZE96EC"
      }
    },
    {
      "cell_type": "code",
      "source": [
        "# instantiate a new dictionary\n",
        "customer_lookup = {}\n",
        "\n",
        "# create a counter to help us iterate through the index of the purchases.\n",
        "\n",
        "# iterate through the list of customers\n",
        "for i in range(len(list_of_customers)):\n",
        "  print(f'value of i: {i}')\n",
        "  # create a new key for the customer name and set the value to the number of purchases\n",
        "  name = list_of_customers[i]  \n",
        "  customer_lookup[name] = customer_purchases[i]\n",
        "  print(f'successfully added item: {i}')"
      ],
      "metadata": {
        "id": "p93fO8MGqwGQ",
        "colab": {
          "base_uri": "https://localhost:8080/"
        },
        "outputId": "5508bad1-0779-4585-b6fb-762ef66c6905"
      },
      "execution_count": null,
      "outputs": [
        {
          "output_type": "stream",
          "name": "stdout",
          "text": [
            "value of i: 0\n",
            "successfully added item: 0\n",
            "value of i: 1\n",
            "successfully added item: 1\n",
            "value of i: 2\n",
            "successfully added item: 2\n",
            "value of i: 3\n",
            "successfully added item: 3\n"
          ]
        }
      ]
    },
    {
      "cell_type": "markdown",
      "source": [
        "Finally, since the code is working, we will remove the print statements that we no longer need."
      ],
      "metadata": {
        "id": "phZDuCeN-DMl"
      }
    },
    {
      "cell_type": "code",
      "source": [
        "# instantiate a new dictionary\n",
        "customer_lookup = {}\n",
        "\n",
        "# create a counter to help us iterate through the index of the purchases.\n",
        "\n",
        "# iterate through the list of customers\n",
        "for i in range(len(list_of_customers)):\n",
        "  # create a new key for the customer name and set the value to the number of purchases\n",
        "  name = list_of_customers[i]  \n",
        "  customer_lookup[name] = customer_purchases[i]\n"
      ],
      "metadata": {
        "id": "VnWGJZNF4TTt"
      },
      "execution_count": null,
      "outputs": []
    },
    {
      "cell_type": "markdown",
      "source": [
        "# Sanity Check\n",
        "\n",
        "Just to make sure everything looks right, we will print out the dictionary and check it against our other records.  If we were dealing with very long lists of customers and purchases, this would be inefficient and we might just check a few entries to make sure they look right."
      ],
      "metadata": {
        "id": "DLw89aiE-Xi4"
      }
    },
    {
      "cell_type": "code",
      "source": [
        "print(customer_lookup)"
      ],
      "metadata": {
        "colab": {
          "base_uri": "https://localhost:8080/"
        },
        "id": "4mwaQO5u-L5P",
        "outputId": "5879fac8-3473-4dc0-bd17-ab40c2fd69cb"
      },
      "execution_count": null,
      "outputs": [
        {
          "output_type": "stream",
          "name": "stdout",
          "text": [
            "{'Bradley': 3, 'Miranda': 5, 'Tarik': 1, 'Corinne': 3}\n"
          ]
        }
      ]
    },
    {
      "cell_type": "markdown",
      "source": [
        "# Optional Challenge:\n",
        "\n",
        "Try debugging the code below.  It should create a dictionay of contractor billable hours and then one entry that is the total billable hours."
      ],
      "metadata": {
        "id": "4_ZuCa7Y-p8Z"
      }
    },
    {
      "cell_type": "code",
      "source": [
        "# create a dictionary of pet weights\n",
        "contractor_hours = {}\n",
        "\n",
        "contractor_hours['James'] = 10\n",
        "contractor_hours['Purvi'] = 4\n",
        "contractor_hours['Sherlin'] = 20\n",
        "\n",
        "# print them sum of the weights of all pets\n",
        "contractor_hours['total hours'] = sum(contractor_hours)"
      ],
      "metadata": {
        "colab": {
          "base_uri": "https://localhost:8080/",
          "height": 208
        },
        "id": "cMp0_VWKCi8j",
        "outputId": "02165a73-39d1-4600-dd12-359fef45c826"
      },
      "execution_count": null,
      "outputs": [
        {
          "output_type": "error",
          "ename": "TypeError",
          "evalue": "ignored",
          "traceback": [
            "\u001b[0;31m---------------------------------------------------------------------------\u001b[0m",
            "\u001b[0;31mTypeError\u001b[0m                                 Traceback (most recent call last)",
            "\u001b[0;32m<ipython-input-20-bb2f34705283>\u001b[0m in \u001b[0;36m<module>\u001b[0;34m()\u001b[0m\n\u001b[1;32m      7\u001b[0m \u001b[0;34m\u001b[0m\u001b[0m\n\u001b[1;32m      8\u001b[0m \u001b[0;31m# print them sum of the weights of all pets\u001b[0m\u001b[0;34m\u001b[0m\u001b[0;34m\u001b[0m\u001b[0;34m\u001b[0m\u001b[0m\n\u001b[0;32m----> 9\u001b[0;31m \u001b[0mpet_weights\u001b[0m\u001b[0;34m[\u001b[0m\u001b[0;34m'total weight'\u001b[0m\u001b[0;34m]\u001b[0m \u001b[0;34m=\u001b[0m \u001b[0msum\u001b[0m\u001b[0;34m(\u001b[0m\u001b[0mpet_weights\u001b[0m\u001b[0;34m)\u001b[0m\u001b[0;34m\u001b[0m\u001b[0;34m\u001b[0m\u001b[0m\n\u001b[0m",
            "\u001b[0;31mTypeError\u001b[0m: unsupported operand type(s) for +: 'int' and 'str'"
          ]
        }
      ]
    },
    {
      "cell_type": "code",
      "source": [
        ""
      ],
      "metadata": {
        "id": "1N7skhdb_xQJ"
      },
      "execution_count": null,
      "outputs": []
    }
  ]
}