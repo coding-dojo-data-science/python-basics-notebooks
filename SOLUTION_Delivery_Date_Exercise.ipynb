{
  "nbformat": 4,
  "nbformat_minor": 0,
  "metadata": {
    "colab": {
      "name": "SOLUTION Delivery Date Exercise.ipynb",
      "provenance": [],
      "collapsed_sections": [],
      "authorship_tag": "ABX9TyMzahxJnFSJ8PYyJ6fogG52",
      "include_colab_link": true
    },
    "kernelspec": {
      "name": "python3",
      "display_name": "Python 3"
    },
    "language_info": {
      "name": "python"
    }
  },
  "cells": [
    {
      "cell_type": "markdown",
      "metadata": {
        "id": "view-in-github",
        "colab_type": "text"
      },
      "source": [
        "<a href=\"https://colab.research.google.com/github/coding-dojo-data-science/python-basics-notebooks/blob/main/SOLUTION_Delivery_Date_Exercise.ipynb\" target=\"_parent\"><img src=\"https://colab.research.google.com/assets/colab-badge.svg\" alt=\"Open In Colab\"/></a>"
      ]
    },
    {
      "cell_type": "markdown",
      "source": [
        "# The Package is Late!\n",
        "\n",
        "A package was shipped on October 22nd, 2000.  However, it didn't arrive for 1 years, 3 months, and 10 days.  Your task will be to use Python to calculate and print the date of delivery.\n",
        "\n",
        "## Note:\n",
        "Python lets you apply operators to a variable using a shorthand:\n",
        "\n",
        "Instead of `a = a + 2`\n",
        "\n",
        "You can code: `a += 2`\n",
        "\n",
        "You can do this with any of the basic binary operators: `+=`, `-=`, `*=`, `/=`, `%=`, and `//=`.\n",
        "\n",
        "To accomplish this task you will:\n",
        "1. Declare 3 variables: \n",
        "  * `month` will be pointed to the integer `10`\n",
        "  * `day` will be pointed to the integer `22`\n",
        "  * `year` will be pointed to the integer `2000`\n",
        "2. Add:\n",
        "  * 3 to `month`\n",
        "  * 10 to `day`\n",
        "  * 1 to `year`\n",
        "3. Inspect each variable and ensure the values are sensible:  \n",
        " * Hint 1: How many days are in a month?  How many months are in a year?\n",
        " * Use the modulo operator to find the correct value for day and month and then change month and year if necessary.\n",
        " * Check the values of each variable again to make sure they are the correct month, day, and year.\n",
        "4. Convert `month`, `day`, and `year` to string type variables.\n",
        "5. Concatenate the month, day, and year together into a single string of the format \"mm/dd/yyyy\".  Save this new string in a variable called `delivery_date`\n",
        "  * The `+` operator can be used to concatenate strings together\n",
        "  * Hint, don't forget the forward slash!\n",
        "6. Display the value of `delivery_date`\n",
        "\n",
        "When you are finished your final cell should output the string:\n",
        "\n",
        "`2/1/2002`"
      ],
      "metadata": {
        "id": "pZ9-cWl4hOPS"
      }
    },
    {
      "cell_type": "markdown",
      "source": [
        "1. Declare 3 variables: \n",
        "  * `month` will be pointed to the integer `10`\n",
        "  * `day` will be pointed to the integer `22`\n",
        "  * `year` will be pointed to the integer `2000`"
      ],
      "metadata": {
        "id": "yCUr6QRIjy_I"
      }
    },
    {
      "cell_type": "code",
      "execution_count": null,
      "metadata": {
        "id": "I8vYkwMrhF7O"
      },
      "outputs": [],
      "source": [
        "# Declare the month, day, and year variables\n",
        "month = 10\n",
        "day = 22\n",
        "year = 2000"
      ]
    },
    {
      "cell_type": "markdown",
      "source": [
        "2. Add:\n",
        "  * 3 to `month`\n",
        "  * 10 to `day`\n",
        "  * 1 to `year`"
      ],
      "metadata": {
        "id": "CHj0pNJ0j48o"
      }
    },
    {
      "cell_type": "code",
      "source": [
        "# Add the delivery time to the shipping date\n",
        "month += 3\n",
        "day += 10\n",
        "year += 1"
      ],
      "metadata": {
        "id": "qtGAZCT1jyUG"
      },
      "execution_count": null,
      "outputs": []
    },
    {
      "cell_type": "markdown",
      "source": [
        "3. Check the values of each variable to make sure that they are sensible:  \n",
        " * Hint 1: How many days are in a month?  How many months are in a year?"
      ],
      "metadata": {
        "id": "QPFzaEOHkGRv"
      }
    },
    {
      "cell_type": "code",
      "source": [
        "print(month, day, year)"
      ],
      "metadata": {
        "colab": {
          "base_uri": "https://localhost:8080/"
        },
        "id": "j3Z7msJ8l1l-",
        "outputId": "22c61f77-1f9c-44a1-b574-3f05b30f9622"
      },
      "execution_count": null,
      "outputs": [
        {
          "output_type": "stream",
          "name": "stdout",
          "text": [
            "13 32 2001\n"
          ]
        }
      ]
    },
    {
      "cell_type": "markdown",
      "source": [
        " * Use the modulo operator to find the correct value for day and month, and change values for month and year if necessary."
      ],
      "metadata": {
        "id": "FPBO4gJFkMCo"
      }
    },
    {
      "cell_type": "code",
      "source": [
        "# Correct year variable\n",
        "year += month // 12\n",
        "\n",
        "# Correct month variable\n",
        "month %= 12\n",
        "month += day // 31\n",
        "\n",
        "# Correct Day Variable\n",
        "day %= 31\n",
        "\n",
        "print(month, day, year)"
      ],
      "metadata": {
        "colab": {
          "base_uri": "https://localhost:8080/"
        },
        "id": "kTtOHFqgkCRI",
        "outputId": "b6ce3868-41a1-475c-db39-3c15e68eb94a"
      },
      "execution_count": null,
      "outputs": [
        {
          "output_type": "stream",
          "name": "stdout",
          "text": [
            "2 1 2002\n"
          ]
        }
      ]
    },
    {
      "cell_type": "markdown",
      "source": [
        "4. Convert `month`, `day`, and `year` to string type variables."
      ],
      "metadata": {
        "id": "ssZNCoCNlb_G"
      }
    },
    {
      "cell_type": "code",
      "source": [
        "# Change the integer variables to strings\n",
        "month = str(month)\n",
        "day = str(day)\n",
        "year = str(year)"
      ],
      "metadata": {
        "id": "QyECv3G4kds4"
      },
      "execution_count": null,
      "outputs": []
    },
    {
      "cell_type": "markdown",
      "source": [
        "5. Concatenate the month, day, and year together into a single string of the format \"mm/dd/yyyy\".  Save this new string in a variable called `delivery_date`\n",
        "  * The `+` operator can be used to concatenate strings together\n",
        "  * Hint, don't forget the forward slash!"
      ],
      "metadata": {
        "id": "wt60JjnTliZu"
      }
    },
    {
      "cell_type": "code",
      "source": [
        "# Concatenate the strings\n",
        "date = month + '/' + day + '/' + year"
      ],
      "metadata": {
        "id": "fts6tnk5lYHn"
      },
      "execution_count": null,
      "outputs": []
    },
    {
      "cell_type": "markdown",
      "source": [
        "6. Display the value of `delivery_date`"
      ],
      "metadata": {
        "id": "TkPdhOeeliUe"
      }
    },
    {
      "cell_type": "code",
      "source": [
        "# Print the date\n",
        "print(date)"
      ],
      "metadata": {
        "colab": {
          "base_uri": "https://localhost:8080/"
        },
        "id": "bsgb-rlalfWn",
        "outputId": "0116521d-d5ab-4cc5-e225-33119452b6f0"
      },
      "execution_count": null,
      "outputs": [
        {
          "output_type": "stream",
          "name": "stdout",
          "text": [
            "2/1/2002\n"
          ]
        }
      ]
    }
  ]
}