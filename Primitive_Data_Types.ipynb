{
  "nbformat": 4,
  "nbformat_minor": 0,
  "metadata": {
    "colab": {
      "name": "Primitive Data Types.ipynb",
      "provenance": [],
      "collapsed_sections": [],
      "include_colab_link": true
    },
    "kernelspec": {
      "name": "python3",
      "display_name": "Python 3"
    },
    "language_info": {
      "name": "python"
    }
  },
  "cells": [
    {
      "cell_type": "markdown",
      "metadata": {
        "id": "view-in-github",
        "colab_type": "text"
      },
      "source": [
        "<a href=\"https://colab.research.google.com/github/coding-dojo-data-science/python-basics-notebooks/blob/main/Primitive_Data_Types.ipynb\" target=\"_parent\"><img src=\"https://colab.research.google.com/assets/colab-badge.svg\" alt=\"Open In Colab\"/></a>"
      ]
    },
    {
      "cell_type": "markdown",
      "source": [
        "# Python Primitive Data Types\n",
        "\n",
        "\n",
        "## In this notebook you will explore:\n",
        "- Operators\n",
        "- Integers (Also known as ints)\n",
        "- Floats\n",
        "- Strings \n",
        "- Bools\n",
        "- None\n",
        "\n",
        "## Operators\n",
        "\n",
        "Operands are special ways to interact with types and their function changes depending on the types used.  For instance\n",
        "\n",
        "5 + 3 == 8\n",
        "\n",
        "#Note:\n",
        "\"=\" assigns an object to a variable\n",
        "\"==\" as the question, are these equal to each other?  \n",
        "\n",
        "'Hello' + 'World' == 'HelloWorld'\n",
        "\n",
        "## Binary Operators (two arguments):\n",
        "- plus (+): 5 + 2\n",
        "- minus (-): 5 - 2\n",
        "- times (*): 5 * 2\n",
        "- divide (/): 5 / 2\n",
        "- modulo (&): 5 % 2\n",
        "\n",
        "## Boolean Operators (returns a bool, `True` or `False`)\n",
        "- is equal to (==): 5 == 5\n",
        "- is not equal to (!=): 5 != 2\n",
        "- is greater than (>): 5 > 2\n",
        "- is greater than or equal to (>=): 5 >= 2 \n",
        "- is less than (<): 2 < 5\n",
        "- is less than or equal to (<=): 2 <= 5 \n",
        "\n",
        "## Unary Operators (one argument)\n",
        "\n",
        "- negation (-): -5"
      ],
      "metadata": {
        "id": "Q7tX8Jd5ee4H"
      }
    },
    {
      "cell_type": "markdown",
      "source": [
        "# Ints\n",
        "\n",
        "Integers are whole numbers.  You can use the function `int()` to convert another type into an integer.\n",
        "\n",
        "The function `type()` can be used to return the type of an object."
      ],
      "metadata": {
        "id": "7tJswLreenx2"
      }
    },
    {
      "cell_type": "code",
      "source": [
        "# Run this code to see how a string can become an integer\n",
        "\n",
        "a = int('5')\n",
        "\n",
        "print(a)\n",
        "print(type(a))"
      ],
      "metadata": {
        "colab": {
          "base_uri": "https://localhost:8080/"
        },
        "id": "ziyxJGoaJDha",
        "outputId": "be9f3308-194f-4da5-8ea9-c6d27130b0ed"
      },
      "execution_count": null,
      "outputs": [
        {
          "output_type": "stream",
          "name": "stdout",
          "text": [
            "5\n",
            "<class 'int'>\n"
          ]
        }
      ]
    },
    {
      "cell_type": "code",
      "source": [
        "# Run this code to change a float to an int and notice how the number changes.\n",
        "\n",
        "b = 5.7\n",
        "\n",
        "c = int(b)\n",
        "\n",
        "print(c)\n",
        "print(type(c))"
      ],
      "metadata": {
        "colab": {
          "base_uri": "https://localhost:8080/"
        },
        "id": "DI8viqk0f7gX",
        "outputId": "699269cf-2798-4d71-8af9-010894c1e63b"
      },
      "execution_count": null,
      "outputs": [
        {
          "output_type": "stream",
          "name": "stdout",
          "text": [
            "5\n",
            "<class 'int'>\n"
          ]
        }
      ]
    },
    {
      "cell_type": "markdown",
      "source": [
        "When a float is changed, or 'recast' into an integer, the numbers after the decimal are simply dropped."
      ],
      "metadata": {
        "id": "bmQcWRacg8hN"
      }
    },
    {
      "cell_type": "markdown",
      "source": [
        "## Operators and Integers"
      ],
      "metadata": {
        "id": "DhEggx5pign2"
      }
    },
    {
      "cell_type": "code",
      "source": [
        "# In this cell test out +, -, /, *, and % to see how Python evaluates each expression\n",
        "\n",
        "# <Your code here>"
      ],
      "metadata": {
        "id": "B4HMWF2dg7qn"
      },
      "execution_count": null,
      "outputs": []
    },
    {
      "cell_type": "markdown",
      "source": [
        "# Floats\n",
        "\n",
        "Floats are similar to ints, but have decimal points.  In most cases they can be used like integers, but they take more computer memory to store because the computer must store the location of the decimal as well as the digits."
      ],
      "metadata": {
        "id": "ptY6z9EXhYtu"
      }
    },
    {
      "cell_type": "code",
      "source": [
        "# Run this cell to recast an integer to a float\n",
        "\n",
        "a = 5\n",
        "\n",
        "b = float(5)\n",
        "\n",
        "print(b)\n",
        "print(type(b))"
      ],
      "metadata": {
        "colab": {
          "base_uri": "https://localhost:8080/"
        },
        "id": "QDwR-Q8LhMwV",
        "outputId": "77254459-7557-4db0-b99a-27f058a20a94"
      },
      "execution_count": null,
      "outputs": [
        {
          "output_type": "stream",
          "name": "stdout",
          "text": [
            "5.0\n",
            "<class 'float'>\n"
          ]
        }
      ]
    },
    {
      "cell_type": "code",
      "source": [
        "# Run this cell to recast a string as a float\n",
        "\n",
        "c = '5'\n",
        "\n",
        "d = float(c)\n",
        "\n",
        "print(d)\n",
        "print(type(d))"
      ],
      "metadata": {
        "colab": {
          "base_uri": "https://localhost:8080/"
        },
        "id": "pH1MwqmGjuJo",
        "outputId": "172737ff-99e9-4733-d5e6-f511b8a1e569"
      },
      "execution_count": null,
      "outputs": [
        {
          "output_type": "stream",
          "name": "stdout",
          "text": [
            "5.0\n",
            "<class 'float'>\n"
          ]
        }
      ]
    },
    {
      "cell_type": "markdown",
      "source": [
        "## Operators and Floats"
      ],
      "metadata": {
        "id": "8c_kk5CPneCW"
      }
    },
    {
      "cell_type": "code",
      "source": [
        "# Try using +, -, /, *, and % with floats to see how Python evaluates each expression.\n",
        "\n",
        "# <your code here>"
      ],
      "metadata": {
        "id": "y8qQTexTndnu"
      },
      "execution_count": null,
      "outputs": []
    },
    {
      "cell_type": "markdown",
      "source": [
        "# Strings\n",
        "\n",
        "Strings are text.  You can use single or double quotes to create a string, as long as you use the same at both the beginning and the end.\n",
        "\n",
        "You can recast other types into a string using the function `str()`"
      ],
      "metadata": {
        "id": "gFqX4Sj2kBxm"
      }
    },
    {
      "cell_type": "code",
      "source": [
        "# Run this cell to create the string, 'Hello World'\n",
        "\n",
        "a = 'Hello World'\n",
        "print(a)"
      ],
      "metadata": {
        "id": "3EL_qjN775dH",
        "colab": {
          "base_uri": "https://localhost:8080/"
        },
        "outputId": "a9420cc4-d92b-4ef6-bb17-500ce64b97ef"
      },
      "execution_count": null,
      "outputs": [
        {
          "output_type": "stream",
          "name": "stdout",
          "text": [
            "Hello World\n"
          ]
        }
      ]
    },
    {
      "cell_type": "code",
      "source": [
        "# Run this cell to recast an float as a string\n",
        "\n",
        "a = 5.2\n",
        "\n",
        "b = str(a)\n",
        "\n",
        "print(b)\n",
        "print(type(b))"
      ],
      "metadata": {
        "colab": {
          "base_uri": "https://localhost:8080/"
        },
        "id": "8BjSNxyAnYXH",
        "outputId": "5ffa0e9a-e547-40de-b8f1-47f0b1009beb"
      },
      "execution_count": null,
      "outputs": [
        {
          "output_type": "stream",
          "name": "stdout",
          "text": [
            "5.2\n",
            "<class 'str'>\n"
          ]
        }
      ]
    },
    {
      "cell_type": "markdown",
      "source": [
        "## New Line\n",
        "\n",
        "One special command inside of a string is `\\n`.  This creates a new line"
      ],
      "metadata": {
        "id": "8ircoVQSo3NG"
      }
    },
    {
      "cell_type": "code",
      "source": [
        "a = 'Hello\\nWorld'\n",
        "\n",
        "print(a)"
      ],
      "metadata": {
        "colab": {
          "base_uri": "https://localhost:8080/"
        },
        "id": "CHsmdyy5pAcH",
        "outputId": "912a1d8f-2c4e-41a5-c196-a0a179907973"
      },
      "execution_count": null,
      "outputs": [
        {
          "output_type": "stream",
          "name": "stdout",
          "text": [
            "Hello\n",
            "World\n"
          ]
        }
      ]
    },
    {
      "cell_type": "markdown",
      "source": [
        "## F-strings\n",
        "\n",
        "An f-string allows you insert variables into your strings.  This becomes very useful later when you start using loops and creating custom functions."
      ],
      "metadata": {
        "id": "Fqiv2aGepaNP"
      }
    },
    {
      "cell_type": "code",
      "source": [
        "# At Joziah's Grocery bananas cost $.95\n",
        "\n",
        "number_of_bananas = 5\n",
        "cost_of_bananas = .95\n",
        "\n",
        "total = number_of_bananas * cost_of_bananas\n",
        "\n",
        "c = f'I bought {number_of_bananas} bananas for ${total} and Joziahs Grocery'\n",
        "\n",
        "print(c)"
      ],
      "metadata": {
        "colab": {
          "base_uri": "https://localhost:8080/"
        },
        "id": "jzLBevXvpj3_",
        "outputId": "9506870e-bbb9-4b7c-e78e-885cd0614f16"
      },
      "execution_count": null,
      "outputs": [
        {
          "output_type": "stream",
          "name": "stdout",
          "text": [
            "I bought 5 bananas for $4.75 and Joziahs Grocery\n"
          ]
        }
      ]
    },
    {
      "cell_type": "code",
      "source": [
        "# Try creating a 2 new variables that can be changed and embed them in an f-string\n",
        "\n",
        "#<your code here>"
      ],
      "metadata": {
        "id": "8t6Q_6_lU3TF"
      },
      "execution_count": null,
      "outputs": []
    },
    {
      "cell_type": "markdown",
      "source": [
        "Try changing the number of bananas or the cost of bananas to see how Python evaluates the f-string differently."
      ],
      "metadata": {
        "id": "9PGhnSbJUU-N"
      }
    },
    {
      "cell_type": "markdown",
      "source": [
        "## `'` or `\"`?\n",
        "\n",
        "One last trick to strings is how to put quotation marks or apostrophes in your strings.  If you start a string with `'` and end with `'`, then you can have `\"` in the middle.  If you start a string with `\"` and end the string with `\"` you can have `'` in the middle.  If you want to use both, you'll have to use an f-string to insert them."
      ],
      "metadata": {
        "id": "zxoXDzhsqKrv"
      }
    },
    {
      "cell_type": "code",
      "source": [
        "a = \"Joziah's Grocery\"\n",
        "\n",
        "print(a)\n",
        "\n",
        "b = f'She said \"I love {a}\"'\n",
        "\n",
        "print(b)"
      ],
      "metadata": {
        "colab": {
          "base_uri": "https://localhost:8080/"
        },
        "id": "-5ckVGMYrCpX",
        "outputId": "0ac2cd83-d167-4fbd-fa77-5acffe8d306d"
      },
      "execution_count": null,
      "outputs": [
        {
          "output_type": "stream",
          "name": "stdout",
          "text": [
            "Joziah's Grocery\n",
            "She said \"I love Joziah's Grocery\"\n"
          ]
        }
      ]
    },
    {
      "cell_type": "markdown",
      "source": [
        "## Operators and Strings\n",
        "\n",
        "Operators work a little differently with strings than with floats and ints.  "
      ],
      "metadata": {
        "id": "fHMfl9amn9hP"
      }
    },
    {
      "cell_type": "code",
      "source": [
        "# Run this cell to see how Python evaluates operators with strings\n",
        "\n",
        "a = 'Hello' + ' ' + 'World'\n",
        "print(a)"
      ],
      "metadata": {
        "colab": {
          "base_uri": "https://localhost:8080/"
        },
        "id": "d1Sa2EEAoPwB",
        "outputId": "407abf64-1e9a-48b3-da65-6f97da4ae98e"
      },
      "execution_count": null,
      "outputs": [
        {
          "output_type": "stream",
          "name": "stdout",
          "text": [
            "Hello World\n"
          ]
        }
      ]
    },
    {
      "cell_type": "code",
      "source": [
        "# You can't multiply a string by a string, but you can multiply\n",
        "# a string by an integer!\n",
        "\n",
        "b = 'Hello' * 3\n",
        "\n",
        "print(b)\n",
        "print(type(b))"
      ],
      "metadata": {
        "colab": {
          "base_uri": "https://localhost:8080/"
        },
        "id": "TTMYOWG5ow1v",
        "outputId": "28cb138c-27bc-4c78-8292-8f9ce28ffa04"
      },
      "execution_count": null,
      "outputs": [
        {
          "output_type": "stream",
          "name": "stdout",
          "text": [
            "HelloHelloHello\n",
            "<class 'str'>\n"
          ]
        }
      ]
    },
    {
      "cell_type": "code",
      "source": [
        "# Do any other operands work with strings?\n"
      ],
      "metadata": {
        "id": "G1eACiExroxv"
      },
      "execution_count": null,
      "outputs": []
    },
    {
      "cell_type": "markdown",
      "source": [
        "# Bools\n",
        "\n",
        "Bools are `True` or `False`\n",
        "\n",
        "These will be very useful later when you learn loops and conditionals."
      ],
      "metadata": {
        "id": "SxDO2NxsruuH"
      }
    },
    {
      "cell_type": "markdown",
      "source": [
        ""
      ],
      "metadata": {
        "id": "EwYo63LI-URA"
      }
    },
    {
      "cell_type": "code",
      "source": [
        "print(bool(10))\n",
        "print(bool(0))\n",
        "print(bool('Hello'))\n",
        "print(bool(10<20))\n"
      ],
      "metadata": {
        "id": "HONJ5Box99E0",
        "outputId": "20f045d7-5027-44bf-d24d-7c976a446df0",
        "colab": {
          "base_uri": "https://localhost:8080/"
        }
      },
      "execution_count": null,
      "outputs": [
        {
          "output_type": "stream",
          "name": "stdout",
          "text": [
            "True\n",
            "False\n",
            "True\n",
            "True\n"
          ]
        }
      ]
    },
    {
      "cell_type": "code",
      "source": [
        "# Run this cell to check the type of True\n",
        "\n",
        "a = True\n",
        "\n",
        "print(a)\n",
        "print(type(a))"
      ],
      "metadata": {
        "colab": {
          "base_uri": "https://localhost:8080/"
        },
        "id": "77QoAflrr0HA",
        "outputId": "2308641d-6959-41c4-96f3-03e119c07da6"
      },
      "execution_count": null,
      "outputs": [
        {
          "output_type": "stream",
          "name": "stdout",
          "text": [
            "True\n",
            "<class 'bool'>\n"
          ]
        }
      ]
    },
    {
      "cell_type": "markdown",
      "source": [
        "## Comparison statements\n",
        "Bools are often created as the result of a conditional statement using operators such as:\n",
        "\n",
        "- Is greater than (>)\n",
        "- Is greater than or equal to (>=)\n",
        "- Is less than (<)\n",
        "- Is less than or equal to (<=)\n",
        "- Is equal to (==) "
      ],
      "metadata": {
        "id": "OYs2saxer_IP"
      }
    },
    {
      "cell_type": "code",
      "source": [
        "# Run this cell to create a bool using the > operator\n",
        "\n",
        "a = 5\n",
        "b = 4\n",
        "\n",
        "c = 5 > 4\n",
        "\n",
        "print(c)\n",
        "print(type(c))"
      ],
      "metadata": {
        "colab": {
          "base_uri": "https://localhost:8080/"
        },
        "id": "dVgYd7nTs4rq",
        "outputId": "e451d949-d693-4ddc-dd71-2bbffab2abf2"
      },
      "execution_count": null,
      "outputs": [
        {
          "output_type": "stream",
          "name": "stdout",
          "text": [
            "True\n",
            "<class 'bool'>\n"
          ]
        }
      ]
    },
    {
      "cell_type": "code",
      "source": [
        "# Run this cell to create a bool using the == operator\n",
        "\n",
        "a = 5\n",
        "b = 4\n",
        "\n",
        "# Evaluate 'is 5 equal to 4' and assign it to 'c'\n",
        "c = 5 == 4\n",
        "\n",
        "print(c)\n",
        "print(type(c))"
      ],
      "metadata": {
        "colab": {
          "base_uri": "https://localhost:8080/"
        },
        "id": "3VEUyrJx0pli",
        "outputId": "ca9c36b9-a754-48a2-b8e1-6cc3c6205597"
      },
      "execution_count": null,
      "outputs": [
        {
          "output_type": "stream",
          "name": "stdout",
          "text": [
            "False\n",
            "<class 'bool'>\n"
          ]
        }
      ]
    },
    {
      "cell_type": "code",
      "source": [
        "# Run this cell to create a bool using the == operator\n",
        "\n",
        "a = 'Hello'\n",
        "b = ' '\n",
        "c = 'World'\n",
        "\n",
        "# d is the contatenation of a, b, and c\n",
        "d = a + b + c\n",
        "\n",
        "e = 'Hello World'\n",
        "\n",
        "# f is the bool: d is equal to e\n",
        "f = d == e\n",
        "\n",
        "print(f)\n",
        "print(type(f))"
      ],
      "metadata": {
        "colab": {
          "base_uri": "https://localhost:8080/"
        },
        "id": "SkhJzoNq0y25",
        "outputId": "f782f1a6-8fee-455f-be03-1f7b3558026d"
      },
      "execution_count": null,
      "outputs": [
        {
          "output_type": "stream",
          "name": "stdout",
          "text": [
            "True\n",
            "<class 'bool'>\n"
          ]
        }
      ]
    },
    {
      "cell_type": "code",
      "source": [
        "# In this cell test out ==, !=, <, >, >=, and <= to see how they work with bools\n",
        "\n",
        "# <Your code here>"
      ],
      "metadata": {
        "id": "IIJ6Yn1qt9ml"
      },
      "execution_count": null,
      "outputs": []
    },
    {
      "cell_type": "markdown",
      "source": [
        "## Truthiness\n",
        "\n",
        "In fact, many types can be converted into a bool with the function `bool()`!.\n",
        "\n",
        "Most values will evaluate to `True` but a few will evaluate to `False`, such as `0`, `None`, an empty string: `\"\"`, any empty container such as lists, tuples, sets, and dictionaries. (You'll learn about containers in another lesson.)"
      ],
      "metadata": {
        "id": "szdkJX_sHZHA"
      }
    },
    {
      "cell_type": "code",
      "source": [
        "# Run this cell to check the truthiness of 0 and 1\n",
        "\n",
        "a = bool(0)\n",
        "b = bool(1)\n",
        "print(f\"a is {a}\")\n",
        "print(f\"b is {b}\")"
      ],
      "metadata": {
        "colab": {
          "base_uri": "https://localhost:8080/"
        },
        "id": "MKdrYI6FH1M2",
        "outputId": "9ac353ed-ef06-4344-adcd-dd90d88400b2"
      },
      "execution_count": null,
      "outputs": [
        {
          "output_type": "stream",
          "name": "stdout",
          "text": [
            "a is False\n",
            "b is True\n"
          ]
        }
      ]
    },
    {
      "cell_type": "code",
      "source": [
        "# Run this cell to check the truthiness of an empty string\n",
        "\n",
        "a = bool(\"\")\n",
        "b = bool(\"I am a string\")\n",
        "print(a)\n",
        "print(b)"
      ],
      "metadata": {
        "id": "JnluR-ctKqlo",
        "colab": {
          "base_uri": "https://localhost:8080/"
        },
        "outputId": "fc8dc864-4d0d-4fa7-a95c-b9846ffb03ba"
      },
      "execution_count": null,
      "outputs": [
        {
          "output_type": "stream",
          "name": "stdout",
          "text": [
            "False\n",
            "True\n"
          ]
        }
      ]
    },
    {
      "cell_type": "markdown",
      "source": [
        "# None Type\n",
        "\n",
        "There is a special type in Python that is the `None` type.  It only has one possible value, None.  It means nothing.  There is no thing there.  If a function does not return anything, but you try to set a variable to it, the variable will point to `None`."
      ],
      "metadata": {
        "id": "pIrVCzyaMehv"
      }
    },
    {
      "cell_type": "code",
      "source": [
        "# Run this cell to print None\n",
        "\n",
        "print(None)"
      ],
      "metadata": {
        "colab": {
          "base_uri": "https://localhost:8080/"
        },
        "id": "SZkidOuvMwXY",
        "outputId": "0f7bd2f3-4347-45ba-a73b-bddd87bb5927"
      },
      "execution_count": null,
      "outputs": [
        {
          "output_type": "stream",
          "name": "stdout",
          "text": [
            "None\n"
          ]
        }
      ]
    },
    {
      "cell_type": "code",
      "source": [
        "# the function print() returns None, which is to say nothing.\n",
        "\n",
        "a = print('A String')\n",
        "\n",
        "print(a)"
      ],
      "metadata": {
        "colab": {
          "base_uri": "https://localhost:8080/"
        },
        "id": "ymBAVOPxMy-X",
        "outputId": "d8db5e30-b121-44cf-ce75-bb9bd40a8b37"
      },
      "execution_count": null,
      "outputs": [
        {
          "output_type": "stream",
          "name": "stdout",
          "text": [
            "A String\n",
            "None\n"
          ]
        }
      ]
    },
    {
      "cell_type": "code",
      "source": [
        "# What is the truthiness of None?\n",
        "\n",
        "a = bool(None)\n",
        "\n",
        "print(a)"
      ],
      "metadata": {
        "colab": {
          "base_uri": "https://localhost:8080/"
        },
        "id": "W3mziVwNNNQP",
        "outputId": "0b1fb67e-87ca-413c-b4ed-fed8bf666553"
      },
      "execution_count": null,
      "outputs": [
        {
          "output_type": "stream",
          "name": "stdout",
          "text": [
            "False\n"
          ]
        }
      ]
    },
    {
      "cell_type": "markdown",
      "source": [
        "# Summary:\n",
        "\n",
        "Everything in Python is an object.  Python has basic, built in, primitive objects.  These are ints, floats, strings and bools.  Each primitive type has it's own rules and properties.  Learning about these primitive datatypes will help you understand more complex classes, types, and functions as your progress in your Python learning journey."
      ],
      "metadata": {
        "id": "AFDhnmuw5Sbi"
      }
    }
  ]
}