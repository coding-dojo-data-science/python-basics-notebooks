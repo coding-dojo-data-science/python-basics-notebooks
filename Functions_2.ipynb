{
  "nbformat": 4,
  "nbformat_minor": 0,
  "metadata": {
    "colab": {
      "name": "Functions 2.ipynb",
      "provenance": [],
      "authorship_tag": "ABX9TyOyOLui2Kpe0jdPvvFdPB0E",
      "include_colab_link": true
    },
    "kernelspec": {
      "name": "python3",
      "display_name": "Python 3"
    },
    "language_info": {
      "name": "python"
    }
  },
  "cells": [
    {
      "cell_type": "markdown",
      "metadata": {
        "id": "view-in-github",
        "colab_type": "text"
      },
      "source": [
        "<a href=\"https://colab.research.google.com/github/coding-dojo-data-science/python-basics-notebooks/blob/main/Functions_2.ipynb\" target=\"_parent\"><img src=\"https://colab.research.google.com/assets/colab-badge.svg\" alt=\"Open In Colab\"/></a>"
      ]
    },
    {
      "cell_type": "markdown",
      "source": [
        "# Functions 2:\n",
        "## Combining everything so far\n",
        "\n",
        "Let's combine what you've learned about Python programming to build a function to process some data.\n",
        "\n",
        "In this problem, a insurance brokerage wants to get some statistics about its brokers sales and have hired you to help them sort through their data to answer some questions about seller performance."
      ],
      "metadata": {
        "id": "CAVSqBEcUZw4"
      }
    },
    {
      "cell_type": "markdown",
      "source": [
        "In the cell below we create a dictionary of insurance salespeople.  The keys are the first name of each salesperson and the values are a list of monthly sales figures.  The numbers represent how many insurance policies each seller sold in each of the last six months "
      ],
      "metadata": {
        "id": "PYoNURDjXHk2"
      }
    },
    {
      "cell_type": "code",
      "execution_count": null,
      "metadata": {
        "id": "Uw52n0MEUW5G"
      },
      "outputs": [],
      "source": [
        "sellers = {'Amrita': [20, 10, 40, 50, 20, 50],\n",
        "           'Joseph': [15, 80, 45, 38, 15, 83],\n",
        "           'Xian': [55, 89, 22, 34, 45, 32],\n",
        "           'Gustav': [102, 12, 32, 63, 87, 34],\n",
        "           'Terracita': [13, 21, 2, 87, 5, 37],\n",
        "           'Faith': [65, 34, 82, 12, 3, 54]}"
      ]
    },
    {
      "cell_type": "markdown",
      "source": [
        "# Question 1: What is the average number of sales for each salesperson over the last 6 months?\n",
        "\n",
        "Let's break down the problem a little.  \n",
        "\n",
        "a. Python does not have a built in function for calculating mean averages, so we will create a function for that.  One of our custom function can take advantage of other custom functions we've created.  These are called 'helper functions'.\n",
        "\n",
        "b. We will want to loop over the sellers in the dictionary and calculate the average for each of the lists of sales.  We will need to use a for loop for that, since we are iterating over a collection.  We can't iterate over a dictionary directly, but we can iterate over the keys of a dictionary.  We can retrieve these using the `dict.keys()` method.\n",
        "\n",
        "c. We need a way to store the result.  It seems natural to create a new dictionary where the keys will be the sellers and the values will be the average monthly sales for each seller."
      ],
      "metadata": {
        "id": "4Pqcc7doX1-O"
      }
    },
    {
      "cell_type": "markdown",
      "source": [
        "## `mean_avg()` Function\n",
        "\n",
        "We will create a helper function to help us calculate mean averages.  This should come in handy going forward."
      ],
      "metadata": {
        "id": "zIHw-xIqY1EX"
      }
    },
    {
      "cell_type": "code",
      "source": [
        "def mean_avg(num_list):\n",
        "  # Return the mean average of a list\n",
        "  return sum(num_list) / len(num_list)"
      ],
      "metadata": {
        "id": "RiZ8lgHBWYvg"
      },
      "execution_count": null,
      "outputs": []
    },
    {
      "cell_type": "markdown",
      "source": [
        "## Testing\n",
        "\n",
        "If our function is working as intended, it will return 2.0 as the mean average of the list `[1, 2, 3]`"
      ],
      "metadata": {
        "id": "4s4aQ1IpbEmg"
      }
    },
    {
      "cell_type": "code",
      "source": [
        "mean_avg([1,2,3])"
      ],
      "metadata": {
        "colab": {
          "base_uri": "https://localhost:8080/"
        },
        "id": "WqF-Gu_ubIPx",
        "outputId": "570d58e7-7743-4a29-e9a5-d50544a9beb8"
      },
      "execution_count": 49,
      "outputs": [
        {
          "output_type": "execute_result",
          "data": {
            "text/plain": [
              "2.0"
            ]
          },
          "metadata": {},
          "execution_count": 49
        }
      ]
    },
    {
      "cell_type": "markdown",
      "source": [
        "## `sales_avgs()` Function"
      ],
      "metadata": {
        "id": "sqVJToE-ZKLX"
      }
    },
    {
      "cell_type": "code",
      "source": [
        "def sales_avgs(sales_data):\n",
        "  # Create a new, empty dictionary to store the sales averages in\n",
        "  averages = {}\n",
        "\n",
        "  # Iterate over the keys in the sales_data dictionary\n",
        "  for seller in sales_data.keys():\n",
        "  \n",
        "    # Add the seller name and the average of their sales to the averages dictionary\n",
        "    averages[seller] = mean_avg(sales_data[seller])\n",
        "\n",
        "  # Return the averages dictionary\n",
        "  return averages"
      ],
      "metadata": {
        "id": "yORmRvqUVeUH"
      },
      "execution_count": null,
      "outputs": []
    },
    {
      "cell_type": "markdown",
      "source": [
        "## Testing\n",
        "\n",
        "We always want to test our function to make sure it functions as intended.\n",
        "\n",
        "If this function is working correctly it should return a single number for each seller that represents their average monthly sales."
      ],
      "metadata": {
        "id": "5qjilwKBZoj2"
      }
    },
    {
      "cell_type": "code",
      "source": [
        "# Test the function\n",
        "sales_avgs(sellers)"
      ],
      "metadata": {
        "colab": {
          "base_uri": "https://localhost:8080/"
        },
        "id": "7bymb8k8V66A",
        "outputId": "ffd3a90d-2562-415e-c8d2-fadbad62fdfe"
      },
      "execution_count": null,
      "outputs": [
        {
          "output_type": "execute_result",
          "data": {
            "text/plain": [
              "{'Amrita': 31.666666666666668,\n",
              " 'Faith': 41.666666666666664,\n",
              " 'Gustav': 55.0,\n",
              " 'Joseph': 46.0,\n",
              " 'Terracita': 27.5,\n",
              " 'Xian': 46.166666666666664}"
            ]
          },
          "metadata": {},
          "execution_count": 37
        }
      ]
    },
    {
      "cell_type": "markdown",
      "source": [
        "# Question 2: Who is the top sales person, by average monthly sales?\n",
        "\n",
        "This may sound like a simple question, but it's actually not trivial to find the maximum value in a dictionary.  \n",
        "\n",
        "Let's plan this out:\n",
        "\n",
        "a. We already have a function that finds the average monthly sales for each seller.  We can use that to help us answer this question.\n",
        "\n",
        "b. We need a way to keep track of who is the best seller so far in each iteration of our loop.  We will need to test each seller as we calculate their average to see if they are the better than the previous best.\n",
        "\n",
        "c. We can add a default argument to our current function to change its behavior and reuse it.  If we set the default argument `return_best` to `True` when we call this function, it will return the name of the best seller and their sales average as a tuple.  Otherwise it will return the dictionary of all the sellers."
      ],
      "metadata": {
        "id": "7n40UDFeZ0nm"
      }
    },
    {
      "cell_type": "code",
      "source": [
        "def sales_avgs(sales_data, return_best=False):\n",
        "  # Create a new, empty dictionary to store the sales averages in\n",
        "  averages = {}\n",
        "  best_seller = None\n",
        "  best_avg = 0\n",
        "  \n",
        "  # Iterate over the keys in the sales_data dictionary\n",
        "  for seller in sales_data.keys():\n",
        "  \n",
        "    # Add the seller name and the average of their sales to the averages dictionary\n",
        "    averages[seller] = mean_avg(sales_data[seller])\n",
        "\n",
        "    # Check to see if the current seller is better than the previous best\n",
        "    if averages[seller] > best_avg:\n",
        "      # If so, set the best seller to be the current seller\n",
        "\n",
        "      best_seller = seller\n",
        "      # Set the best sales avg number to be the current sellers avg sales\n",
        "      best_sales = averages[seller]\n",
        "\n",
        "  # If  the return_best argument is True, return the name of the best seller\n",
        "  # and return their monthly sales average\n",
        "  if return_best:\n",
        "    return best_seller, averages[best_seller]\n",
        "\n",
        "  else:\n",
        "    # If the return_best argument is False (default) \n",
        "    # return the dictionary of seller averages\n",
        "    return averages"
      ],
      "metadata": {
        "id": "qajDvQycV82v"
      },
      "execution_count": null,
      "outputs": []
    },
    {
      "cell_type": "markdown",
      "source": [
        "## Testing\n",
        "\n",
        "Remember, we always want to take the time to test our functions to make sure they are working as intended.\n",
        "\n",
        "The function should still return the dictionary of sellers if `return_best=False`, but return just one seller and her monthly sales average if `return_best=True`"
      ],
      "metadata": {
        "id": "BGxwzeF3K8p2"
      }
    },
    {
      "cell_type": "code",
      "source": [
        "# Test our function\n",
        "\n",
        "# Test default\n",
        "print(f'All seller monthly averages are\\n {sales_avgs(sellers)}')\n",
        "\n",
        "# Test return_best\n",
        "\n",
        "print(f'\\nThe Best Seller is: {sales_avgs(sellers, return_best=True)}')"
      ],
      "metadata": {
        "colab": {
          "base_uri": "https://localhost:8080/"
        },
        "id": "XSPTlQG_WdXl",
        "outputId": "d7ac30dd-66d1-49fe-c96e-1c67cb688bcb"
      },
      "execution_count": null,
      "outputs": [
        {
          "output_type": "stream",
          "name": "stdout",
          "text": [
            "All seller monthly averages are\n",
            " {'Amrita': 31.666666666666668, 'Joseph': 46.0, 'Xian': 46.166666666666664, 'Gustav': 55.0, 'Terracita': 27.5, 'Faith': 41.666666666666664}\n",
            "\n",
            "The Best Seller is: ('Faith', 41.666666666666664)\n"
          ]
        }
      ]
    },
    {
      "cell_type": "markdown",
      "source": [
        "# Question 3: What would the averages look like if we exclude the best and worst months for each seller?\n",
        "\n",
        "Sometimes sellers have outliers, exceptionally low or high months that are not necessarily representative of their average productivity.  Our client would like the option to exclude the highest and lowest months from the calculations  our function makes.\n",
        "\n",
        "Let's plan this out:\n",
        "\n",
        "1. We can reuse the function we've already made, since it already does much of the work.  \n",
        "2. We need to add some extra default arguments.  To make our function more flexible we will create separate arguments for excluding the best month and the worst month.  If our client wants to exclude both they can set both to true.\n",
        "3. Python has built in functions, `max()` and `min()` to calculate the maximum and minimum values in a collection.  We can use those along with the list method `list.remove()` to remove one or both of those values before calculating the averages.\n",
        "4. We want to remove the highest or lowest values, but we don't necessarily want to mutate the original dictionary.  `list.remove()` changes a list in place, so we will make a copy of the list of sales in the dictionary entry for each seller before we make changes to it.  We can't accomplish this just by declaring a new variable and pointing it to the existing list because the new variable will point to the same list as the list in the dictionary, not to a copy.  **It's possible to have two variables that point to the same Python object, so that if you change one, both change.**  This is NOT want we want to do.  We will use `list.copy()` to create a copy and avoid mutating the original."
      ],
      "metadata": {
        "id": "pclvhFht4I6t"
      }
    },
    {
      "cell_type": "markdown",
      "source": [
        "## Aside:  Variables as Pointers"
      ],
      "metadata": {
        "id": "viMHNVvaasyC"
      }
    },
    {
      "cell_type": "code",
      "source": [
        "# Example of 2 variables pointing to the same object:\n",
        "\n",
        "# Declare list1\n",
        "list1 = [1, 2, 3, 4, 5]\n",
        "\n",
        "# Declare list2 and point it to list1\n",
        "list2 = list1\n",
        "\n",
        "# Remove 3 from list2\n",
        "list2.remove(3)\n",
        "\n",
        "# Check the contents of list1.  3 has been removed from list1 as well\n",
        "# list1 and list2 point to the SAME list\n",
        "print(list1)"
      ],
      "metadata": {
        "colab": {
          "base_uri": "https://localhost:8080/"
        },
        "id": "Xeso6fJ7Zjo5",
        "outputId": "3bb24de6-7e77-4ae7-8bf4-9b70d22d257d"
      },
      "execution_count": 47,
      "outputs": [
        {
          "output_type": "stream",
          "name": "stdout",
          "text": [
            "[1, 2, 4, 5]\n"
          ]
        }
      ]
    },
    {
      "cell_type": "code",
      "source": [
        "# Use the .copy() method to create a copy of the list:\n",
        "\n",
        "# Declare list3\n",
        "list3 = [1, 2, 3, 4, 5]\n",
        "\n",
        "# Declare list4 and point it to a copy of list3\n",
        "list4 = list3.copy()\n",
        "\n",
        "# Remove 3 from list4\n",
        "list4.remove(3)\n",
        "\n",
        "# Check the contents of list3.  List3 has not changed\n",
        "print(list3)"
      ],
      "metadata": {
        "colab": {
          "base_uri": "https://localhost:8080/"
        },
        "id": "fqPS15xiaS1B",
        "outputId": "dea3f207-07c1-4464-a0f7-e93a584fd06c"
      },
      "execution_count": 48,
      "outputs": [
        {
          "output_type": "stream",
          "name": "stdout",
          "text": [
            "[1, 2, 3, 4, 5]\n"
          ]
        }
      ]
    },
    {
      "cell_type": "markdown",
      "source": [
        "## Back to the function!"
      ],
      "metadata": {
        "id": "FmK_UGXPawdp"
      }
    },
    {
      "cell_type": "code",
      "source": [
        "def sales_avgs(sales_data, return_best=False, remove_best=False, \n",
        "               remove_worst=False):\n",
        "  # Create a new, empty dictionary to store the sales averages in\n",
        "  averages = {}\n",
        "  best_seller = None\n",
        "  best_avg = 0\n",
        "  \n",
        "  # Iterate over the keys in the sales_data dictionary\n",
        "  for seller in sales_data.keys():\n",
        "    \n",
        "    # Copy the list of sales for this seller to avoid mutating the original dictionary\n",
        "    sales = sales_data[seller].copy()\n",
        "\n",
        "    # If remove_best = True, remove the best month from the list of sales\n",
        "    if remove_best:\n",
        "      best = max(sales)\n",
        "      sales.remove(best)\n",
        "    \n",
        "    # If remove_worst = True, remove the worst month from the list of sales\n",
        "    if remove_worst:\n",
        "      worst = min(sales)\n",
        "      sales.remove(worst)\n",
        "\n",
        "    # Add the seller name and the average of their sales to the averages dictionary\n",
        "    averages[seller] = mean_avg(sales)\n",
        "\n",
        "    if return_best:\n",
        "    # Check to see if the current seller is better than the previous best\n",
        "      if averages[seller] > best_avg:\n",
        "        # If so, set the best seller to be the current seller\n",
        "\n",
        "        best_seller = seller\n",
        "        # Set the best sales avg number to be the current sellers avg sales\n",
        "        best_sales = averages[seller]\n",
        "\n",
        "  # If  the return_best argument is True, return the name of the best seller\n",
        "  # and return their monthly sales average\n",
        "  if return_best:\n",
        "    return best_seller, averages[best_seller]\n",
        "\n",
        "  else:\n",
        "    # If the return_best argument is False (default) \n",
        "    # return the dictionary of seller averages\n",
        "    return averages"
      ],
      "metadata": {
        "id": "CGzc_LoDbwlH"
      },
      "execution_count": null,
      "outputs": []
    },
    {
      "cell_type": "markdown",
      "source": [
        "## Testing:\n",
        "\n",
        "It's necessary to test our functions before using them in our code to ensure they work as intended.  We don't want our functions to introduce errors later in our code!\n",
        "\n",
        "In order to test our new arguments we will \n",
        "1. Print out the averages of the sellers with no values removed for a baseline.\n",
        "2. Print out the monthly averages for the sellers with the highest month removed.  We expect that all of the averages will go down.\n",
        "3. Print out the monthly averages with the lowest month removed.  We expect that all of the averages will go up.  \n",
        "4. Print out the monthly averages with both the highest and lowest removed, just to make sure there are no errors.\n",
        "5. Print out the best best seller with the highest and lowest months removed."
      ],
      "metadata": {
        "id": "i3gmExl696JI"
      }
    },
    {
      "cell_type": "code",
      "source": [
        "# Test our function\n",
        "\n",
        "# Test function defaults\n",
        "print('All seller monthly averages are')\n",
        "print(sales_avgs(sellers))\n",
        "\n",
        "# Test remove_best\n",
        "print('\\nAll seller monthly averages discounting the best month are') \n",
        "print(sales_avgs(sellers, remove_best=True))\n",
        "\n",
        "# Test remove_worst\n",
        "print('\\nAll seller monthly averages discounting the worst month are') \n",
        "print(sales_avgs(sellers, remove_worst=True))\n",
        "\n",
        "# Test remove_best and remove_worst together\n",
        "print('\\nAll seller monthly averages discounting the best and worst months are') \n",
        "print(sales_avgs(sellers, remove_worst=True, remove_best=True))\n",
        "\n",
        "# Test return_best\n",
        "print(f'\\nThe best seller, taking all months into account is:')\n",
        "print(sales_avgs(sellers, return_best=True))\n",
        "\n",
        "# Test all arguments at once\n",
        "print('\\nThe best seller discounting the best and worst months are') \n",
        "print(sales_avgs(sellers, remove_worst=True, remove_best=True, return_best=True))"
      ],
      "metadata": {
        "colab": {
          "base_uri": "https://localhost:8080/"
        },
        "id": "Ucm6KcP75CLb",
        "outputId": "6dc0f143-202f-46a7-fe82-a09ce5135341"
      },
      "execution_count": null,
      "outputs": [
        {
          "output_type": "stream",
          "name": "stdout",
          "text": [
            "All seller monthly averages are\n",
            "{'Amrita': 31.666666666666668, 'Joseph': 46.0, 'Xian': 46.166666666666664, 'Gustav': 55.0, 'Terracita': 27.5, 'Faith': 41.666666666666664}\n",
            "\n",
            "All seller monthly averages discounting the best month are\n",
            "{'Amrita': 28.0, 'Joseph': 38.6, 'Xian': 37.6, 'Gustav': 45.6, 'Terracita': 15.6, 'Faith': 33.6}\n",
            "\n",
            "All seller monthly averages discounting the worst month are\n",
            "{'Amrita': 36.0, 'Joseph': 52.2, 'Xian': 51.0, 'Gustav': 63.6, 'Terracita': 32.6, 'Faith': 49.4}\n",
            "\n",
            "All seller monthly averages discounting the best and worst months are\n",
            "{'Amrita': 32.5, 'Joseph': 44.5, 'Xian': 41.5, 'Gustav': 54.0, 'Terracita': 19.0, 'Faith': 41.25}\n",
            "\n",
            "The best seller, taking all months into account is:\n",
            "('Faith', 41.666666666666664)\n",
            "\n",
            "The best seller discounting the best and worst months are\n",
            "('Faith', 41.25)\n"
          ]
        }
      ]
    },
    {
      "cell_type": "markdown",
      "source": [
        "Our function above seems to work as expected!\n",
        "\n",
        "# 💪 Your Turn!\n",
        "\n",
        "## What is a case where this function might result in an error?  It's important to think about edge cases.\n",
        "\n",
        "In our example, each seller has been selling insurance for at least 6 months.  But, what if a newly employed seller only has one or two months of sales records?\n",
        "\n",
        "The function below is the same as the function above.  As you can see it returns an error if a seller has too few monthly records of sales figures.  \n",
        "\n",
        "Change the function so that if the seller's sales history is empty, or if removing the best or worst months would make it empty, the value for that seller in the returned dictionary of averages is `None` instead of a number.\n",
        "\n",
        "- Hint, create some conditional statements to check the length of a seller's monthly sales histories, then code the correct behavior for that length.\n",
        "\n",
        "You can use the dictionary seller monthly sales figures below to test your code."
      ],
      "metadata": {
        "id": "kCvB_uQL-v4K"
      }
    },
    {
      "cell_type": "code",
      "source": [
        "sellers2 = {'Amrita': [20, 10, 40, 50, 20, 50],\n",
        "           'Joseph': [15, 80, 45, 38, 15, 83],\n",
        "           'Xian': [55, 89, 22, 34, 45, 32],\n",
        "           'Gustav': [102, 12, 32, 63, 87, 34],\n",
        "           'Terracita': [13, 21, 2, 87, 5, 37],\n",
        "           'Faith': [65, 34, 82, 12, 3, 54],\n",
        "            'Penny': [12],\n",
        "            'Rosa':[34, 87],\n",
        "            'Ikemba': []\n",
        "            }\n",
        "sellers2"
      ],
      "metadata": {
        "colab": {
          "base_uri": "https://localhost:8080/"
        },
        "id": "lTovzWdT6DZE",
        "outputId": "b16644e9-a215-42e1-8259-0787d5a370df"
      },
      "execution_count": null,
      "outputs": [
        {
          "output_type": "execute_result",
          "data": {
            "text/plain": [
              "{'Amrita': [20, 10, 40, 50, 20, 50],\n",
              " 'Faith': [65, 34, 82, 12, 3, 54],\n",
              " 'Gustav': [102, 12, 32, 63, 87, 34],\n",
              " 'Ikemba': [],\n",
              " 'Joseph': [15, 80, 45, 38, 15, 83],\n",
              " 'Penny': [12],\n",
              " 'Rosa': [34, 87],\n",
              " 'Terracita': [13, 21, 2, 87, 5, 37],\n",
              " 'Xian': [55, 89, 22, 34, 45, 32]}"
            ]
          },
          "metadata": {},
          "execution_count": 42
        }
      ]
    },
    {
      "cell_type": "code",
      "source": [
        "def sales_avgs2(sales_data, return_best=False, remove_best=False, \n",
        "               remove_worst=False):\n",
        "  # Create a new, empty dictionary to store the sales averages in\n",
        "  averages = {}\n",
        "  best_seller = None\n",
        "  best_avg = 0\n",
        "  \n",
        "  # Iterate over the keys in the sales_data dictionary\n",
        "  for seller in sales_data.keys():\n",
        "    \n",
        "    # Copy the list of sales for this seller to avoid mutating the original dictionary\n",
        "    sales = sales_data[seller].copy()\n",
        "\n",
        "    # If remove_best = True, remove the best month from the list of sales\n",
        "    if remove_best:\n",
        "      best = max(sales)\n",
        "      sales.remove(best)\n",
        "    \n",
        "    # If remove_worst = True, remove the worst month from the list of sales\n",
        "    if remove_worst:\n",
        "      worst = min(sales)\n",
        "      sales.remove(worst)\n",
        "\n",
        "    # Add the seller name and the average of their sales to the averages dictionary\n",
        "    averages[seller] = mean_avg(sales)\n",
        "\n",
        "    if return_best:\n",
        "    # Check to see if the current seller is better than the previous best\n",
        "      if averages[seller] > best_avg:\n",
        "        # If so, set the best seller to be the current seller\n",
        "\n",
        "        best_seller = seller\n",
        "        # Set the best sales avg number to be the current sellers avg sales\n",
        "        best_sales = averages[seller]\n",
        "\n",
        "  # If  the return_best argument is True, return the name of the best seller\n",
        "  # and return their monthly sales average\n",
        "  if return_best:\n",
        "    return best_seller, averages[best_seller]\n",
        "\n",
        "  else:\n",
        "    # If the return_best argument is False (default) \n",
        "    # return the dictionary of seller averages\n",
        "    return averages"
      ],
      "metadata": {
        "id": "7ZU-K8Fv6H7i"
      },
      "execution_count": null,
      "outputs": []
    },
    {
      "cell_type": "markdown",
      "source": [
        "## Testing\n",
        "\n",
        "Use the below code cell to test your new version of the function.  If you have done this correctly, it will run with no errors.  \n",
        "\n",
        "The current error says that the code in the `mean_avgs()` function is trying to divide a value by 0.  This is because `len([])` is zero so `sum([]) / len([])` causes an error because no number can be divided by 0."
      ],
      "metadata": {
        "id": "KNn5abwvBDQx"
      }
    },
    {
      "cell_type": "code",
      "source": [
        "# Test your function\n",
        "\n",
        "# Test function defaults\n",
        "print('All seller monthly averages are')\n",
        "print(sales_avgs2(sellers2))\n",
        "\n",
        "# Test remove_best\n",
        "print('\\nAll seller monthly averages discounting the best month are') \n",
        "print(sales_avgs2(sellers2, remove_best=True))\n",
        "\n",
        "# Test remove_worst\n",
        "print('\\nAll seller monthly averages discounting the worst month are') \n",
        "print(sales_avgs2(sellers2, remove_worst=True))\n",
        "\n",
        "# Test remove_best and remove_worst together\n",
        "print('\\nAll seller monthly averages discounting the best and worst months are') \n",
        "print(sales_avgs2(sellers2, remove_worst=True, remove_best=True))\n",
        "\n",
        "# Test return_best\n",
        "print(f'\\nThe best seller, taking all months into account is:')\n",
        "print(sales_avgs2(sellers2, return_best=True))\n",
        "\n",
        "# Test all arguments at once\n",
        "print('\\nThe best seller discounting the best and worst months are') \n",
        "print(sales_avgs2(sellers2, remove_worst=True, remove_best=True, return_best=True))"
      ],
      "metadata": {
        "colab": {
          "base_uri": "https://localhost:8080/",
          "height": 363
        },
        "id": "SaZ4updxBOM_",
        "outputId": "714b6c87-f08b-4621-daa3-91087f31d457"
      },
      "execution_count": null,
      "outputs": [
        {
          "output_type": "stream",
          "name": "stdout",
          "text": [
            "All seller monthly averages are\n"
          ]
        },
        {
          "output_type": "error",
          "ename": "ZeroDivisionError",
          "evalue": "ignored",
          "traceback": [
            "\u001b[0;31m---------------------------------------------------------------------------\u001b[0m",
            "\u001b[0;31mZeroDivisionError\u001b[0m                         Traceback (most recent call last)",
            "\u001b[0;32m<ipython-input-44-435138417f40>\u001b[0m in \u001b[0;36m<module>\u001b[0;34m()\u001b[0m\n\u001b[1;32m      3\u001b[0m \u001b[0;31m# Test function defaults\u001b[0m\u001b[0;34m\u001b[0m\u001b[0;34m\u001b[0m\u001b[0;34m\u001b[0m\u001b[0m\n\u001b[1;32m      4\u001b[0m \u001b[0mprint\u001b[0m\u001b[0;34m(\u001b[0m\u001b[0;34m'All seller monthly averages are'\u001b[0m\u001b[0;34m)\u001b[0m\u001b[0;34m\u001b[0m\u001b[0;34m\u001b[0m\u001b[0m\n\u001b[0;32m----> 5\u001b[0;31m \u001b[0mprint\u001b[0m\u001b[0;34m(\u001b[0m\u001b[0msales_avgs2\u001b[0m\u001b[0;34m(\u001b[0m\u001b[0msellers2\u001b[0m\u001b[0;34m)\u001b[0m\u001b[0;34m)\u001b[0m\u001b[0;34m\u001b[0m\u001b[0;34m\u001b[0m\u001b[0m\n\u001b[0m\u001b[1;32m      6\u001b[0m \u001b[0;34m\u001b[0m\u001b[0m\n\u001b[1;32m      7\u001b[0m \u001b[0;31m# Test remove_best\u001b[0m\u001b[0;34m\u001b[0m\u001b[0;34m\u001b[0m\u001b[0;34m\u001b[0m\u001b[0m\n",
            "\u001b[0;32m<ipython-input-43-3a6b7ba29bbe>\u001b[0m in \u001b[0;36msales_avgs2\u001b[0;34m(sales_data, return_best, remove_best, remove_worst)\u001b[0m\n\u001b[1;32m     23\u001b[0m \u001b[0;34m\u001b[0m\u001b[0m\n\u001b[1;32m     24\u001b[0m     \u001b[0;31m# Add the seller name and the average of their sales to the averages dictionary\u001b[0m\u001b[0;34m\u001b[0m\u001b[0;34m\u001b[0m\u001b[0;34m\u001b[0m\u001b[0m\n\u001b[0;32m---> 25\u001b[0;31m     \u001b[0maverages\u001b[0m\u001b[0;34m[\u001b[0m\u001b[0mseller\u001b[0m\u001b[0;34m]\u001b[0m \u001b[0;34m=\u001b[0m \u001b[0mmean_avg\u001b[0m\u001b[0;34m(\u001b[0m\u001b[0msales\u001b[0m\u001b[0;34m)\u001b[0m\u001b[0;34m\u001b[0m\u001b[0;34m\u001b[0m\u001b[0m\n\u001b[0m\u001b[1;32m     26\u001b[0m \u001b[0;34m\u001b[0m\u001b[0m\n\u001b[1;32m     27\u001b[0m     \u001b[0;32mif\u001b[0m \u001b[0mreturn_best\u001b[0m\u001b[0;34m:\u001b[0m\u001b[0;34m\u001b[0m\u001b[0;34m\u001b[0m\u001b[0m\n",
            "\u001b[0;32m<ipython-input-35-7a3d02994509>\u001b[0m in \u001b[0;36mmean_avg\u001b[0;34m(num_list)\u001b[0m\n\u001b[1;32m      1\u001b[0m \u001b[0;32mdef\u001b[0m \u001b[0mmean_avg\u001b[0m\u001b[0;34m(\u001b[0m\u001b[0mnum_list\u001b[0m\u001b[0;34m)\u001b[0m\u001b[0;34m:\u001b[0m\u001b[0;34m\u001b[0m\u001b[0;34m\u001b[0m\u001b[0m\n\u001b[1;32m      2\u001b[0m   \u001b[0;31m# Return the mean average of a list\u001b[0m\u001b[0;34m\u001b[0m\u001b[0;34m\u001b[0m\u001b[0;34m\u001b[0m\u001b[0m\n\u001b[0;32m----> 3\u001b[0;31m   \u001b[0;32mreturn\u001b[0m \u001b[0msum\u001b[0m\u001b[0;34m(\u001b[0m\u001b[0mnum_list\u001b[0m\u001b[0;34m)\u001b[0m \u001b[0;34m/\u001b[0m \u001b[0mlen\u001b[0m\u001b[0;34m(\u001b[0m\u001b[0mnum_list\u001b[0m\u001b[0;34m)\u001b[0m\u001b[0;34m\u001b[0m\u001b[0;34m\u001b[0m\u001b[0m\n\u001b[0m",
            "\u001b[0;31mZeroDivisionError\u001b[0m: division by zero"
          ]
        }
      ]
    },
    {
      "cell_type": "markdown",
      "source": [
        "# Summary\n",
        "\n",
        "In this notebook you saw examples of how to use loops, conditionals, and default arguments in functions to create flexible functions that can solve complex problems.  You also learned that it is important to test your functions after creating them to ensure they behave the way you expect."
      ],
      "metadata": {
        "id": "pXFJA98OGDrA"
      }
    }
  ]
}