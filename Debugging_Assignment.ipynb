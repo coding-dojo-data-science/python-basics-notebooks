{
  "nbformat": 4,
  "nbformat_minor": 0,
  "metadata": {
    "colab": {
      "name": "Debugging Assignment.ipynb",
      "provenance": [],
      "collapsed_sections": [],
      "include_colab_link": true
    },
    "kernelspec": {
      "name": "python3",
      "display_name": "Python 3"
    },
    "language_info": {
      "name": "python"
    }
  },
  "cells": [
    {
      "cell_type": "markdown",
      "metadata": {
        "id": "view-in-github",
        "colab_type": "text"
      },
      "source": [
        "<a href=\"https://colab.research.google.com/github/coding-dojo-data-science/python-basics-notebooks/blob/main/Debugging_Assignment.ipynb\" target=\"_parent\"><img src=\"https://colab.research.google.com/assets/colab-badge.svg\" alt=\"Open In Colab\"/></a>"
      ]
    },
    {
      "cell_type": "markdown",
      "source": [
        "# 👩‍🏫 Fixing common errors 📈\n",
        "\n",
        "In this assignment you will be dealing with different types of errors. Logical and Syntax errors."
      ],
      "metadata": {
        "id": "jOePcaF_dlTB"
      }
    },
    {
      "cell_type": "markdown",
      "source": [
        "# Types of Errors\n",
        "## Syntax Errors:\n",
        "Syntax errors are the most basic type of error. They arise when the Python parser is unable to understand a line of code. Syntax errors are almost always fatal, i.e. there is almost never a way to successfully execute a piece of code containing syntax errors.\n",
        "\n",
        "## Logical Errors:\n",
        "These are the most difficult type of error to find, because they will give unpredictable results, but may or may not actually crash your program. A lot of different things can happen if you have a logic error."
      ],
      "metadata": {
        "id": "4qCHuR323Ylj"
      }
    },
    {
      "cell_type": "markdown",
      "source": [
        "# 💪 Your Job: Diagnose and debug the following code samples.\n"
      ],
      "metadata": {
        "id": "Lk-UnXZ2oT9G"
      }
    },
    {
      "cell_type": "markdown",
      "source": [
        "# Task 1 Welcome Message\n",
        "\n",
        "- The following function takes a student name and id. \n",
        "- The function prints a message to welcome the student and show him/her his/her id. \n",
        "- The function is throwing an error! find out why this happened and solve this issue.\n",
        "- Do not use an f string. Solve this problem using the \"+\" operator.\n"
      ],
      "metadata": {
        "id": "jdattlSuXJb9"
      }
    },
    {
      "cell_type": "code",
      "source": [
        "def Physics_Welcome_Message(name, id):\n",
        "  print(\"Hello \" +name+ \" and welcome to your Physics\"+ id +\"We know you will rock.\")"
      ],
      "metadata": {
        "id": "AtNrOvEyIRlk"
      },
      "execution_count": null,
      "outputs": []
    },
    {
      "cell_type": "markdown",
      "source": [
        "## Test Case"
      ],
      "metadata": {
        "id": "-gK1s1YOn_52"
      }
    },
    {
      "cell_type": "code",
      "source": [
        "Physics_Welcome_Message(\"Jack\", 2022075)"
      ],
      "metadata": {
        "colab": {
          "base_uri": "https://localhost:8080/",
          "height": 235
        },
        "id": "ebC4s55CxPlE",
        "outputId": "acea298d-8e03-457e-ea97-7d83c2393766"
      },
      "execution_count": null,
      "outputs": [
        {
          "output_type": "error",
          "ename": "TypeError",
          "evalue": "ignored",
          "traceback": [
            "\u001b[0;31m---------------------------------------------------------------------------\u001b[0m",
            "\u001b[0;31mTypeError\u001b[0m                                 Traceback (most recent call last)",
            "\u001b[0;32m<ipython-input-14-5956f3873057>\u001b[0m in \u001b[0;36m<module>\u001b[0;34m()\u001b[0m\n\u001b[0;32m----> 1\u001b[0;31m \u001b[0mPhysics_Welcome_Message\u001b[0m\u001b[0;34m(\u001b[0m\u001b[0;34m\"Jack\"\u001b[0m\u001b[0;34m,\u001b[0m \u001b[0;36m2022075\u001b[0m\u001b[0;34m)\u001b[0m\u001b[0;34m\u001b[0m\u001b[0;34m\u001b[0m\u001b[0m\n\u001b[0m",
            "\u001b[0;32m<ipython-input-13-82646b0fc5a2>\u001b[0m in \u001b[0;36mPhysics_Welcome_Message\u001b[0;34m(name, id)\u001b[0m\n\u001b[1;32m      1\u001b[0m \u001b[0;32mdef\u001b[0m \u001b[0mPhysics_Welcome_Message\u001b[0m\u001b[0;34m(\u001b[0m\u001b[0mname\u001b[0m\u001b[0;34m,\u001b[0m \u001b[0mid\u001b[0m\u001b[0;34m)\u001b[0m\u001b[0;34m:\u001b[0m\u001b[0;34m\u001b[0m\u001b[0;34m\u001b[0m\u001b[0m\n\u001b[0;32m----> 2\u001b[0;31m   \u001b[0mprint\u001b[0m\u001b[0;34m(\u001b[0m\u001b[0;34m\"Hello \"\u001b[0m \u001b[0;34m+\u001b[0m\u001b[0mname\u001b[0m\u001b[0;34m+\u001b[0m \u001b[0;34m\" and welcome to your Physics\"\u001b[0m\u001b[0;34m+\u001b[0m \u001b[0mid\u001b[0m \u001b[0;34m+\u001b[0m\u001b[0;34m\"We know you will rock.\"\u001b[0m\u001b[0;34m)\u001b[0m\u001b[0;34m\u001b[0m\u001b[0;34m\u001b[0m\u001b[0m\n\u001b[0m",
            "\u001b[0;31mTypeError\u001b[0m: can only concatenate str (not \"int\") to str"
          ]
        }
      ]
    },
    {
      "cell_type": "markdown",
      "source": [
        "# Task 2\n",
        "- The following function calculates the area for a circle. It's not working!\n",
        "- Find out why and get the function working."
      ],
      "metadata": {
        "id": "9iwb402VEMXX"
      }
    },
    {
      "cell_type": "code",
      "source": [
        "def circle_area(r):\n",
        "  PiConstantnumber = 3.1415926\n",
        "  area = r*r*PiConstantnumbar\n",
        "  return area"
      ],
      "metadata": {
        "id": "xe4BxUoC2h6o"
      },
      "execution_count": null,
      "outputs": []
    },
    {
      "cell_type": "markdown",
      "source": [
        "## Test Case"
      ],
      "metadata": {
        "id": "aSDrj74Qn-WG"
      }
    },
    {
      "cell_type": "code",
      "source": [
        "circle_area(6)"
      ],
      "metadata": {
        "colab": {
          "base_uri": "https://localhost:8080/",
          "height": 270
        },
        "id": "2v4Pro1520J0",
        "outputId": "48a4955c-f6f5-4c45-80ef-aa12ee5b6a16"
      },
      "execution_count": null,
      "outputs": [
        {
          "output_type": "error",
          "ename": "NameError",
          "evalue": "ignored",
          "traceback": [
            "\u001b[0;31m---------------------------------------------------------------------------\u001b[0m",
            "\u001b[0;31mNameError\u001b[0m                                 Traceback (most recent call last)",
            "\u001b[0;32m<ipython-input-12-6c9f8bb0fd8c>\u001b[0m in \u001b[0;36m<module>\u001b[0;34m()\u001b[0m\n\u001b[0;32m----> 1\u001b[0;31m \u001b[0mcircle_area\u001b[0m\u001b[0;34m(\u001b[0m\u001b[0;36m6\u001b[0m\u001b[0;34m)\u001b[0m\u001b[0;34m\u001b[0m\u001b[0;34m\u001b[0m\u001b[0m\n\u001b[0m",
            "\u001b[0;32m<ipython-input-11-36f133e420d4>\u001b[0m in \u001b[0;36mcircle_area\u001b[0;34m(r)\u001b[0m\n\u001b[1;32m      1\u001b[0m \u001b[0;32mdef\u001b[0m \u001b[0mcircle_area\u001b[0m\u001b[0;34m(\u001b[0m\u001b[0mr\u001b[0m\u001b[0;34m)\u001b[0m\u001b[0;34m:\u001b[0m\u001b[0;34m\u001b[0m\u001b[0;34m\u001b[0m\u001b[0m\n\u001b[1;32m      2\u001b[0m   \u001b[0mPiConstantnumber\u001b[0m \u001b[0;34m=\u001b[0m \u001b[0;36m3.1415926\u001b[0m\u001b[0;34m\u001b[0m\u001b[0;34m\u001b[0m\u001b[0m\n\u001b[0;32m----> 3\u001b[0;31m   \u001b[0marea\u001b[0m \u001b[0;34m=\u001b[0m \u001b[0mr\u001b[0m\u001b[0;34m*\u001b[0m\u001b[0mr\u001b[0m\u001b[0;34m*\u001b[0m\u001b[0mPiConstantnumbar\u001b[0m\u001b[0;34m\u001b[0m\u001b[0;34m\u001b[0m\u001b[0m\n\u001b[0m\u001b[1;32m      4\u001b[0m   \u001b[0;32mreturn\u001b[0m \u001b[0marea\u001b[0m\u001b[0;34m\u001b[0m\u001b[0;34m\u001b[0m\u001b[0m\n",
            "\u001b[0;31mNameError\u001b[0m: name 'PiConstantnumbar' is not defined"
          ]
        }
      ]
    },
    {
      "cell_type": "markdown",
      "source": [
        "# Task 3\n",
        "## Managing time \n",
        "- You have too many friends and you want to spend time with them on the weekend. If you have num_hours number of free hours on the week end and num_friends is number of friends you want to go out with. you want to split the time equally between them.\n",
        "- The following function takes two numbers and return how much time you should spend with each friend.\n",
        "\n",
        "- Run the following test cases and make sure your function covers all test cases:\n",
        "1.   friends_time(8 , 2)\n",
        "2.   friends_time(3 , 2)\n",
        "3.   friends_time(4 , 7)\n",
        "4.   friends_time(0 , 3)\n",
        "5.   friends_time(7 , 0)\n"
      ],
      "metadata": {
        "id": "g3kvBoka6EGT"
      }
    },
    {
      "cell_type": "code",
      "source": [
        "def friends_time(num_hours, num_friends):\n",
        "  print(f\"You should spend {round(num_hours/num_friends,2)} hours with each of your friends on the weekend.\")"
      ],
      "metadata": {
        "id": "7hs7fLs66mPJ"
      },
      "execution_count": null,
      "outputs": []
    },
    {
      "cell_type": "markdown",
      "source": [
        "## Test Case"
      ],
      "metadata": {
        "id": "K-2yiBP0n7Rn"
      }
    },
    {
      "cell_type": "code",
      "source": [
        "friends_time(4 , 0)"
      ],
      "metadata": {
        "colab": {
          "base_uri": "https://localhost:8080/",
          "height": 235
        },
        "id": "8GWAzPf563gR",
        "outputId": "3b67c626-af75-4040-ea9f-5563e0309410"
      },
      "execution_count": null,
      "outputs": [
        {
          "output_type": "error",
          "ename": "ZeroDivisionError",
          "evalue": "ignored",
          "traceback": [
            "\u001b[0;31m---------------------------------------------------------------------------\u001b[0m",
            "\u001b[0;31mZeroDivisionError\u001b[0m                         Traceback (most recent call last)",
            "\u001b[0;32m<ipython-input-10-8accf3842c43>\u001b[0m in \u001b[0;36m<module>\u001b[0;34m()\u001b[0m\n\u001b[0;32m----> 1\u001b[0;31m \u001b[0mfriends_time\u001b[0m\u001b[0;34m(\u001b[0m\u001b[0;36m4\u001b[0m \u001b[0;34m,\u001b[0m \u001b[0;36m0\u001b[0m\u001b[0;34m)\u001b[0m\u001b[0;34m\u001b[0m\u001b[0;34m\u001b[0m\u001b[0m\n\u001b[0m",
            "\u001b[0;32m<ipython-input-9-8f3a8d707ae5>\u001b[0m in \u001b[0;36mfriends_time\u001b[0;34m(n, f)\u001b[0m\n\u001b[1;32m      1\u001b[0m \u001b[0;32mdef\u001b[0m \u001b[0mfriends_time\u001b[0m\u001b[0;34m(\u001b[0m\u001b[0mn\u001b[0m \u001b[0;34m,\u001b[0m \u001b[0mf\u001b[0m\u001b[0;34m)\u001b[0m\u001b[0;34m:\u001b[0m\u001b[0;34m\u001b[0m\u001b[0;34m\u001b[0m\u001b[0m\n\u001b[0;32m----> 2\u001b[0;31m   \u001b[0mprint\u001b[0m\u001b[0;34m(\u001b[0m\u001b[0;34mf\"You should spend {round(n/f,2)} hours with each of your friends on the weekend.\"\u001b[0m\u001b[0;34m)\u001b[0m\u001b[0;34m\u001b[0m\u001b[0;34m\u001b[0m\u001b[0m\n\u001b[0m",
            "\u001b[0;31mZeroDivisionError\u001b[0m: division by zero"
          ]
        }
      ]
    },
    {
      "cell_type": "markdown",
      "source": [
        "# Task 4"
      ],
      "metadata": {
        "id": "z9md99auEByj"
      }
    },
    {
      "cell_type": "markdown",
      "source": [
        "The following function takes number of minutes as input and returns the formatted version of time needed for a passenger to reach her/his destination.\n",
        "It's working correctly but when trying to pass values larger than (60*25), it doesn't print the expexted output.\n",
        "Consider the following input : output to make sure your solution is solid.\n",
        "- `travel_time(457)` : `You have 7 hours and 37 minutes left to reach your destination.`\n",
        "- `travel_time(53)` : `You have 53 minutes left to reach your destination.`\n",
        "- `travel_time(2491)`: `You have 1 days, 1 hours and 31 minutes left to reach your destination.`"
      ],
      "metadata": {
        "id": "6qMWeEbU_250"
      }
    },
    {
      "cell_type": "code",
      "source": [
        "def travel_time(minutes):\n",
        "  if minutes > 60:\n",
        "    print(f\"You have {minutes//60} hours and {minutes%60} minutes left to reach your destination.\")\n",
        "  elif minutes > (60*24):\n",
        "    print(f\"You have {minutes//(60*24)} days, {minutes//(60*24)} hours and {minutes%(60)} minutes left to reach your destination.\") \n",
        "  else:\n",
        "    print(f\"You have {minutes%60} minutes left to reach your destination.\")"
      ],
      "metadata": {
        "id": "2JaNpNRT9Kc6"
      },
      "execution_count": 2,
      "outputs": []
    },
    {
      "cell_type": "markdown",
      "source": [
        "## Test Cases:"
      ],
      "metadata": {
        "id": "IRYmkMhlnS3-"
      }
    },
    {
      "cell_type": "code",
      "source": [
        "print(travel_time(0.1))\n",
        "print(travel_time(1))\n",
        "print(travel_time(10))\n",
        "print(travel_time(100))\n",
        "print(travel_time(1000))\n",
        "print(travel_time(10000))"
      ],
      "metadata": {
        "colab": {
          "base_uri": "https://localhost:8080/"
        },
        "id": "z1A9oSBX_EVD",
        "outputId": "9df14905-cfd2-409f-b54a-46012825977a"
      },
      "execution_count": 5,
      "outputs": [
        {
          "output_type": "stream",
          "name": "stdout",
          "text": [
            "You have 0.1 minutes left to reach your destination.\n",
            "None\n",
            "You have 1 minutes left to reach your destination.\n",
            "None\n",
            "You have 10 minutes left to reach your destination.\n",
            "None\n",
            "You have 1 hours and 40 minutes left to reach your destination.\n",
            "None\n",
            "You have 16 hours and 40 minutes left to reach your destination.\n",
            "None\n",
            "You have 166 hours and 40 minutes left to reach your destination.\n",
            "None\n"
          ]
        }
      ]
    },
    {
      "cell_type": "markdown",
      "source": [
        "# Task 5\n",
        "- the following function prints the third element of a list and then remove it from that list. The function returns that list at the end.\n",
        "\n",
        "- When we tested the function with this list `[10,20,30,40,50,60,70,80]`, it worked correctly. but when we tried `[10,20,30,40,50,60,70,80,90]` it threw an error.\n",
        "\n",
        "- Find out the root cause for that error and solve it. \n",
        "\n",
        "- After you solve it test your function with this list `[10,20]` to make sure it will never throw an error again.\n",
        "\n",
        "## Hints: \n",
        "\n",
        "- There are some validations that need to be done to the for loop in order to avoid this error. (it has something to do with the `range()` function)\n",
        "\n",
        "- Some if conditions may be of great help in covering the test cases for this problem.\n",
        "- Notice that the `pop()` method changes the list length at each iteration"
      ],
      "metadata": {
        "id": "jpYoG6dYXHHV"
      }
    },
    {
      "cell_type": "code",
      "source": [
        "def remove_nums(int_list):\n",
        "  #list starts with 0 index that's why we will start from item at index 2\n",
        "  for i in range(2,len(int_list),3):\n",
        "    print(i)\n",
        "    int_list.pop(i)\n",
        "  return int_list"
      ],
      "metadata": {
        "id": "WIPmHZHObCgI"
      },
      "execution_count": null,
      "outputs": []
    },
    {
      "cell_type": "markdown",
      "source": [
        "## Test Case"
      ],
      "metadata": {
        "id": "bAy-Rm0_ob5W"
      }
    },
    {
      "cell_type": "code",
      "source": [
        "nums = [10,20,30,40,50,60,70,80,90]\n",
        "nums = remove_nums(nums)\n",
        "nums"
      ],
      "metadata": {
        "colab": {
          "base_uri": "https://localhost:8080/",
          "height": 357
        },
        "id": "VyLq5yb6a63_",
        "outputId": "419254ef-a720-47cc-b9cb-9cc4e0843f64"
      },
      "execution_count": null,
      "outputs": [
        {
          "output_type": "stream",
          "name": "stdout",
          "text": [
            "2\n",
            "5\n",
            "8\n"
          ]
        },
        {
          "output_type": "error",
          "ename": "IndexError",
          "evalue": "ignored",
          "traceback": [
            "\u001b[0;31m---------------------------------------------------------------------------\u001b[0m",
            "\u001b[0;31mIndexError\u001b[0m                                Traceback (most recent call last)",
            "\u001b[0;32m<ipython-input-16-ca2985e86975>\u001b[0m in \u001b[0;36m<module>\u001b[0;34m()\u001b[0m\n\u001b[1;32m      1\u001b[0m \u001b[0mnums\u001b[0m \u001b[0;34m=\u001b[0m \u001b[0;34m[\u001b[0m\u001b[0;36m10\u001b[0m\u001b[0;34m,\u001b[0m\u001b[0;36m20\u001b[0m\u001b[0;34m,\u001b[0m\u001b[0;36m30\u001b[0m\u001b[0;34m,\u001b[0m\u001b[0;36m40\u001b[0m\u001b[0;34m,\u001b[0m\u001b[0;36m50\u001b[0m\u001b[0;34m,\u001b[0m\u001b[0;36m60\u001b[0m\u001b[0;34m,\u001b[0m\u001b[0;36m70\u001b[0m\u001b[0;34m,\u001b[0m\u001b[0;36m80\u001b[0m\u001b[0;34m,\u001b[0m\u001b[0;36m90\u001b[0m\u001b[0;34m]\u001b[0m\u001b[0;34m\u001b[0m\u001b[0;34m\u001b[0m\u001b[0m\n\u001b[0;32m----> 2\u001b[0;31m \u001b[0mnums\u001b[0m \u001b[0;34m=\u001b[0m \u001b[0mremove_nums\u001b[0m\u001b[0;34m(\u001b[0m\u001b[0mnums\u001b[0m\u001b[0;34m)\u001b[0m\u001b[0;34m\u001b[0m\u001b[0;34m\u001b[0m\u001b[0m\n\u001b[0m\u001b[1;32m      3\u001b[0m \u001b[0mnums\u001b[0m\u001b[0;34m\u001b[0m\u001b[0;34m\u001b[0m\u001b[0m\n",
            "\u001b[0;32m<ipython-input-15-bb47d1606661>\u001b[0m in \u001b[0;36mremove_nums\u001b[0;34m(int_list)\u001b[0m\n\u001b[1;32m      3\u001b[0m   \u001b[0;32mfor\u001b[0m \u001b[0mi\u001b[0m \u001b[0;32min\u001b[0m \u001b[0mrange\u001b[0m\u001b[0;34m(\u001b[0m\u001b[0;36m2\u001b[0m\u001b[0;34m,\u001b[0m\u001b[0mlen\u001b[0m\u001b[0;34m(\u001b[0m\u001b[0mint_list\u001b[0m\u001b[0;34m)\u001b[0m\u001b[0;34m,\u001b[0m\u001b[0;36m3\u001b[0m\u001b[0;34m)\u001b[0m\u001b[0;34m:\u001b[0m\u001b[0;34m\u001b[0m\u001b[0;34m\u001b[0m\u001b[0m\n\u001b[1;32m      4\u001b[0m     \u001b[0mprint\u001b[0m\u001b[0;34m(\u001b[0m\u001b[0mi\u001b[0m\u001b[0;34m)\u001b[0m\u001b[0;34m\u001b[0m\u001b[0;34m\u001b[0m\u001b[0m\n\u001b[0;32m----> 5\u001b[0;31m     \u001b[0mint_list\u001b[0m\u001b[0;34m.\u001b[0m\u001b[0mpop\u001b[0m\u001b[0;34m(\u001b[0m\u001b[0mi\u001b[0m\u001b[0;34m)\u001b[0m\u001b[0;34m\u001b[0m\u001b[0;34m\u001b[0m\u001b[0m\n\u001b[0m\u001b[1;32m      6\u001b[0m   \u001b[0;32mreturn\u001b[0m \u001b[0mint_list\u001b[0m\u001b[0;34m\u001b[0m\u001b[0;34m\u001b[0m\u001b[0m\n",
            "\u001b[0;31mIndexError\u001b[0m: pop index out of range"
          ]
        }
      ]
    }
  ]
}