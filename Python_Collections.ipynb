{
  "nbformat": 4,
  "nbformat_minor": 0,
  "metadata": {
    "colab": {
      "name": "Python Collections.ipynb",
      "provenance": [],
      "collapsed_sections": [],
      "authorship_tag": "ABX9TyPSn0hO8oegac2GZvuRbaBY",
      "include_colab_link": true
    },
    "kernelspec": {
      "name": "python3",
      "display_name": "Python 3"
    },
    "language_info": {
      "name": "python"
    }
  },
  "cells": [
    {
      "cell_type": "markdown",
      "metadata": {
        "id": "view-in-github",
        "colab_type": "text"
      },
      "source": [
        "<a href=\"https://colab.research.google.com/github/coding-dojo-data-science/python-basics-notebooks/blob/main/Python_Collections.ipynb\" target=\"_parent\"><img src=\"https://colab.research.google.com/assets/colab-badge.svg\" alt=\"Open In Colab\"/></a>"
      ]
    },
    {
      "cell_type": "markdown",
      "source": [
        "# Python Collections\n",
        "\n",
        "## Learning Objectives:\n",
        "When you complete this lesson you will be able to:\n",
        "Explain the difference between lists, tuples, sets, and dictionaries in Python.\n",
        "Choose the best type of collection for a given task.\n",
        "\n",
        "## Covered in this Notebook:\n",
        "1. Lists\n",
        "2. Tuples\n",
        "3. Sets\n",
        "4. Dictionaries"
      ],
      "metadata": {
        "id": "RQS3ReGu-0yH"
      }
    },
    {
      "cell_type": "markdown",
      "source": [
        "# Lists\n",
        "\n",
        "![image of to-do list](https://github.com/ninja-josh/image-storage/raw/main/thomas-bormans-pcpsVsyFp_s-unsplash.jpg)\n",
        "Photo by Thomas Bormans on Unsplash\n",
        "\n",
        "\n",
        "Lists are one of the most common types of collections in Python.  They are useful because they are ordered and keep their order unless changed explicitly.  On the other hand, they can easily be altered in many ways.\n",
        "\n",
        "Lists are:\n",
        "1. Ordered\n",
        "2. Mutable (changeable)\n",
        "3. Able to hold anything\n",
        "\n",
        "## Pros:\n",
        "1. Lists are ordered and can the order of a list can hold important information in addition to the data stored in it.  Imagine a list of customer names kept in the order they asked for seating in a packed restaurant.  If seating were ‘first come, first served’, then the names of the customers represent one kind of data, and the order they will be seated is another kind.  \n",
        "\n",
        "1. Lists are mutable, that is to say, they can be altered.  Data can be added, removed, changed, or reordered within the list.  Many Python methods (build in functions) exist to perform different operations on lists.  In the example of our list of customers to be seated, we could remove each customer from the beginning of the list when they are seated and add new ones to the end as they arrive.\n",
        "\n",
        "## Cons\n",
        "1. Lists are not computationally efficient.  It takes much more time to access and change data in a list than in more efficient kinds of collections.  This won’t make much difference when you are working with a small amount of data, like lists of customers or business contacts, or competition race times.  However, when we start working with billions of data, using lists will cause a computer to slow to a crawl.\n",
        "\n",
        "2. Lists are not memory efficient.  They take up more space in computer memory than many other kinds of collections, as Python must reserve some space to add more elements as necessary.\n",
        "\n",
        "Lists are created and denoted in Python with square brackets `[ ]` and data stored in them are separated by commas. Other collections can be converted to lists by using the `list()` function.\n",
        "\n",
        "Since lists are ordered, you can retrieve data from them, also called 'indexing' using brackets next to the variable name and an integer corresponding to the ordered position.  (Remember that Python starts counting at 0, so index 1 is the 2nd element)\n"
      ],
      "metadata": {
        "id": "GekZymBLQ24k"
      }
    },
    {
      "cell_type": "code",
      "execution_count": null,
      "metadata": {
        "colab": {
          "base_uri": "https://localhost:8080/"
        },
        "id": "liFrIpPH-yvv",
        "outputId": "bb8942d5-6c37-46a1-ff7c-40df655f8ab5"
      },
      "outputs": [
        {
          "output_type": "stream",
          "name": "stdout",
          "text": [
            "['this', 'is', 'a', 'list', 'of', 'strings']\n",
            "[12, 'frog', ['this', 'is', 'a', 'list', 'in', 'a', 'list'], True, 3.14]\n",
            "['this', 'is', 'a', 'list', 'in', 'a', 'list']\n"
          ]
        }
      ],
      "source": [
        "word_list = ['this', 'is', 'a', 'list', 'of', 'strings']\n",
        "random_list = [12, 'frog', ['this','is','a','list','in','a','list'], True, 3.14]\n",
        "\n",
        "print(word_list)\n",
        "print(random_list)\n",
        "print(random_list[2])"
      ]
    },
    {
      "cell_type": "markdown",
      "source": [
        "You can add items to a list with `list_name.append()`, which always add items to the end of a list.  You can remove items using `list_name.remove()`."
      ],
      "metadata": {
        "id": "NvQfyMWEeBx6"
      }
    },
    {
      "cell_type": "code",
      "source": [
        "word_list.append('longer')\n",
        "print(word_list)\n",
        "\n",
        "word_list.remove('a')\n",
        "print(word_list)"
      ],
      "metadata": {
        "colab": {
          "base_uri": "https://localhost:8080/"
        },
        "id": "IwNsTTpreJbC",
        "outputId": "eb0c2c8a-a9f6-4b6d-b12b-13ddd459c84a"
      },
      "execution_count": null,
      "outputs": [
        {
          "output_type": "stream",
          "name": "stdout",
          "text": [
            "['this', 'is', 'a', 'list', 'of', 'strings', 'longer']\n",
            "['this', 'is', 'list', 'of', 'strings', 'longer']\n"
          ]
        }
      ]
    },
    {
      "cell_type": "code",
      "source": [
        "word_list + random_list"
      ],
      "metadata": {
        "colab": {
          "base_uri": "https://localhost:8080/"
        },
        "id": "juPN1PZW1FMS",
        "outputId": "829e1055-ffae-44e1-d4fd-1069634d65fb"
      },
      "execution_count": null,
      "outputs": [
        {
          "output_type": "execute_result",
          "data": {
            "text/plain": [
              "['this',\n",
              " 'is',\n",
              " 'list',\n",
              " 'of',\n",
              " 'strings',\n",
              " 'longer',\n",
              " 12,\n",
              " 'frog',\n",
              " ['this', 'is', 'a', 'list', 'in', 'a', 'list'],\n",
              " True,\n",
              " 3.14]"
            ]
          },
          "metadata": {},
          "execution_count": 63
        }
      ]
    },
    {
      "cell_type": "markdown",
      "source": [
        "# Tuples\n",
        "\n",
        "![image of safe](https://github.com/ninja-josh/image-storage/raw/main/jason-dent-3wPJxh-piRw-unsplash.jpg)\n",
        "Photo by Jason Dent on Unsplash\n",
        "\n",
        "Tuples are another kind of collection you will run into in Python.  Tuples are similar to lists in some ways and different in others.  They contain data and are ordered and they can store any combination of other objects.  The difference is that tuples can not be changed.  They are immutable.\n",
        "\n",
        "Tuples are:\n",
        "1. Ordered\n",
        "2. Immutable\n",
        "3. Able to hold anything\n",
        "\n",
        "Pros:\n",
        "1. Tuples are ordered.  You can access the first, last, or any other element and they keep their order.  They could hold that list of customers for seating but…\n",
        "\n",
        "2. Tuples cannot be changed once created.  This may seem at first like a bad thing, but there are times you want to make sure that certain data is not being changed.  Tuples are a way to protect a collection of data from being altered.  Once you create your seating list, you would not be able to add new customers or remove them once they were seated.  \n",
        "\n",
        "3. Tuples are slightly more computationally efficient than lists when accessing the data in them, but not a lot.\n",
        "\n",
        "Cons:\n",
        "1. Tuples are immutable.  Yes, this is both a pro and a con.  You can copy a tuple, create a new tuple, or delete a tuple, but you can’t change one once created.\n",
        "\n",
        "2. Tuples are still less computationally efficient for accessing data than some other data types.\n",
        "\n",
        "Tuples can be created using parentheses `( )` and other collections can be converted to a tuple using the `tuple()` function.\n",
        "\n",
        "Since tuples are ordered, they can be accessed like lists, with indices.\n"
      ],
      "metadata": {
        "id": "2ADGz4JGWKwD"
      }
    },
    {
      "cell_type": "code",
      "source": [
        "integer_tuple = (1,2,3,4,5)\n",
        "random_tuple = (1, 'horse', integer_tuple, word_list, False)\n",
        "\n",
        "print(integer_tuple)\n",
        "print(random_tuple)\n",
        "print(tuple(word_list))\n",
        "print(random_tuple[1])"
      ],
      "metadata": {
        "colab": {
          "base_uri": "https://localhost:8080/"
        },
        "id": "oGu1kizcWfna",
        "outputId": "1a6949d8-e601-4cf2-e37b-03abbf287337"
      },
      "execution_count": null,
      "outputs": [
        {
          "output_type": "stream",
          "name": "stdout",
          "text": [
            "(1, 2, 3, 4, 5)\n",
            "(1, 'horse', (1, 2, 3, 4, 5), ['this', 'is', 'list', 'of', 'strings', 'longer'], False)\n",
            "('this', 'is', 'list', 'of', 'strings', 'longer')\n",
            "horse\n"
          ]
        }
      ]
    },
    {
      "cell_type": "code",
      "source": [
        "type(word_list)"
      ],
      "metadata": {
        "colab": {
          "base_uri": "https://localhost:8080/"
        },
        "id": "7ea059yI1tOY",
        "outputId": "8eb184ee-a7c4-4a6d-ab38-2edead40aa3d"
      },
      "execution_count": null,
      "outputs": [
        {
          "output_type": "execute_result",
          "data": {
            "text/plain": [
              "list"
            ]
          },
          "metadata": {},
          "execution_count": 65
        }
      ]
    },
    {
      "cell_type": "markdown",
      "source": [
        "Remember, you cannot add, remove, or change items in a tuple!  However, you can combine tuples into a NEW tuple."
      ],
      "metadata": {
        "id": "YG7Z3rAod8Aj"
      }
    },
    {
      "cell_type": "code",
      "source": [
        "tuple1 = (1,2)\n",
        "tuple2 = (3,4)\n",
        "combined_tuple = tuple1 + tuple2\n",
        "\n",
        "print(tuple1)\n",
        "print(tuple2)\n",
        "print(combined_tuple)"
      ],
      "metadata": {
        "colab": {
          "base_uri": "https://localhost:8080/"
        },
        "id": "euIJndY6xb-t",
        "outputId": "b4792fcf-4e67-498d-c9c4-b15dc06a7227"
      },
      "execution_count": null,
      "outputs": [
        {
          "output_type": "stream",
          "name": "stdout",
          "text": [
            "(1, 2)\n",
            "(3, 4)\n",
            "(1, 2, 3, 4)\n"
          ]
        }
      ]
    },
    {
      "cell_type": "markdown",
      "source": [
        "# Sets\n",
        "\n",
        "![image of jar of colored pencils](https://github.com/ninja-josh/image-storage/raw/main/pierre-bamin-BFvNJXf2rpg-unsplash.jpg)\n",
        "\n",
        "Photo by Pierre Bamin on Unsplash\n",
        "\n",
        "Sets are mutable, unordered collections of data.  They also cannot contain duplicate data.  A set has only one instance of any data inside them and any duplicates are dropped.  They are also very efficient if you want to know whether or not something is inside a set.  \n",
        "\n",
        "Sets are:\n",
        "1. Unordered\n",
        "2. Mutable\n",
        "3. Can hold anything that is \"hashable\" (No lists!)\n",
        "\n",
        "In our restaurant seating example, a set would not retain the order of the customers, however, you could quickly check to see whether a customer was in the set, remove a customer, or add them.  It would also have the property of ensuring that no customers were in the collection more than once!  Or, at least no customers with the same name.\n",
        "\n",
        "## Pros:\n",
        "1. Sets are useful for removing duplicates from other collections.  If you have a list, and you convert it to a set the result will have no duplicates:\n",
        "\n",
        "\n",
        "2. Sets are mutable.  You can add or remove members of a set, though any duplicates will be dropped.\n",
        "\n",
        "3. Sets are computationally efficient to access and change.  It is efficient to check if something is in a set or to add or remove an item from a set.\n",
        "\n",
        "## Cons\n",
        "1. Sets are unordered.  You cannot trust them to protect the order of items inside of them.  \n",
        "\n",
        "2. Sets cannot contain duplicates.  This can be a pro or a con.\n",
        "\n",
        "3. **Sets cannot contain lists!** Sets are a type of collection that is hashable.  This is what makes them so efficient to access.  Hash tables are outside the scope of this lesson, but lists are not hashable and so cannot be stored in a set.  A tuple can be stored in a set…as long as it does not contain a list!\n",
        "\n",
        "Sets are denoted and created by using curly braces `{ }` and you can recast other collections as sets using the function `set()`.  Note that this will delete all duplicate values from the collection:\n",
        "\n"
      ],
      "metadata": {
        "id": "ab_Yv-I7bcky"
      }
    },
    {
      "cell_type": "code",
      "source": [
        "# create some sets\n",
        "float_set = {3.14, 12.0, .0001}\n",
        "random_set = {'pelican', 5, False, (1, 3.14, 42)}\n",
        "\n",
        "print(float_set)\n",
        "print(random_set)"
      ],
      "metadata": {
        "colab": {
          "base_uri": "https://localhost:8080/"
        },
        "id": "FIX8mzsSWicq",
        "outputId": "d756dae1-a729-4aeb-fbc6-d5a4023e9565"
      },
      "execution_count": null,
      "outputs": [
        {
          "output_type": "stream",
          "name": "stdout",
          "text": [
            "{0.0001, 3.14, 12.0}\n",
            "{False, (1, 3.14, 42), 'pelican', 5}\n"
          ]
        }
      ]
    },
    {
      "cell_type": "markdown",
      "source": [
        "Sets can be used to remove duplicates from a collection"
      ],
      "metadata": {
        "id": "K_62y5iHdynR"
      }
    },
    {
      "cell_type": "code",
      "source": [
        "# list with duplicates\n",
        "num_list = [1,1,1,3,3]\n",
        "print('List:', num_list)\n",
        "\n",
        "# convert to set\n",
        "set_list = set(num_list)\n",
        "print('Set:', set_list)"
      ],
      "metadata": {
        "colab": {
          "base_uri": "https://localhost:8080/"
        },
        "id": "50J7KiKZdc2x",
        "outputId": "2178d94d-4122-404c-99db-8e020863513f"
      },
      "execution_count": null,
      "outputs": [
        {
          "output_type": "stream",
          "name": "stdout",
          "text": [
            "List: [1, 1, 1, 3, 3]\n",
            "Set: {1, 3}\n"
          ]
        }
      ]
    },
    {
      "cell_type": "markdown",
      "source": [
        "You can add or remove items from a set using `set_name.add()` and `set_name.remove()`.  Remember that you cannot trust a set to keep items in order!"
      ],
      "metadata": {
        "id": "FkGA-Edcdtwa"
      }
    },
    {
      "cell_type": "code",
      "source": [
        "# adding and removing items from a set\n",
        "\n",
        "# add an item to a set\n",
        "set_list.add(2)\n",
        "\n",
        "print(set_list)\n",
        "\n",
        "# remove an item from a set\n",
        "set_list.remove(1)\n",
        "\n",
        "print(set_list)"
      ],
      "metadata": {
        "colab": {
          "base_uri": "https://localhost:8080/"
        },
        "id": "p-InLwGxdUUT",
        "outputId": "2714ba10-9aff-47b7-e17f-0f48229f3696"
      },
      "execution_count": null,
      "outputs": [
        {
          "output_type": "stream",
          "name": "stdout",
          "text": [
            "{1, 2, 3}\n",
            "{2, 3}\n"
          ]
        }
      ]
    },
    {
      "cell_type": "markdown",
      "source": [
        "# Dictionaries\n",
        "\n",
        "![Image of card catalogue](https://github.com/ninja-josh/image-storage/raw/main/erol-ahmed-Y3KEBQlB1Zk-unsplash.jpg)\n",
        "Photo by Erol Ahmed on Unsplash\n",
        "\n",
        "Dictionaries are one of the most common and powerful types of Python collections, however, they are a little more complicated than lists, tuples, or sets.  Once you’ve mastered them, however, they are a Python Superpower!\n",
        "\n",
        "Dictionaries are:\n",
        "1. Unordered\n",
        "2. Keys are immutable, but values are mutable\n",
        "\n",
        "## Key/Value Pairs\n",
        "\n",
        "They are unordered collections with key/value pairs of data.  You can think of dictionaries as books with a table of contents.  The table of contents is called the ‘keys’ and the chapters they refer to are called the ‘values’.  Every item in the table of contents tells the location of a chapter and every chapter is listed in the table of contents\n",
        "\n",
        "Every key in a dictionary is paired with a value.  You can add and remove data from a dictionary but must do so for both the key and the value. \n",
        "\n",
        "If we wanted to use a dictionary for our restaurant, we could use it to keep track of which table a customer has been seated at.  The keys could be customer names and the values could be the table number they are at.  A server could very quickly see where to find each customer.\n",
        "\n",
        "## Immutable Keys and Mutable Values\n",
        " \n",
        "Keys must be immutable, but values can be mutable. A value can be anything, even another dictionary, but keys can only be immutable types.  An integer, a string, or a tuple could be a key, but a list can not be a key.\n",
        "\n",
        "\n",
        "So remember: \n",
        "### In a dictionary, you use a ‘key’ to access a ‘value’.\n",
        "\n",
        "## Pros\n",
        "Dictionaries are fast.  They are very computationally efficient to access information.\n",
        "\n",
        "## Cons\n",
        "Dictionaries are not ordered.  They will not retain information about the ordering of the keys/value pairs. \n",
        "\n",
        "Dictionaries are denoted and created with curly braces containing key/value pairs {'key':value}.  The keys and values are separated by colons and the pairs are separated by commas.  In some situations you can convert a collection to a dictionary with `.dict()`, but only if key/value pairs are apparent, such as in a list of tuples."
      ],
      "metadata": {
        "id": "jkSz1qFOfu4I"
      }
    },
    {
      "cell_type": "code",
      "source": [
        "# create some dictionaries\n",
        "boolean_dict = {'George': True, \n",
        "                'Ahmed': False, \n",
        "                'Juanita': True}\n",
        "\n",
        "random_dict = {1: 'horse', \n",
        "              (3, 'hello'): [4, 'goodbye'], \n",
        "              'Nested Dictionary': {'Pi': 3.14, \n",
        "                                    'More than pi': 3.15}}\n",
        "\n",
        "print(boolean_dict)\n",
        "print(random_dict)"
      ],
      "metadata": {
        "id": "A3id1TrldI9q",
        "colab": {
          "base_uri": "https://localhost:8080/"
        },
        "outputId": "8851b7d7-9b3d-4ca8-bf18-e88c2f2a5c87"
      },
      "execution_count": null,
      "outputs": [
        {
          "output_type": "stream",
          "name": "stdout",
          "text": [
            "{'George': True, 'Ahmed': False, 'Juanita': True}\n",
            "{1: 'horse', (3, 'hello'): [4, 'goodbye'], 'Nested Dictionary': {'Pi': 3.14, 'More than pi': 3.15}}\n"
          ]
        }
      ]
    },
    {
      "cell_type": "code",
      "source": [
        "# convert a list of tuples to a dictionary\n",
        "\n",
        "tuple1 = ('first key', 1)\n",
        "tuple2 = ('second key', 2)\n",
        "\n",
        "list_of_tuples = [tuple1, tuple2]\n",
        "tuple_dict = dict(list_of_tuples)\n",
        "\n",
        "print(tuple_dict)"
      ],
      "metadata": {
        "colab": {
          "base_uri": "https://localhost:8080/"
        },
        "id": "60IcKwvpfdCM",
        "outputId": "e9d1ed25-a6e7-49cf-932f-14982382f0d9"
      },
      "execution_count": null,
      "outputs": [
        {
          "output_type": "stream",
          "name": "stdout",
          "text": [
            "{'first key': 1, 'second key': 2}\n"
          ]
        }
      ]
    },
    {
      "cell_type": "markdown",
      "source": [
        "Retrieving a value from a dictionary with a key.  You will learn more about how to index into collections in another lesson."
      ],
      "metadata": {
        "id": "A6Zg0OjQgPsJ"
      }
    },
    {
      "cell_type": "code",
      "source": [
        "# print the dictionaries\n",
        "\n",
        "print(boolean_dict['Ahmed'])\n",
        "print(random_dict['Nested Dictionary'])\n",
        "print(random_dict['Nested Dictionary']['Pi'])\n",
        "print(tuple_dict['second key'])"
      ],
      "metadata": {
        "colab": {
          "base_uri": "https://localhost:8080/"
        },
        "id": "tBheSSRGgO-5",
        "outputId": "7148f1d0-c7e8-437c-c8cc-652909158e69"
      },
      "execution_count": null,
      "outputs": [
        {
          "output_type": "stream",
          "name": "stdout",
          "text": [
            "False\n",
            "{'Pi': 3.14, 'More than pi': 3.15}\n",
            "3.14\n",
            "2\n"
          ]
        }
      ]
    },
    {
      "cell_type": "markdown",
      "source": [
        "You can add to a dictionary by defining a new key and setting it to a value.  \n",
        "If the key does not exist, it will be added.\n",
        "\n",
        "If the key already exists, the value associated with it will be changed!"
      ],
      "metadata": {
        "id": "v0hsr3GifxcZ"
      }
    },
    {
      "cell_type": "code",
      "source": [
        "# add a new key/value pair to a dictionary\n",
        "tuple_dict['third key'] = 3\n",
        "print(tuple_dict)\n",
        "\n",
        "# change the value of a dictionary entry\n",
        "tuple_dict['third key'] = 4\n",
        "print(tuple_dict)"
      ],
      "metadata": {
        "colab": {
          "base_uri": "https://localhost:8080/"
        },
        "id": "zaF1Gt4Ff6OK",
        "outputId": "13c6229b-b9bd-46fe-8485-80bccd20d345"
      },
      "execution_count": null,
      "outputs": [
        {
          "output_type": "stream",
          "name": "stdout",
          "text": [
            "{'first key': 1, 'second key': 2, 'third key': 3}\n",
            "{'first key': 1, 'second key': 2, 'third key': 4}\n"
          ]
        }
      ]
    },
    {
      "cell_type": "markdown",
      "source": [
        "# Summary\n",
        "Collections in Python can hold Python objects.  Each kind of collection has some rules about what it can and can’t hold and how it holds it.  Lists, tuples, sets, and dictionaries are some of the basic types of Python collections.  Like other Python object types, they each have their own rules and ways of interacting with them.  Lists are ordered and immutable.  Tuples are ordered and immutable. Sets are unordered, but mutable and cannot contain duplicate values.  Dictionaries are unordered and data is stored as pairs of keys and values where each key points to a value like a table of contents points to a chapter in a book.\n"
      ],
      "metadata": {
        "id": "3NTSolj6gvsZ"
      }
    },
    {
      "cell_type": "markdown",
      "source": [
        "# Optional Challenges"
      ],
      "metadata": {
        "id": "hGp60L020hl7"
      }
    },
    {
      "cell_type": "markdown",
      "source": [
        "1. Create a dictionary of top search trends for 3 different countries.\n",
        "\n",
        "The keys should be the country names and the values should be a list of 3 strings, each a trending search term.\n",
        "\n",
        "You can find this data [HERE](https://trends.google.com/trends/trendingsearches/daily?geo=US).  You can choose countries in the top right under the search bar."
      ],
      "metadata": {
        "id": "x4Kyc2Jy0nZO"
      }
    },
    {
      "cell_type": "code",
      "source": [
        ""
      ],
      "metadata": {
        "id": "2NaNoTi8gnvZ"
      },
      "execution_count": null,
      "outputs": []
    },
    {
      "cell_type": "markdown",
      "source": [
        "2. Add 2 more countries to the same list without remaking it from scratch."
      ],
      "metadata": {
        "id": "9kNVrxZJ2qOy"
      }
    },
    {
      "cell_type": "code",
      "source": [
        ""
      ],
      "metadata": {
        "id": "rpUV9e7x22Xb"
      },
      "execution_count": null,
      "outputs": []
    },
    {
      "cell_type": "markdown",
      "source": [
        "3. Index into your dictionary to retrieve the search terms for one of the countries you chose."
      ],
      "metadata": {
        "id": "c8h7XBPP2287"
      }
    },
    {
      "cell_type": "code",
      "source": [
        ""
      ],
      "metadata": {
        "id": "oiEySzBs2_Yr"
      },
      "execution_count": null,
      "outputs": []
    }
  ]
}