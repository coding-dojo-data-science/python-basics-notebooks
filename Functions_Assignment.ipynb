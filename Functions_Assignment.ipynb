{
  "nbformat": 4,
  "nbformat_minor": 0,
  "metadata": {
    "colab": {
      "name": "Functions Assignment.ipynb",
      "provenance": [],
      "collapsed_sections": [],
      "include_colab_link": true
    },
    "kernelspec": {
      "name": "python3",
      "display_name": "Python 3"
    },
    "language_info": {
      "name": "python"
    }
  },
  "cells": [
    {
      "cell_type": "markdown",
      "metadata": {
        "id": "view-in-github",
        "colab_type": "text"
      },
      "source": [
        "<a href=\"https://colab.research.google.com/github/coding-dojo-data-science/python-basics-notebooks/blob/main/Functions_Assignment.ipynb\" target=\"_parent\"><img src=\"https://colab.research.google.com/assets/colab-badge.svg\" alt=\"Open In Colab\"/></a>"
      ]
    },
    {
      "cell_type": "markdown",
      "source": [
        "# 👩‍🏫 Summarizing ice cream sales data 📈\n",
        "\n",
        "In this assignment you will be working with sales data by date. The first cells will create the data and your tasks will be analyze it and organize it using loops, conditionals, lists, dictionaries and of course Functions."
      ],
      "metadata": {
        "id": "jOePcaF_dlTB"
      }
    },
    {
      "cell_type": "markdown",
      "source": [
        "# Ice Cream Sales Data\n",
        "for the next three questions, you will be working on the dictionary created in the following cell.\n",
        "\n",
        "This will create a dictionary for all sales in 2021 that includes month, the sales id number, and the flavor of ice cream sold.\n",
        "\n",
        "The data structure will be nested dictionaries.  The top layer is a dictionary with months as keys and dictionaries of sales for each month as values.\n",
        "\n",
        "The dictionary of sales will sales id numbers (1, 2, 3...) as keys and the names of flavors, chocolate, mango, or vanilla, as values.\n",
        "\n",
        "**Notice that there are two functions below that create the dictionary.  `create_monthly_sales()` is a helper function that `create_sales_data()` can use to create data for each month in the dataset.  Functions are often used inside other functions in Python.**"
      ],
      "metadata": {
        "id": "4qCHuR323Ylj"
      }
    },
    {
      "cell_type": "code",
      "source": [
        "# We will create a dictionary of months where each key is a month and each\n",
        "# Value will be another dictionary of sales.  Each key of the monthly sales\n",
        "# will be a sales id and each value will be a flavor sold.\n",
        "\n",
        "import random\n",
        "random.seed(53)\n",
        "\n",
        "# List of months\n",
        "months = ['Jan','Feb','Mar','Apr','May','Jun','Jul','Aug','Sept','Oct','Nov','Dec']\n",
        "\n",
        "# 100 sales per month\n",
        "sale_ids = range(1,100)\n",
        "\n",
        "# list of flavors\n",
        "flavors = ['vanilla','chocolate','mango']\n",
        "\n",
        "def create_monthly_sales(sales_ids, flavors):\n",
        "  \"\"\"Creates a list of monthly sales of the form of a dictionary where the keys\n",
        "  are the sales ids in sales_ids and each value is random flavor from flavors\n",
        "  \"\"\"\n",
        "\n",
        "  # create an empty monthly list of sales\n",
        "  month_sales = {}\n",
        "  \n",
        "  # Loop through sales ides\n",
        "  for sale_id in sale_ids:\n",
        "  \n",
        "    # assign a random flavor sold for that sale from the list of flavors\n",
        "    random_sale = random.randint(0, len(flavors) - 1)\n",
        "  \n",
        "    # add the flavor to the dictionary of monthly_sales\n",
        "    month_sales[sale_id] = flavors[random_sale]\n",
        "  return month_sales\n",
        "\n",
        "def create_sales_data(months, flavors, sale_ids):\n",
        "  \"\"\"create a dictionary of sales by month.  The keys will be months\n",
        "  and each value will be a dictionary of sales for that month\"\"\"\n",
        "\n",
        "  # Create an empty list of sales\n",
        "  sales = {}\n",
        "  \n",
        "  # Loop through the months\n",
        "  for month in months:\n",
        "  \n",
        "    # For each month, use a helper function to create a dictionary of \n",
        "    # sales for the month\n",
        "    # keys of each dictionary will be a sale_id and values will be a flavor sold\n",
        "    # add the dictionary of sales for this month to the sales dictionary\n",
        "    sales[month] = create_monthly_sales(sale_ids, flavors)\n",
        "  \n",
        "  # return the dictionary of sales\n",
        "  return sales\n",
        "\n",
        "# inpect the dictionary.  Notice there are 12 dictionaries inside the sales\n",
        "# dictionary.  one dictionary for each month.\n",
        "sales = create_sales_data(months, flavors, sale_ids)\n",
        "sales"
      ],
      "metadata": {
        "id": "8_SjmFxGCz_G"
      },
      "execution_count": null,
      "outputs": []
    },
    {
      "cell_type": "markdown",
      "source": [
        "# Task 1\n",
        "Your supervisor wants to know how many of each flavor was sold during 2021.\n",
        "\n",
        "\n",
        "- Create a function that calculates total sales for each flavour and return 3 numbers (Total sales for Vanilla, Choclate and Mango)\n",
        "\n",
        "- This function will have only one parameter which is the `Sales` dictionary.\n",
        "\n",
        "Use a loop to sum each flavour in a separate variable and return these 3 variables.\n",
        "\n",
        "## Hints: \n",
        "\n",
        "- Even though a dictionary is not ordered, you can iterate over it by iterating over it's keys, `dict.keys()`. \n",
        "\n",
        "- Remember that the data structure is a dictionary of dictionaries.  You'll need nested loops, a loop in a loop, in order to access all of the key/value pairs in each monthly dictionary inside the `sales` dictionary.\n",
        "\n",
        "- Remember that you can index twice to access a nested collection.  `sales[month][sale_number]` will return the flavor string for a particular sale during a particular moneth.  For instance, `sales['Sept'][3]` will return `chocolate`\n",
        "\n",
        "- Python has a shortcut for adding a number to a variable:\n",
        "  - `sum += value` will add `value` to `sum`\n",
        "  - using this in a for loop will keep adding each new `value` to the `sum`\n",
        "\n",
        "If your code works correctly, you should end up with 415 vanilla, 392 chocolate, and 381 mango."
      ],
      "metadata": {
        "id": "jpYoG6dYXHHV"
      }
    },
    {
      "cell_type": "code",
      "source": [
        "def flavor_total(sales):\n",
        "  # Your code goes here\n"
      ],
      "metadata": {
        "id": "WIPmHZHObCgI"
      },
      "execution_count": null,
      "outputs": []
    },
    {
      "cell_type": "code",
      "source": [
        "flavor_total(sales)"
      ],
      "metadata": {
        "id": "VyLq5yb6a63_"
      },
      "execution_count": null,
      "outputs": []
    },
    {
      "cell_type": "markdown",
      "source": [
        "# Task 2\n",
        "Your supervisor was impressed with your last function, but now would like to be able to break it down by one or more flavors and during only certain months to be able to make more targeted reports.\n",
        "\n",
        "- Create a function that takes 3 arguments, a dictionary of sales, a list of flavors and a list of months.  The function should return total number of sales for the flavors during the months.  This should be one integer.\n",
        "\n",
        "\n",
        "- This function should have a flavor parameter and it's default value would be `None`.  If flavor == None, the function returns the total combined number of sales for each month.\n",
        "\n",
        "\n",
        "- This function should have a month parameter and it's default value would be None.  If month==None, the function returns the number of sales for for the given flavor for all months combined.\n",
        "\n",
        "\n",
        "- If both default arguments are None, the function returns the total number of sales of all flavors for all months.\n",
        "\n",
        "\n",
        "## Hints: \n",
        "\n",
        "- If you want a conditional to return True if a a variable == None, you can use `if not flavor:` or `if not month:` as your conditional phrase.\n",
        "- You can retrieve a list of all months usings the `sales.keys()`.\n",
        "- You'll need 3 nested loops, one over months, one over flavors, and one over each sale in each month.  \n",
        "- Remember you are only returning a single number, so you need a single variable that keeps track of the number of sales as your function counts them."
      ],
      "metadata": {
        "id": "3uBqIrFqyvVh"
      }
    },
    {
      "cell_type": "code",
      "source": [
        "def flavor_sales(sales, flavors = None, months = None):\n",
        "  # Your Code Here\n"
      ],
      "metadata": {
        "id": "SxgyToxYw8ZI"
      },
      "execution_count": null,
      "outputs": []
    },
    {
      "cell_type": "code",
      "source": [
        "flavor_sales(sales, flavors=None, months=['Sept', 'Oct'])"
      ],
      "metadata": {
        "id": "TAUQL4SjcZ37"
      },
      "execution_count": null,
      "outputs": []
    },
    {
      "cell_type": "markdown",
      "source": [
        "# Bonus Task\n",
        "You supervisor is curious about which months were the best for selling specific kinds of ice cream.  They don't want to go through all of the work of running the previous function over and over to figure it out and want you to create a function where they can just see which month sold the most of a specific given flavor.\n",
        "\n",
        "\n",
        "* In this task you will create a function that takes the sales dictionary and the name of a flavor and returns the month that had the greatest number of sales of that flavor.\n",
        "\n",
        "## Hints:\n",
        "- In this kind of problem it's helpful to keep track of a few variables.  \n",
        "  - The name of the best best month so far\n",
        "  - The number of sales in the best month so far\n",
        "  - The current month.\n",
        "  - the number of sales in the current month\n",
        "\n",
        "  If the current month sells more of that flavor than the best month so far, the current month becomes the best month and the number of sales in the best month becomes the number of sales in the current month.\n",
        "\n",
        "- You can use the function in Task 2 to count the sales for a particular flavor for a particular month.  Your new function can call the previous function.  Remember that the function above is expecting lists, not strings.\n",
        "\n",
        "If you code this correctly:\n",
        "* The best month for 'chocolate' will be 'May'\n",
        "* The best month for 'vanilla' will be 'Jun'\n",
        "* the best month for 'mango' will be 'Aug'\n"
      ],
      "metadata": {
        "id": "2oVELMX_FqUN"
      }
    },
    {
      "cell_type": "code",
      "source": [
        "def BestMonth(sales, flavor):\n",
        "  # Your Code Here"
      ],
      "metadata": {
        "id": "bF2M7mXHFuHb"
      },
      "execution_count": null,
      "outputs": []
    },
    {
      "cell_type": "code",
      "source": [
        "BestMonth(sales, 'mango')"
      ],
      "metadata": {
        "id": "Q6gv1RO-UWu5"
      },
      "execution_count": null,
      "outputs": []
    },
    {
      "cell_type": "markdown",
      "source": [
        "# Congratulations!\n",
        "\n",
        "Your boss at the Ice Cream Store is very pleased with your code and has been making regular use of your functions to create his monthly and yearly reports.  Nice work!"
      ],
      "metadata": {
        "id": "Ce9YIzspgEpe"
      }
    },
    {
      "cell_type": "code",
      "source": [
        ""
      ],
      "metadata": {
        "id": "A0cOcMiNgPPy"
      },
      "execution_count": null,
      "outputs": []
    }
  ]
}